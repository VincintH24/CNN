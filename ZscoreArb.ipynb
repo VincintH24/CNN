{
 "cells": [
  {
   "cell_type": "code",
   "execution_count": 18,
   "id": "c0e22993-9679-463c-9dfd-9265756c4468",
   "metadata": {},
   "outputs": [
    {
     "name": "stdout",
     "output_type": "stream",
     "text": [
      "Hourly Sharpe Ratio 1.9267643620582455\n",
      "Current Balance 11039.784899629969\n",
      "Starting Balance 10000\n",
      "Net Return 1.103978489962997\n",
      "Winrate 76.47058823529412\n"
     ]
    },
    {
     "data": {
      "application/vnd.plotly.v1+json": {
       "config": {
        "plotlyServerURL": "https://plot.ly"
       },
       "data": [
        {
         "hovertemplate": "variable=ELFUSDT<br>Date=%{x}<br>value=%{y}<extra></extra>",
         "legendgroup": "ELFUSDT",
         "line": {
          "color": "#636efa",
          "dash": "solid"
         },
         "marker": {
          "symbol": "circle"
         },
         "mode": "lines",
         "name": "ELFUSDT",
         "orientation": "v",
         "showlegend": true,
         "type": "scatter",
         "x": [
          "2022-06-05T00:00:00",
          "2022-06-05T01:00:00",
          "2022-06-05T02:00:00",
          "2022-06-05T03:00:00",
          "2022-06-05T04:00:00",
          "2022-06-05T05:00:00",
          "2022-06-05T06:00:00",
          "2022-06-05T07:00:00",
          "2022-06-05T08:00:00",
          "2022-06-05T09:00:00",
          "2022-06-05T10:00:00",
          "2022-06-05T11:00:00",
          "2022-06-05T12:00:00",
          "2022-06-05T13:00:00",
          "2022-06-05T14:00:00",
          "2022-06-05T15:00:00",
          "2022-06-05T16:00:00",
          "2022-06-05T17:00:00",
          "2022-06-05T18:00:00",
          "2022-06-05T19:00:00",
          "2022-06-05T20:00:00",
          "2022-06-05T21:00:00",
          "2022-06-05T22:00:00",
          "2022-06-05T23:00:00",
          "2022-06-06T00:00:00",
          "2022-06-06T01:00:00",
          "2022-06-06T02:00:00",
          "2022-06-06T03:00:00",
          "2022-06-06T04:00:00",
          "2022-06-06T05:00:00",
          "2022-06-06T06:00:00",
          "2022-06-06T07:00:00",
          "2022-06-06T08:00:00",
          "2022-06-06T09:00:00",
          "2022-06-06T10:00:00",
          "2022-06-06T11:00:00",
          "2022-06-06T12:00:00",
          "2022-06-06T13:00:00",
          "2022-06-06T14:00:00",
          "2022-06-06T15:00:00",
          "2022-06-06T16:00:00",
          "2022-06-06T17:00:00",
          "2022-06-06T18:00:00",
          "2022-06-06T19:00:00",
          "2022-06-06T20:00:00",
          "2022-06-06T21:00:00",
          "2022-06-06T22:00:00",
          "2022-06-06T23:00:00",
          "2022-06-07T00:00:00",
          "2022-06-07T01:00:00",
          "2022-06-07T02:00:00",
          "2022-06-07T03:00:00",
          "2022-06-07T04:00:00",
          "2022-06-07T05:00:00",
          "2022-06-07T06:00:00",
          "2022-06-07T07:00:00",
          "2022-06-07T08:00:00",
          "2022-06-07T09:00:00",
          "2022-06-07T10:00:00",
          "2022-06-07T11:00:00",
          "2022-06-07T12:00:00",
          "2022-06-07T13:00:00",
          "2022-06-07T14:00:00",
          "2022-06-07T15:00:00",
          "2022-06-07T16:00:00",
          "2022-06-07T17:00:00",
          "2022-06-07T18:00:00",
          "2022-06-07T19:00:00",
          "2022-06-07T20:00:00",
          "2022-06-07T21:00:00",
          "2022-06-07T22:00:00",
          "2022-06-07T23:00:00",
          "2022-06-08T00:00:00",
          "2022-06-08T01:00:00",
          "2022-06-08T02:00:00",
          "2022-06-08T03:00:00",
          "2022-06-08T04:00:00",
          "2022-06-08T05:00:00",
          "2022-06-08T06:00:00",
          "2022-06-08T07:00:00",
          "2022-06-08T08:00:00",
          "2022-06-08T09:00:00",
          "2022-06-08T10:00:00",
          "2022-06-08T11:00:00",
          "2022-06-08T12:00:00",
          "2022-06-08T13:00:00",
          "2022-06-08T14:00:00",
          "2022-06-08T15:00:00",
          "2022-06-08T16:00:00",
          "2022-06-08T17:00:00",
          "2022-06-08T18:00:00",
          "2022-06-08T19:00:00",
          "2022-06-08T20:00:00",
          "2022-06-08T21:00:00",
          "2022-06-08T22:00:00",
          "2022-06-08T23:00:00",
          "2022-06-09T00:00:00",
          "2022-06-09T01:00:00",
          "2022-06-09T02:00:00",
          "2022-06-09T03:00:00",
          "2022-06-09T04:00:00",
          "2022-06-09T05:00:00",
          "2022-06-09T06:00:00",
          "2022-06-09T07:00:00",
          "2022-06-09T08:00:00",
          "2022-06-09T09:00:00",
          "2022-06-09T10:00:00",
          "2022-06-09T11:00:00",
          "2022-06-09T12:00:00",
          "2022-06-09T13:00:00",
          "2022-06-09T14:00:00",
          "2022-06-09T15:00:00",
          "2022-06-09T16:00:00",
          "2022-06-09T17:00:00",
          "2022-06-09T18:00:00",
          "2022-06-09T19:00:00",
          "2022-06-09T20:00:00",
          "2022-06-09T21:00:00",
          "2022-06-09T22:00:00",
          "2022-06-09T23:00:00",
          "2022-06-10T00:00:00",
          "2022-06-10T01:00:00",
          "2022-06-10T02:00:00",
          "2022-06-10T03:00:00",
          "2022-06-10T04:00:00",
          "2022-06-10T05:00:00",
          "2022-06-10T06:00:00",
          "2022-06-10T07:00:00",
          "2022-06-10T08:00:00",
          "2022-06-10T09:00:00",
          "2022-06-10T10:00:00",
          "2022-06-10T11:00:00",
          "2022-06-10T12:00:00",
          "2022-06-10T13:00:00",
          "2022-06-10T14:00:00",
          "2022-06-10T15:00:00",
          "2022-06-10T16:00:00",
          "2022-06-10T17:00:00",
          "2022-06-10T18:00:00",
          "2022-06-10T19:00:00",
          "2022-06-10T20:00:00",
          "2022-06-10T21:00:00",
          "2022-06-10T22:00:00",
          "2022-06-10T23:00:00",
          "2022-06-11T00:00:00",
          "2022-06-11T01:00:00",
          "2022-06-11T02:00:00",
          "2022-06-11T03:00:00",
          "2022-06-11T04:00:00",
          "2022-06-11T05:00:00",
          "2022-06-11T06:00:00",
          "2022-06-11T07:00:00",
          "2022-06-11T08:00:00",
          "2022-06-11T09:00:00",
          "2022-06-11T10:00:00",
          "2022-06-11T11:00:00",
          "2022-06-11T12:00:00",
          "2022-06-11T13:00:00",
          "2022-06-11T14:00:00",
          "2022-06-11T15:00:00",
          "2022-06-11T16:00:00",
          "2022-06-11T17:00:00",
          "2022-06-11T18:00:00",
          "2022-06-11T19:00:00",
          "2022-06-11T20:00:00",
          "2022-06-11T21:00:00",
          "2022-06-11T22:00:00",
          "2022-06-11T23:00:00",
          "2022-06-12T00:00:00",
          "2022-06-12T01:00:00",
          "2022-06-12T02:00:00",
          "2022-06-12T03:00:00",
          "2022-06-12T04:00:00",
          "2022-06-12T05:00:00",
          "2022-06-12T06:00:00",
          "2022-06-12T07:00:00",
          "2022-06-12T08:00:00",
          "2022-06-12T09:00:00",
          "2022-06-12T10:00:00",
          "2022-06-12T11:00:00",
          "2022-06-12T12:00:00",
          "2022-06-12T13:00:00",
          "2022-06-12T14:00:00",
          "2022-06-12T15:00:00",
          "2022-06-12T16:00:00",
          "2022-06-12T17:00:00",
          "2022-06-12T18:00:00",
          "2022-06-12T19:00:00",
          "2022-06-12T20:00:00",
          "2022-06-12T21:00:00",
          "2022-06-12T22:00:00",
          "2022-06-12T23:00:00",
          "2022-06-13T00:00:00",
          "2022-06-13T01:00:00",
          "2022-06-13T02:00:00",
          "2022-06-13T03:00:00",
          "2022-06-13T04:00:00",
          "2022-06-13T05:00:00",
          "2022-06-13T06:00:00",
          "2022-06-13T07:00:00",
          "2022-06-13T08:00:00",
          "2022-06-13T09:00:00",
          "2022-06-13T10:00:00",
          "2022-06-13T11:00:00",
          "2022-06-13T12:00:00",
          "2022-06-13T13:00:00",
          "2022-06-13T14:00:00",
          "2022-06-13T15:00:00",
          "2022-06-13T16:00:00",
          "2022-06-13T17:00:00",
          "2022-06-13T18:00:00",
          "2022-06-13T19:00:00",
          "2022-06-13T20:00:00",
          "2022-06-13T21:00:00",
          "2022-06-13T22:00:00",
          "2022-06-13T23:00:00",
          "2022-06-14T00:00:00",
          "2022-06-14T01:00:00",
          "2022-06-14T02:00:00",
          "2022-06-14T03:00:00",
          "2022-06-14T04:00:00",
          "2022-06-14T05:00:00",
          "2022-06-14T06:00:00",
          "2022-06-14T07:00:00",
          "2022-06-14T08:00:00",
          "2022-06-14T09:00:00",
          "2022-06-14T10:00:00",
          "2022-06-14T11:00:00",
          "2022-06-14T12:00:00",
          "2022-06-14T13:00:00",
          "2022-06-14T14:00:00",
          "2022-06-14T15:00:00",
          "2022-06-14T16:00:00",
          "2022-06-14T17:00:00",
          "2022-06-14T18:00:00",
          "2022-06-14T19:00:00",
          "2022-06-14T20:00:00",
          "2022-06-14T21:00:00",
          "2022-06-14T22:00:00",
          "2022-06-14T23:00:00",
          "2022-06-15T00:00:00",
          "2022-06-15T01:00:00",
          "2022-06-15T02:00:00",
          "2022-06-15T03:00:00",
          "2022-06-15T04:00:00",
          "2022-06-15T05:00:00",
          "2022-06-15T06:00:00",
          "2022-06-15T07:00:00",
          "2022-06-15T08:00:00",
          "2022-06-15T09:00:00",
          "2022-06-15T10:00:00",
          "2022-06-15T11:00:00",
          "2022-06-15T12:00:00",
          "2022-06-15T13:00:00",
          "2022-06-15T14:00:00",
          "2022-06-15T15:00:00",
          "2022-06-15T16:00:00",
          "2022-06-15T17:00:00",
          "2022-06-15T18:00:00",
          "2022-06-15T19:00:00",
          "2022-06-15T20:00:00",
          "2022-06-15T21:00:00",
          "2022-06-15T22:00:00",
          "2022-06-15T23:00:00",
          "2022-06-16T00:00:00",
          "2022-06-16T01:00:00",
          "2022-06-16T02:00:00",
          "2022-06-16T03:00:00",
          "2022-06-16T04:00:00",
          "2022-06-16T05:00:00",
          "2022-06-16T06:00:00",
          "2022-06-16T07:00:00",
          "2022-06-16T08:00:00",
          "2022-06-16T09:00:00",
          "2022-06-16T10:00:00",
          "2022-06-16T11:00:00",
          "2022-06-16T12:00:00",
          "2022-06-16T13:00:00",
          "2022-06-16T14:00:00",
          "2022-06-16T15:00:00",
          "2022-06-16T16:00:00",
          "2022-06-16T17:00:00",
          "2022-06-16T18:00:00",
          "2022-06-16T19:00:00",
          "2022-06-16T20:00:00",
          "2022-06-16T21:00:00",
          "2022-06-16T22:00:00",
          "2022-06-16T23:00:00",
          "2022-06-17T00:00:00",
          "2022-06-17T01:00:00",
          "2022-06-17T02:00:00",
          "2022-06-17T03:00:00",
          "2022-06-17T04:00:00",
          "2022-06-17T05:00:00",
          "2022-06-17T06:00:00",
          "2022-06-17T07:00:00",
          "2022-06-17T08:00:00",
          "2022-06-17T09:00:00",
          "2022-06-17T10:00:00",
          "2022-06-17T11:00:00",
          "2022-06-17T12:00:00",
          "2022-06-17T13:00:00",
          "2022-06-17T14:00:00",
          "2022-06-17T15:00:00",
          "2022-06-17T16:00:00",
          "2022-06-17T17:00:00",
          "2022-06-17T18:00:00",
          "2022-06-17T19:00:00",
          "2022-06-17T20:00:00",
          "2022-06-17T21:00:00",
          "2022-06-17T22:00:00",
          "2022-06-17T23:00:00",
          "2022-06-18T00:00:00",
          "2022-06-18T01:00:00",
          "2022-06-18T02:00:00",
          "2022-06-18T03:00:00",
          "2022-06-18T04:00:00",
          "2022-06-18T05:00:00",
          "2022-06-18T06:00:00",
          "2022-06-18T07:00:00",
          "2022-06-18T08:00:00",
          "2022-06-18T09:00:00",
          "2022-06-18T10:00:00",
          "2022-06-18T11:00:00",
          "2022-06-18T12:00:00",
          "2022-06-18T13:00:00",
          "2022-06-18T14:00:00",
          "2022-06-18T15:00:00",
          "2022-06-18T16:00:00",
          "2022-06-18T17:00:00",
          "2022-06-18T18:00:00",
          "2022-06-18T19:00:00",
          "2022-06-18T20:00:00",
          "2022-06-18T21:00:00",
          "2022-06-18T22:00:00",
          "2022-06-18T23:00:00",
          "2022-06-19T00:00:00"
         ],
         "xaxis": "x",
         "y": [
          0.1728,
          0.17,
          0.1697,
          0.1693,
          0.1693,
          0.1696,
          0.1689,
          0.1705,
          0.1717,
          0.171,
          0.1744,
          0.1714,
          0.1759,
          0.1906,
          0.1802,
          0.1782,
          0.1807,
          0.1815,
          0.1835,
          0.1812,
          0.1787,
          0.1801,
          0.1877,
          0.1885,
          0.1813,
          0.184,
          0.1839,
          0.1845,
          0.184,
          0.1843,
          0.1884,
          0.1959,
          0.1904,
          0.1908,
          0.1901,
          0.1867,
          0.1882,
          0.1857,
          0.1855,
          0.184,
          0.1826,
          0.188,
          0.1865,
          0.1872,
          0.1879,
          0.188,
          0.1876,
          0.1901,
          0.1817,
          0.1794,
          0.1783,
          0.181,
          0.1804,
          0.1797,
          0.1783,
          0.1784,
          0.1803,
          0.1783,
          0.1772,
          0.175,
          0.1738,
          0.1748,
          0.1777,
          0.1769,
          0.1786,
          0.1797,
          0.181,
          0.1821,
          0.1815,
          0.1815,
          0.1796,
          0.1813,
          0.1792,
          0.1795,
          0.1796,
          0.1767,
          0.1767,
          0.178,
          0.177,
          0.1764,
          0.1764,
          0.1767,
          0.1763,
          0.1773,
          0.1759,
          0.1784,
          0.1765,
          0.176,
          0.1759,
          0.1762,
          0.1756,
          0.1747,
          0.1734,
          0.1744,
          0.1737,
          0.1747,
          0.1746,
          0.1742,
          0.1736,
          0.174,
          0.1739,
          0.1745,
          0.1745,
          0.1754,
          0.1759,
          0.1757,
          0.1888,
          0.178,
          0.1768,
          0.1778,
          0.1774,
          0.1775,
          0.1774,
          0.1774,
          0.1777,
          0.1767,
          0.1771,
          0.1758,
          0.1764,
          0.1767,
          0.1735,
          0.1731,
          0.1736,
          0.1734,
          0.1735,
          0.1744,
          0.1741,
          0.1791,
          0.1746,
          0.1712,
          0.1707,
          0.1705,
          0.1643,
          0.1618,
          0.1636,
          0.1625,
          0.162,
          0.1608,
          0.1605,
          0.1608,
          0.1636,
          0.1639,
          0.1639,
          0.1626,
          0.1641,
          0.1641,
          0.1642,
          0.164,
          0.1646,
          0.1642,
          0.1651,
          0.1662,
          0.1611,
          0.1621,
          0.1599,
          0.1565,
          0.1537,
          0.1556,
          0.1494,
          0.1483,
          0.1472,
          0.1486,
          0.1506,
          0.1509,
          0.1489,
          0.1522,
          0.1523,
          0.1501,
          0.1496,
          0.1439,
          0.1395,
          0.1411,
          0.141,
          0.1385,
          0.1418,
          0.1425,
          0.1427,
          0.1413,
          0.1412,
          0.142,
          0.1423,
          0.14,
          0.1449,
          0.1469,
          0.1461,
          0.1468,
          0.1458,
          0.144,
          0.1441,
          0.1429,
          0.1408,
          0.1365,
          0.1393,
          0.1323,
          0.1305,
          0.1306,
          0.13,
          0.1281,
          0.1288,
          0.125,
          0.122,
          0.1235,
          0.1231,
          0.1233,
          0.1229,
          0.1243,
          0.122,
          0.1249,
          0.1271,
          0.1274,
          0.1272,
          0.1258,
          0.1264,
          0.1245,
          0.1217,
          0.1248,
          0.1202,
          0.1184,
          0.1219,
          0.1242,
          0.1236,
          0.1269,
          0.1267,
          0.1265,
          0.1249,
          0.1236,
          0.1246,
          0.1233,
          0.1248,
          0.1267,
          0.1256,
          0.1276,
          0.1258,
          0.1247,
          0.1244,
          0.1243,
          0.1235,
          0.1217,
          0.1229,
          0.1248,
          0.1229,
          0.1251,
          0.1236,
          0.1224,
          0.1225,
          0.1241,
          0.1244,
          0.1217,
          0.1219,
          0.1227,
          0.1256,
          0.1304,
          0.1289,
          0.1319,
          0.1314,
          0.13,
          0.1245,
          0.1268,
          0.1289,
          0.1308,
          0.1317,
          0.1326,
          0.1328,
          0.1346,
          0.1347,
          0.1335,
          0.1341,
          0.1343,
          0.135,
          0.1377,
          0.1376,
          0.1368,
          0.1341,
          0.13,
          0.1296,
          0.1301,
          0.1317,
          0.1323,
          0.1312,
          0.1327,
          0.1347,
          0.1334,
          0.133,
          0.131,
          0.1329,
          0.132,
          0.1284,
          0.13,
          0.1307,
          0.1338,
          0.1333,
          0.132,
          0.1346,
          0.1353,
          0.1357,
          0.1358,
          0.1365,
          0.1398,
          0.1384,
          0.1367,
          0.1338,
          0.135,
          0.133,
          0.1338,
          0.1336,
          0.1334,
          0.1333,
          0.1336,
          0.1354,
          0.1352,
          0.1353,
          0.1356,
          0.1356,
          0.1334,
          0.1335,
          0.1342,
          0.1348,
          0.1345,
          0.1272,
          0.1246,
          0.1246,
          0.1256,
          0.127,
          0.1237,
          0.1231,
          0.1235,
          0.123,
          0.1233,
          0.1225,
          0.1224,
          0.1208,
          0.12,
          0.1204,
          0.1236,
          0.1277,
          0.1281,
          0.1283
         ],
         "yaxis": "y"
        }
       ],
       "layout": {
        "autosize": true,
        "legend": {
         "title": {
          "text": "variable"
         },
         "tracegroupgap": 0
        },
        "margin": {
         "t": 60
        },
        "template": {
         "data": {
          "bar": [
           {
            "error_x": {
             "color": "#2a3f5f"
            },
            "error_y": {
             "color": "#2a3f5f"
            },
            "marker": {
             "line": {
              "color": "#E5ECF6",
              "width": 0.5
             },
             "pattern": {
              "fillmode": "overlay",
              "size": 10,
              "solidity": 0.2
             }
            },
            "type": "bar"
           }
          ],
          "barpolar": [
           {
            "marker": {
             "line": {
              "color": "#E5ECF6",
              "width": 0.5
             },
             "pattern": {
              "fillmode": "overlay",
              "size": 10,
              "solidity": 0.2
             }
            },
            "type": "barpolar"
           }
          ],
          "carpet": [
           {
            "aaxis": {
             "endlinecolor": "#2a3f5f",
             "gridcolor": "white",
             "linecolor": "white",
             "minorgridcolor": "white",
             "startlinecolor": "#2a3f5f"
            },
            "baxis": {
             "endlinecolor": "#2a3f5f",
             "gridcolor": "white",
             "linecolor": "white",
             "minorgridcolor": "white",
             "startlinecolor": "#2a3f5f"
            },
            "type": "carpet"
           }
          ],
          "choropleth": [
           {
            "colorbar": {
             "outlinewidth": 0,
             "ticks": ""
            },
            "type": "choropleth"
           }
          ],
          "contour": [
           {
            "colorbar": {
             "outlinewidth": 0,
             "ticks": ""
            },
            "colorscale": [
             [
              0,
              "#0d0887"
             ],
             [
              0.1111111111111111,
              "#46039f"
             ],
             [
              0.2222222222222222,
              "#7201a8"
             ],
             [
              0.3333333333333333,
              "#9c179e"
             ],
             [
              0.4444444444444444,
              "#bd3786"
             ],
             [
              0.5555555555555556,
              "#d8576b"
             ],
             [
              0.6666666666666666,
              "#ed7953"
             ],
             [
              0.7777777777777778,
              "#fb9f3a"
             ],
             [
              0.8888888888888888,
              "#fdca26"
             ],
             [
              1,
              "#f0f921"
             ]
            ],
            "type": "contour"
           }
          ],
          "contourcarpet": [
           {
            "colorbar": {
             "outlinewidth": 0,
             "ticks": ""
            },
            "type": "contourcarpet"
           }
          ],
          "heatmap": [
           {
            "colorbar": {
             "outlinewidth": 0,
             "ticks": ""
            },
            "colorscale": [
             [
              0,
              "#0d0887"
             ],
             [
              0.1111111111111111,
              "#46039f"
             ],
             [
              0.2222222222222222,
              "#7201a8"
             ],
             [
              0.3333333333333333,
              "#9c179e"
             ],
             [
              0.4444444444444444,
              "#bd3786"
             ],
             [
              0.5555555555555556,
              "#d8576b"
             ],
             [
              0.6666666666666666,
              "#ed7953"
             ],
             [
              0.7777777777777778,
              "#fb9f3a"
             ],
             [
              0.8888888888888888,
              "#fdca26"
             ],
             [
              1,
              "#f0f921"
             ]
            ],
            "type": "heatmap"
           }
          ],
          "heatmapgl": [
           {
            "colorbar": {
             "outlinewidth": 0,
             "ticks": ""
            },
            "colorscale": [
             [
              0,
              "#0d0887"
             ],
             [
              0.1111111111111111,
              "#46039f"
             ],
             [
              0.2222222222222222,
              "#7201a8"
             ],
             [
              0.3333333333333333,
              "#9c179e"
             ],
             [
              0.4444444444444444,
              "#bd3786"
             ],
             [
              0.5555555555555556,
              "#d8576b"
             ],
             [
              0.6666666666666666,
              "#ed7953"
             ],
             [
              0.7777777777777778,
              "#fb9f3a"
             ],
             [
              0.8888888888888888,
              "#fdca26"
             ],
             [
              1,
              "#f0f921"
             ]
            ],
            "type": "heatmapgl"
           }
          ],
          "histogram": [
           {
            "marker": {
             "pattern": {
              "fillmode": "overlay",
              "size": 10,
              "solidity": 0.2
             }
            },
            "type": "histogram"
           }
          ],
          "histogram2d": [
           {
            "colorbar": {
             "outlinewidth": 0,
             "ticks": ""
            },
            "colorscale": [
             [
              0,
              "#0d0887"
             ],
             [
              0.1111111111111111,
              "#46039f"
             ],
             [
              0.2222222222222222,
              "#7201a8"
             ],
             [
              0.3333333333333333,
              "#9c179e"
             ],
             [
              0.4444444444444444,
              "#bd3786"
             ],
             [
              0.5555555555555556,
              "#d8576b"
             ],
             [
              0.6666666666666666,
              "#ed7953"
             ],
             [
              0.7777777777777778,
              "#fb9f3a"
             ],
             [
              0.8888888888888888,
              "#fdca26"
             ],
             [
              1,
              "#f0f921"
             ]
            ],
            "type": "histogram2d"
           }
          ],
          "histogram2dcontour": [
           {
            "colorbar": {
             "outlinewidth": 0,
             "ticks": ""
            },
            "colorscale": [
             [
              0,
              "#0d0887"
             ],
             [
              0.1111111111111111,
              "#46039f"
             ],
             [
              0.2222222222222222,
              "#7201a8"
             ],
             [
              0.3333333333333333,
              "#9c179e"
             ],
             [
              0.4444444444444444,
              "#bd3786"
             ],
             [
              0.5555555555555556,
              "#d8576b"
             ],
             [
              0.6666666666666666,
              "#ed7953"
             ],
             [
              0.7777777777777778,
              "#fb9f3a"
             ],
             [
              0.8888888888888888,
              "#fdca26"
             ],
             [
              1,
              "#f0f921"
             ]
            ],
            "type": "histogram2dcontour"
           }
          ],
          "mesh3d": [
           {
            "colorbar": {
             "outlinewidth": 0,
             "ticks": ""
            },
            "type": "mesh3d"
           }
          ],
          "parcoords": [
           {
            "line": {
             "colorbar": {
              "outlinewidth": 0,
              "ticks": ""
             }
            },
            "type": "parcoords"
           }
          ],
          "pie": [
           {
            "automargin": true,
            "type": "pie"
           }
          ],
          "scatter": [
           {
            "fillpattern": {
             "fillmode": "overlay",
             "size": 10,
             "solidity": 0.2
            },
            "type": "scatter"
           }
          ],
          "scatter3d": [
           {
            "line": {
             "colorbar": {
              "outlinewidth": 0,
              "ticks": ""
             }
            },
            "marker": {
             "colorbar": {
              "outlinewidth": 0,
              "ticks": ""
             }
            },
            "type": "scatter3d"
           }
          ],
          "scattercarpet": [
           {
            "marker": {
             "colorbar": {
              "outlinewidth": 0,
              "ticks": ""
             }
            },
            "type": "scattercarpet"
           }
          ],
          "scattergeo": [
           {
            "marker": {
             "colorbar": {
              "outlinewidth": 0,
              "ticks": ""
             }
            },
            "type": "scattergeo"
           }
          ],
          "scattergl": [
           {
            "marker": {
             "colorbar": {
              "outlinewidth": 0,
              "ticks": ""
             }
            },
            "type": "scattergl"
           }
          ],
          "scattermapbox": [
           {
            "marker": {
             "colorbar": {
              "outlinewidth": 0,
              "ticks": ""
             }
            },
            "type": "scattermapbox"
           }
          ],
          "scatterpolar": [
           {
            "marker": {
             "colorbar": {
              "outlinewidth": 0,
              "ticks": ""
             }
            },
            "type": "scatterpolar"
           }
          ],
          "scatterpolargl": [
           {
            "marker": {
             "colorbar": {
              "outlinewidth": 0,
              "ticks": ""
             }
            },
            "type": "scatterpolargl"
           }
          ],
          "scatterternary": [
           {
            "marker": {
             "colorbar": {
              "outlinewidth": 0,
              "ticks": ""
             }
            },
            "type": "scatterternary"
           }
          ],
          "surface": [
           {
            "colorbar": {
             "outlinewidth": 0,
             "ticks": ""
            },
            "colorscale": [
             [
              0,
              "#0d0887"
             ],
             [
              0.1111111111111111,
              "#46039f"
             ],
             [
              0.2222222222222222,
              "#7201a8"
             ],
             [
              0.3333333333333333,
              "#9c179e"
             ],
             [
              0.4444444444444444,
              "#bd3786"
             ],
             [
              0.5555555555555556,
              "#d8576b"
             ],
             [
              0.6666666666666666,
              "#ed7953"
             ],
             [
              0.7777777777777778,
              "#fb9f3a"
             ],
             [
              0.8888888888888888,
              "#fdca26"
             ],
             [
              1,
              "#f0f921"
             ]
            ],
            "type": "surface"
           }
          ],
          "table": [
           {
            "cells": {
             "fill": {
              "color": "#EBF0F8"
             },
             "line": {
              "color": "white"
             }
            },
            "header": {
             "fill": {
              "color": "#C8D4E3"
             },
             "line": {
              "color": "white"
             }
            },
            "type": "table"
           }
          ]
         },
         "layout": {
          "annotationdefaults": {
           "arrowcolor": "#2a3f5f",
           "arrowhead": 0,
           "arrowwidth": 1
          },
          "autotypenumbers": "strict",
          "coloraxis": {
           "colorbar": {
            "outlinewidth": 0,
            "ticks": ""
           }
          },
          "colorscale": {
           "diverging": [
            [
             0,
             "#8e0152"
            ],
            [
             0.1,
             "#c51b7d"
            ],
            [
             0.2,
             "#de77ae"
            ],
            [
             0.3,
             "#f1b6da"
            ],
            [
             0.4,
             "#fde0ef"
            ],
            [
             0.5,
             "#f7f7f7"
            ],
            [
             0.6,
             "#e6f5d0"
            ],
            [
             0.7,
             "#b8e186"
            ],
            [
             0.8,
             "#7fbc41"
            ],
            [
             0.9,
             "#4d9221"
            ],
            [
             1,
             "#276419"
            ]
           ],
           "sequential": [
            [
             0,
             "#0d0887"
            ],
            [
             0.1111111111111111,
             "#46039f"
            ],
            [
             0.2222222222222222,
             "#7201a8"
            ],
            [
             0.3333333333333333,
             "#9c179e"
            ],
            [
             0.4444444444444444,
             "#bd3786"
            ],
            [
             0.5555555555555556,
             "#d8576b"
            ],
            [
             0.6666666666666666,
             "#ed7953"
            ],
            [
             0.7777777777777778,
             "#fb9f3a"
            ],
            [
             0.8888888888888888,
             "#fdca26"
            ],
            [
             1,
             "#f0f921"
            ]
           ],
           "sequentialminus": [
            [
             0,
             "#0d0887"
            ],
            [
             0.1111111111111111,
             "#46039f"
            ],
            [
             0.2222222222222222,
             "#7201a8"
            ],
            [
             0.3333333333333333,
             "#9c179e"
            ],
            [
             0.4444444444444444,
             "#bd3786"
            ],
            [
             0.5555555555555556,
             "#d8576b"
            ],
            [
             0.6666666666666666,
             "#ed7953"
            ],
            [
             0.7777777777777778,
             "#fb9f3a"
            ],
            [
             0.8888888888888888,
             "#fdca26"
            ],
            [
             1,
             "#f0f921"
            ]
           ]
          },
          "colorway": [
           "#636efa",
           "#EF553B",
           "#00cc96",
           "#ab63fa",
           "#FFA15A",
           "#19d3f3",
           "#FF6692",
           "#B6E880",
           "#FF97FF",
           "#FECB52"
          ],
          "font": {
           "color": "#2a3f5f"
          },
          "geo": {
           "bgcolor": "white",
           "lakecolor": "white",
           "landcolor": "#E5ECF6",
           "showlakes": true,
           "showland": true,
           "subunitcolor": "white"
          },
          "hoverlabel": {
           "align": "left"
          },
          "hovermode": "closest",
          "mapbox": {
           "style": "light"
          },
          "paper_bgcolor": "white",
          "plot_bgcolor": "#E5ECF6",
          "polar": {
           "angularaxis": {
            "gridcolor": "white",
            "linecolor": "white",
            "ticks": ""
           },
           "bgcolor": "#E5ECF6",
           "radialaxis": {
            "gridcolor": "white",
            "linecolor": "white",
            "ticks": ""
           }
          },
          "scene": {
           "xaxis": {
            "backgroundcolor": "#E5ECF6",
            "gridcolor": "white",
            "gridwidth": 2,
            "linecolor": "white",
            "showbackground": true,
            "ticks": "",
            "zerolinecolor": "white"
           },
           "yaxis": {
            "backgroundcolor": "#E5ECF6",
            "gridcolor": "white",
            "gridwidth": 2,
            "linecolor": "white",
            "showbackground": true,
            "ticks": "",
            "zerolinecolor": "white"
           },
           "zaxis": {
            "backgroundcolor": "#E5ECF6",
            "gridcolor": "white",
            "gridwidth": 2,
            "linecolor": "white",
            "showbackground": true,
            "ticks": "",
            "zerolinecolor": "white"
           }
          },
          "shapedefaults": {
           "line": {
            "color": "#2a3f5f"
           }
          },
          "ternary": {
           "aaxis": {
            "gridcolor": "white",
            "linecolor": "white",
            "ticks": ""
           },
           "baxis": {
            "gridcolor": "white",
            "linecolor": "white",
            "ticks": ""
           },
           "bgcolor": "#E5ECF6",
           "caxis": {
            "gridcolor": "white",
            "linecolor": "white",
            "ticks": ""
           }
          },
          "title": {
           "x": 0.05
          },
          "xaxis": {
           "automargin": true,
           "gridcolor": "white",
           "linecolor": "white",
           "ticks": "",
           "title": {
            "standoff": 15
           },
           "zerolinecolor": "white",
           "zerolinewidth": 2
          },
          "yaxis": {
           "automargin": true,
           "gridcolor": "white",
           "linecolor": "white",
           "ticks": "",
           "title": {
            "standoff": 15
           },
           "zerolinecolor": "white",
           "zerolinewidth": 2
          }
         }
        },
        "xaxis": {
         "anchor": "y",
         "autorange": true,
         "domain": [
          0,
          1
         ],
         "range": [
          "2022-06-05",
          "2022-06-19"
         ],
         "title": {
          "text": "Date"
         },
         "type": "date"
        },
        "yaxis": {
         "anchor": "x",
         "autorange": true,
         "domain": [
          0,
          1
         ],
         "range": [
          0.11409444444444446,
          0.20020555555555555
         ],
         "title": {
          "text": "value"
         },
         "type": "linear"
        }
       }
      },
      "image/png": "[encoded data removed]",
      "text/html": [
       "<div>                            <div id=\"b676d070-7469-4450-aae7-01a9b065673b\" class=\"plotly-graph-div\" style=\"height:525px; width:100%;\"></div>            <script type=\"text/javascript\">                require([\"plotly\"], function(Plotly) {                    window.PLOTLYENV=window.PLOTLYENV || {};                                    if (document.getElementById(\"b676d070-7469-4450-aae7-01a9b065673b\")) {                    Plotly.newPlot(                        \"b676d070-7469-4450-aae7-01a9b065673b\",                        [{\"hovertemplate\":\"variable=ELFUSDT<br>Date=%{x}<br>value=%{y}<extra></extra>\",\"legendgroup\":\"ELFUSDT\",\"line\":{\"color\":\"#636efa\",\"dash\":\"solid\"},\"marker\":{\"symbol\":\"circle\"},\"mode\":\"lines\",\"name\":\"ELFUSDT\",\"orientation\":\"v\",\"showlegend\":true,\"x\":[\"2022-06-05T00:00:00\",\"2022-06-05T01:00:00\",\"2022-06-05T02:00:00\",\"2022-06-05T03:00:00\",\"2022-06-05T04:00:00\",\"2022-06-05T05:00:00\",\"2022-06-05T06:00:00\",\"2022-06-05T07:00:00\",\"2022-06-05T08:00:00\",\"2022-06-05T09:00:00\",\"2022-06-05T10:00:00\",\"2022-06-05T11:00:00\",\"2022-06-05T12:00:00\",\"2022-06-05T13:00:00\",\"2022-06-05T14:00:00\",\"2022-06-05T15:00:00\",\"2022-06-05T16:00:00\",\"2022-06-05T17:00:00\",\"2022-06-05T18:00:00\",\"2022-06-05T19:00:00\",\"2022-06-05T20:00:00\",\"2022-06-05T21:00:00\",\"2022-06-05T22:00:00\",\"2022-06-05T23:00:00\",\"2022-06-06T00:00:00\",\"2022-06-06T01:00:00\",\"2022-06-06T02:00:00\",\"2022-06-06T03:00:00\",\"2022-06-06T04:00:00\",\"2022-06-06T05:00:00\",\"2022-06-06T06:00:00\",\"2022-06-06T07:00:00\",\"2022-06-06T08:00:00\",\"2022-06-06T09:00:00\",\"2022-06-06T10:00:00\",\"2022-06-06T11:00:00\",\"2022-06-06T12:00:00\",\"2022-06-06T13:00:00\",\"2022-06-06T14:00:00\",\"2022-06-06T15:00:00\",\"2022-06-06T16:00:00\",\"2022-06-06T17:00:00\",\"2022-06-06T18:00:00\",\"2022-06-06T19:00:00\",\"2022-06-06T20:00:00\",\"2022-06-06T21:00:00\",\"2022-06-06T22:00:00\",\"2022-06-06T23:00:00\",\"2022-06-07T00:00:00\",\"2022-06-07T01:00:00\",\"2022-06-07T02:00:00\",\"2022-06-07T03:00:00\",\"2022-06-07T04:00:00\",\"2022-06-07T05:00:00\",\"2022-06-07T06:00:00\",\"2022-06-07T07:00:00\",\"2022-06-07T08:00:00\",\"2022-06-07T09:00:00\",\"2022-06-07T10:00:00\",\"2022-06-07T11:00:00\",\"2022-06-07T12:00:00\",\"2022-06-07T13:00:00\",\"2022-06-07T14:00:00\",\"2022-06-07T15:00:00\",\"2022-06-07T16:00:00\",\"2022-06-07T17:00:00\",\"2022-06-07T18:00:00\",\"2022-06-07T19:00:00\",\"2022-06-07T20:00:00\",\"2022-06-07T21:00:00\",\"2022-06-07T22:00:00\",\"2022-06-07T23:00:00\",\"2022-06-08T00:00:00\",\"2022-06-08T01:00:00\",\"2022-06-08T02:00:00\",\"2022-06-08T03:00:00\",\"2022-06-08T04:00:00\",\"2022-06-08T05:00:00\",\"2022-06-08T06:00:00\",\"2022-06-08T07:00:00\",\"2022-06-08T08:00:00\",\"2022-06-08T09:00:00\",\"2022-06-08T10:00:00\",\"2022-06-08T11:00:00\",\"2022-06-08T12:00:00\",\"2022-06-08T13:00:00\",\"2022-06-08T14:00:00\",\"2022-06-08T15:00:00\",\"2022-06-08T16:00:00\",\"2022-06-08T17:00:00\",\"2022-06-08T18:00:00\",\"2022-06-08T19:00:00\",\"2022-06-08T20:00:00\",\"2022-06-08T21:00:00\",\"2022-06-08T22:00:00\",\"2022-06-08T23:00:00\",\"2022-06-09T00:00:00\",\"2022-06-09T01:00:00\",\"2022-06-09T02:00:00\",\"2022-06-09T03:00:00\",\"2022-06-09T04:00:00\",\"2022-06-09T05:00:00\",\"2022-06-09T06:00:00\",\"2022-06-09T07:00:00\",\"2022-06-09T08:00:00\",\"2022-06-09T09:00:00\",\"2022-06-09T10:00:00\",\"2022-06-09T11:00:00\",\"2022-06-09T12:00:00\",\"2022-06-09T13:00:00\",\"2022-06-09T14:00:00\",\"2022-06-09T15:00:00\",\"2022-06-09T16:00:00\",\"2022-06-09T17:00:00\",\"2022-06-09T18:00:00\",\"2022-06-09T19:00:00\",\"2022-06-09T20:00:00\",\"2022-06-09T21:00:00\",\"2022-06-09T22:00:00\",\"2022-06-09T23:00:00\",\"2022-06-10T00:00:00\",\"2022-06-10T01:00:00\",\"2022-06-10T02:00:00\",\"2022-06-10T03:00:00\",\"2022-06-10T04:00:00\",\"2022-06-10T05:00:00\",\"2022-06-10T06:00:00\",\"2022-06-10T07:00:00\",\"2022-06-10T08:00:00\",\"2022-06-10T09:00:00\",\"2022-06-10T10:00:00\",\"2022-06-10T11:00:00\",\"2022-06-10T12:00:00\",\"2022-06-10T13:00:00\",\"2022-06-10T14:00:00\",\"2022-06-10T15:00:00\",\"2022-06-10T16:00:00\",\"2022-06-10T17:00:00\",\"2022-06-10T18:00:00\",\"2022-06-10T19:00:00\",\"2022-06-10T20:00:00\",\"2022-06-10T21:00:00\",\"2022-06-10T22:00:00\",\"2022-06-10T23:00:00\",\"2022-06-11T00:00:00\",\"2022-06-11T01:00:00\",\"2022-06-11T02:00:00\",\"2022-06-11T03:00:00\",\"2022-06-11T04:00:00\",\"2022-06-11T05:00:00\",\"2022-06-11T06:00:00\",\"2022-06-11T07:00:00\",\"2022-06-11T08:00:00\",\"2022-06-11T09:00:00\",\"2022-06-11T10:00:00\",\"2022-06-11T11:00:00\",\"2022-06-11T12:00:00\",\"2022-06-11T13:00:00\",\"2022-06-11T14:00:00\",\"2022-06-11T15:00:00\",\"2022-06-11T16:00:00\",\"2022-06-11T17:00:00\",\"2022-06-11T18:00:00\",\"2022-06-11T19:00:00\",\"2022-06-11T20:00:00\",\"2022-06-11T21:00:00\",\"2022-06-11T22:00:00\",\"2022-06-11T23:00:00\",\"2022-06-12T00:00:00\",\"2022-06-12T01:00:00\",\"2022-06-12T02:00:00\",\"2022-06-12T03:00:00\",\"2022-06-12T04:00:00\",\"2022-06-12T05:00:00\",\"2022-06-12T06:00:00\",\"2022-06-12T07:00:00\",\"2022-06-12T08:00:00\",\"2022-06-12T09:00:00\",\"2022-06-12T10:00:00\",\"2022-06-12T11:00:00\",\"2022-06-12T12:00:00\",\"2022-06-12T13:00:00\",\"2022-06-12T14:00:00\",\"2022-06-12T15:00:00\",\"2022-06-12T16:00:00\",\"2022-06-12T17:00:00\",\"2022-06-12T18:00:00\",\"2022-06-12T19:00:00\",\"2022-06-12T20:00:00\",\"2022-06-12T21:00:00\",\"2022-06-12T22:00:00\",\"2022-06-12T23:00:00\",\"2022-06-13T00:00:00\",\"2022-06-13T01:00:00\",\"2022-06-13T02:00:00\",\"2022-06-13T03:00:00\",\"2022-06-13T04:00:00\",\"2022-06-13T05:00:00\",\"2022-06-13T06:00:00\",\"2022-06-13T07:00:00\",\"2022-06-13T08:00:00\",\"2022-06-13T09:00:00\",\"2022-06-13T10:00:00\",\"2022-06-13T11:00:00\",\"2022-06-13T12:00:00\",\"2022-06-13T13:00:00\",\"2022-06-13T14:00:00\",\"2022-06-13T15:00:00\",\"2022-06-13T16:00:00\",\"2022-06-13T17:00:00\",\"2022-06-13T18:00:00\",\"2022-06-13T19:00:00\",\"2022-06-13T20:00:00\",\"2022-06-13T21:00:00\",\"2022-06-13T22:00:00\",\"2022-06-13T23:00:00\",\"2022-06-14T00:00:00\",\"2022-06-14T01:00:00\",\"2022-06-14T02:00:00\",\"2022-06-14T03:00:00\",\"2022-06-14T04:00:00\",\"2022-06-14T05:00:00\",\"2022-06-14T06:00:00\",\"2022-06-14T07:00:00\",\"2022-06-14T08:00:00\",\"2022-06-14T09:00:00\",\"2022-06-14T10:00:00\",\"2022-06-14T11:00:00\",\"2022-06-14T12:00:00\",\"2022-06-14T13:00:00\",\"2022-06-14T14:00:00\",\"2022-06-14T15:00:00\",\"2022-06-14T16:00:00\",\"2022-06-14T17:00:00\",\"2022-06-14T18:00:00\",\"2022-06-14T19:00:00\",\"2022-06-14T20:00:00\",\"2022-06-14T21:00:00\",\"2022-06-14T22:00:00\",\"2022-06-14T23:00:00\",\"2022-06-15T00:00:00\",\"2022-06-15T01:00:00\",\"2022-06-15T02:00:00\",\"2022-06-15T03:00:00\",\"2022-06-15T04:00:00\",\"2022-06-15T05:00:00\",\"2022-06-15T06:00:00\",\"2022-06-15T07:00:00\",\"2022-06-15T08:00:00\",\"2022-06-15T09:00:00\",\"2022-06-15T10:00:00\",\"2022-06-15T11:00:00\",\"2022-06-15T12:00:00\",\"2022-06-15T13:00:00\",\"2022-06-15T14:00:00\",\"2022-06-15T15:00:00\",\"2022-06-15T16:00:00\",\"2022-06-15T17:00:00\",\"2022-06-15T18:00:00\",\"2022-06-15T19:00:00\",\"2022-06-15T20:00:00\",\"2022-06-15T21:00:00\",\"2022-06-15T22:00:00\",\"2022-06-15T23:00:00\",\"2022-06-16T00:00:00\",\"2022-06-16T01:00:00\",\"2022-06-16T02:00:00\",\"2022-06-16T03:00:00\",\"2022-06-16T04:00:00\",\"2022-06-16T05:00:00\",\"2022-06-16T06:00:00\",\"2022-06-16T07:00:00\",\"2022-06-16T08:00:00\",\"2022-06-16T09:00:00\",\"2022-06-16T10:00:00\",\"2022-06-16T11:00:00\",\"2022-06-16T12:00:00\",\"2022-06-16T13:00:00\",\"2022-06-16T14:00:00\",\"2022-06-16T15:00:00\",\"2022-06-16T16:00:00\",\"2022-06-16T17:00:00\",\"2022-06-16T18:00:00\",\"2022-06-16T19:00:00\",\"2022-06-16T20:00:00\",\"2022-06-16T21:00:00\",\"2022-06-16T22:00:00\",\"2022-06-16T23:00:00\",\"2022-06-17T00:00:00\",\"2022-06-17T01:00:00\",\"2022-06-17T02:00:00\",\"2022-06-17T03:00:00\",\"2022-06-17T04:00:00\",\"2022-06-17T05:00:00\",\"2022-06-17T06:00:00\",\"2022-06-17T07:00:00\",\"2022-06-17T08:00:00\",\"2022-06-17T09:00:00\",\"2022-06-17T10:00:00\",\"2022-06-17T11:00:00\",\"2022-06-17T12:00:00\",\"2022-06-17T13:00:00\",\"2022-06-17T14:00:00\",\"2022-06-17T15:00:00\",\"2022-06-17T16:00:00\",\"2022-06-17T17:00:00\",\"2022-06-17T18:00:00\",\"2022-06-17T19:00:00\",\"2022-06-17T20:00:00\",\"2022-06-17T21:00:00\",\"2022-06-17T22:00:00\",\"2022-06-17T23:00:00\",\"2022-06-18T00:00:00\",\"2022-06-18T01:00:00\",\"2022-06-18T02:00:00\",\"2022-06-18T03:00:00\",\"2022-06-18T04:00:00\",\"2022-06-18T05:00:00\",\"2022-06-18T06:00:00\",\"2022-06-18T07:00:00\",\"2022-06-18T08:00:00\",\"2022-06-18T09:00:00\",\"2022-06-18T10:00:00\",\"2022-06-18T11:00:00\",\"2022-06-18T12:00:00\",\"2022-06-18T13:00:00\",\"2022-06-18T14:00:00\",\"2022-06-18T15:00:00\",\"2022-06-18T16:00:00\",\"2022-06-18T17:00:00\",\"2022-06-18T18:00:00\",\"2022-06-18T19:00:00\",\"2022-06-18T20:00:00\",\"2022-06-18T21:00:00\",\"2022-06-18T22:00:00\",\"2022-06-18T23:00:00\",\"2022-06-19T00:00:00\"],\"xaxis\":\"x\",\"y\":[0.1728,0.17,0.1697,0.1693,0.1693,0.1696,0.1689,0.1705,0.1717,0.171,0.1744,0.1714,0.1759,0.1906,0.1802,0.1782,0.1807,0.1815,0.1835,0.1812,0.1787,0.1801,0.1877,0.1885,0.1813,0.184,0.1839,0.1845,0.184,0.1843,0.1884,0.1959,0.1904,0.1908,0.1901,0.1867,0.1882,0.1857,0.1855,0.184,0.1826,0.188,0.1865,0.1872,0.1879,0.188,0.1876,0.1901,0.1817,0.1794,0.1783,0.181,0.1804,0.1797,0.1783,0.1784,0.1803,0.1783,0.1772,0.175,0.1738,0.1748,0.1777,0.1769,0.1786,0.1797,0.181,0.1821,0.1815,0.1815,0.1796,0.1813,0.1792,0.1795,0.1796,0.1767,0.1767,0.178,0.177,0.1764,0.1764,0.1767,0.1763,0.1773,0.1759,0.1784,0.1765,0.176,0.1759,0.1762,0.1756,0.1747,0.1734,0.1744,0.1737,0.1747,0.1746,0.1742,0.1736,0.174,0.1739,0.1745,0.1745,0.1754,0.1759,0.1757,0.1888,0.178,0.1768,0.1778,0.1774,0.1775,0.1774,0.1774,0.1777,0.1767,0.1771,0.1758,0.1764,0.1767,0.1735,0.1731,0.1736,0.1734,0.1735,0.1744,0.1741,0.1791,0.1746,0.1712,0.1707,0.1705,0.1643,0.1618,0.1636,0.1625,0.162,0.1608,0.1605,0.1608,0.1636,0.1639,0.1639,0.1626,0.1641,0.1641,0.1642,0.164,0.1646,0.1642,0.1651,0.1662,0.1611,0.1621,0.1599,0.1565,0.1537,0.1556,0.1494,0.1483,0.1472,0.1486,0.1506,0.1509,0.1489,0.1522,0.1523,0.1501,0.1496,0.1439,0.1395,0.1411,0.141,0.1385,0.1418,0.1425,0.1427,0.1413,0.1412,0.142,0.1423,0.14,0.1449,0.1469,0.1461,0.1468,0.1458,0.144,0.1441,0.1429,0.1408,0.1365,0.1393,0.1323,0.1305,0.1306,0.13,0.1281,0.1288,0.125,0.122,0.1235,0.1231,0.1233,0.1229,0.1243,0.122,0.1249,0.1271,0.1274,0.1272,0.1258,0.1264,0.1245,0.1217,0.1248,0.1202,0.1184,0.1219,0.1242,0.1236,0.1269,0.1267,0.1265,0.1249,0.1236,0.1246,0.1233,0.1248,0.1267,0.1256,0.1276,0.1258,0.1247,0.1244,0.1243,0.1235,0.1217,0.1229,0.1248,0.1229,0.1251,0.1236,0.1224,0.1225,0.1241,0.1244,0.1217,0.1219,0.1227,0.1256,0.1304,0.1289,0.1319,0.1314,0.13,0.1245,0.1268,0.1289,0.1308,0.1317,0.1326,0.1328,0.1346,0.1347,0.1335,0.1341,0.1343,0.135,0.1377,0.1376,0.1368,0.1341,0.13,0.1296,0.1301,0.1317,0.1323,0.1312,0.1327,0.1347,0.1334,0.133,0.131,0.1329,0.132,0.1284,0.13,0.1307,0.1338,0.1333,0.132,0.1346,0.1353,0.1357,0.1358,0.1365,0.1398,0.1384,0.1367,0.1338,0.135,0.133,0.1338,0.1336,0.1334,0.1333,0.1336,0.1354,0.1352,0.1353,0.1356,0.1356,0.1334,0.1335,0.1342,0.1348,0.1345,0.1272,0.1246,0.1246,0.1256,0.127,0.1237,0.1231,0.1235,0.123,0.1233,0.1225,0.1224,0.1208,0.12,0.1204,0.1236,0.1277,0.1281,0.1283],\"yaxis\":\"y\",\"type\":\"scatter\"}],                        {\"template\":{\"data\":{\"histogram2dcontour\":[{\"type\":\"histogram2dcontour\",\"colorbar\":{\"outlinewidth\":0,\"ticks\":\"\"},\"colorscale\":[[0.0,\"#0d0887\"],[0.1111111111111111,\"#46039f\"],[0.2222222222222222,\"#7201a8\"],[0.3333333333333333,\"#9c179e\"],[0.4444444444444444,\"#bd3786\"],[0.5555555555555556,\"#d8576b\"],[0.6666666666666666,\"#ed7953\"],[0.7777777777777778,\"#fb9f3a\"],[0.8888888888888888,\"#fdca26\"],[1.0,\"#f0f921\"]]}],\"choropleth\":[{\"type\":\"choropleth\",\"colorbar\":{\"outlinewidth\":0,\"ticks\":\"\"}}],\"histogram2d\":[{\"type\":\"histogram2d\",\"colorbar\":{\"outlinewidth\":0,\"ticks\":\"\"},\"colorscale\":[[0.0,\"#0d0887\"],[0.1111111111111111,\"#46039f\"],[0.2222222222222222,\"#7201a8\"],[0.3333333333333333,\"#9c179e\"],[0.4444444444444444,\"#bd3786\"],[0.5555555555555556,\"#d8576b\"],[0.6666666666666666,\"#ed7953\"],[0.7777777777777778,\"#fb9f3a\"],[0.8888888888888888,\"#fdca26\"],[1.0,\"#f0f921\"]]}],\"heatmap\":[{\"type\":\"heatmap\",\"colorbar\":{\"outlinewidth\":0,\"ticks\":\"\"},\"colorscale\":[[0.0,\"#0d0887\"],[0.1111111111111111,\"#46039f\"],[0.2222222222222222,\"#7201a8\"],[0.3333333333333333,\"#9c179e\"],[0.4444444444444444,\"#bd3786\"],[0.5555555555555556,\"#d8576b\"],[0.6666666666666666,\"#ed7953\"],[0.7777777777777778,\"#fb9f3a\"],[0.8888888888888888,\"#fdca26\"],[1.0,\"#f0f921\"]]}],\"heatmapgl\":[{\"type\":\"heatmapgl\",\"colorbar\":{\"outlinewidth\":0,\"ticks\":\"\"},\"colorscale\":[[0.0,\"#0d0887\"],[0.1111111111111111,\"#46039f\"],[0.2222222222222222,\"#7201a8\"],[0.3333333333333333,\"#9c179e\"],[0.4444444444444444,\"#bd3786\"],[0.5555555555555556,\"#d8576b\"],[0.6666666666666666,\"#ed7953\"],[0.7777777777777778,\"#fb9f3a\"],[0.8888888888888888,\"#fdca26\"],[1.0,\"#f0f921\"]]}],\"contourcarpet\":[{\"type\":\"contourcarpet\",\"colorbar\":{\"outlinewidth\":0,\"ticks\":\"\"}}],\"contour\":[{\"type\":\"contour\",\"colorbar\":{\"outlinewidth\":0,\"ticks\":\"\"},\"colorscale\":[[0.0,\"#0d0887\"],[0.1111111111111111,\"#46039f\"],[0.2222222222222222,\"#7201a8\"],[0.3333333333333333,\"#9c179e\"],[0.4444444444444444,\"#bd3786\"],[0.5555555555555556,\"#d8576b\"],[0.6666666666666666,\"#ed7953\"],[0.7777777777777778,\"#fb9f3a\"],[0.8888888888888888,\"#fdca26\"],[1.0,\"#f0f921\"]]}],\"surface\":[{\"type\":\"surface\",\"colorbar\":{\"outlinewidth\":0,\"ticks\":\"\"},\"colorscale\":[[0.0,\"#0d0887\"],[0.1111111111111111,\"#46039f\"],[0.2222222222222222,\"#7201a8\"],[0.3333333333333333,\"#9c179e\"],[0.4444444444444444,\"#bd3786\"],[0.5555555555555556,\"#d8576b\"],[0.6666666666666666,\"#ed7953\"],[0.7777777777777778,\"#fb9f3a\"],[0.8888888888888888,\"#fdca26\"],[1.0,\"#f0f921\"]]}],\"mesh3d\":[{\"type\":\"mesh3d\",\"colorbar\":{\"outlinewidth\":0,\"ticks\":\"\"}}],\"scatter\":[{\"fillpattern\":{\"fillmode\":\"overlay\",\"size\":10,\"solidity\":0.2},\"type\":\"scatter\"}],\"parcoords\":[{\"type\":\"parcoords\",\"line\":{\"colorbar\":{\"outlinewidth\":0,\"ticks\":\"\"}}}],\"scatterpolargl\":[{\"type\":\"scatterpolargl\",\"marker\":{\"colorbar\":{\"outlinewidth\":0,\"ticks\":\"\"}}}],\"bar\":[{\"error_x\":{\"color\":\"#2a3f5f\"},\"error_y\":{\"color\":\"#2a3f5f\"},\"marker\":{\"line\":{\"color\":\"#E5ECF6\",\"width\":0.5},\"pattern\":{\"fillmode\":\"overlay\",\"size\":10,\"solidity\":0.2}},\"type\":\"bar\"}],\"scattergeo\":[{\"type\":\"scattergeo\",\"marker\":{\"colorbar\":{\"outlinewidth\":0,\"ticks\":\"\"}}}],\"scatterpolar\":[{\"type\":\"scatterpolar\",\"marker\":{\"colorbar\":{\"outlinewidth\":0,\"ticks\":\"\"}}}],\"histogram\":[{\"marker\":{\"pattern\":{\"fillmode\":\"overlay\",\"size\":10,\"solidity\":0.2}},\"type\":\"histogram\"}],\"scattergl\":[{\"type\":\"scattergl\",\"marker\":{\"colorbar\":{\"outlinewidth\":0,\"ticks\":\"\"}}}],\"scatter3d\":[{\"type\":\"scatter3d\",\"line\":{\"colorbar\":{\"outlinewidth\":0,\"ticks\":\"\"}},\"marker\":{\"colorbar\":{\"outlinewidth\":0,\"ticks\":\"\"}}}],\"scattermapbox\":[{\"type\":\"scattermapbox\",\"marker\":{\"colorbar\":{\"outlinewidth\":0,\"ticks\":\"\"}}}],\"scatterternary\":[{\"type\":\"scatterternary\",\"marker\":{\"colorbar\":{\"outlinewidth\":0,\"ticks\":\"\"}}}],\"scattercarpet\":[{\"type\":\"scattercarpet\",\"marker\":{\"colorbar\":{\"outlinewidth\":0,\"ticks\":\"\"}}}],\"carpet\":[{\"aaxis\":{\"endlinecolor\":\"#2a3f5f\",\"gridcolor\":\"white\",\"linecolor\":\"white\",\"minorgridcolor\":\"white\",\"startlinecolor\":\"#2a3f5f\"},\"baxis\":{\"endlinecolor\":\"#2a3f5f\",\"gridcolor\":\"white\",\"linecolor\":\"white\",\"minorgridcolor\":\"white\",\"startlinecolor\":\"#2a3f5f\"},\"type\":\"carpet\"}],\"table\":[{\"cells\":{\"fill\":{\"color\":\"#EBF0F8\"},\"line\":{\"color\":\"white\"}},\"header\":{\"fill\":{\"color\":\"#C8D4E3\"},\"line\":{\"color\":\"white\"}},\"type\":\"table\"}],\"barpolar\":[{\"marker\":{\"line\":{\"color\":\"#E5ECF6\",\"width\":0.5},\"pattern\":{\"fillmode\":\"overlay\",\"size\":10,\"solidity\":0.2}},\"type\":\"barpolar\"}],\"pie\":[{\"automargin\":true,\"type\":\"pie\"}]},\"layout\":{\"autotypenumbers\":\"strict\",\"colorway\":[\"#636efa\",\"#EF553B\",\"#00cc96\",\"#ab63fa\",\"#FFA15A\",\"#19d3f3\",\"#FF6692\",\"#B6E880\",\"#FF97FF\",\"#FECB52\"],\"font\":{\"color\":\"#2a3f5f\"},\"hovermode\":\"closest\",\"hoverlabel\":{\"align\":\"left\"},\"paper_bgcolor\":\"white\",\"plot_bgcolor\":\"#E5ECF6\",\"polar\":{\"bgcolor\":\"#E5ECF6\",\"angularaxis\":{\"gridcolor\":\"white\",\"linecolor\":\"white\",\"ticks\":\"\"},\"radialaxis\":{\"gridcolor\":\"white\",\"linecolor\":\"white\",\"ticks\":\"\"}},\"ternary\":{\"bgcolor\":\"#E5ECF6\",\"aaxis\":{\"gridcolor\":\"white\",\"linecolor\":\"white\",\"ticks\":\"\"},\"baxis\":{\"gridcolor\":\"white\",\"linecolor\":\"white\",\"ticks\":\"\"},\"caxis\":{\"gridcolor\":\"white\",\"linecolor\":\"white\",\"ticks\":\"\"}},\"coloraxis\":{\"colorbar\":{\"outlinewidth\":0,\"ticks\":\"\"}},\"colorscale\":{\"sequential\":[[0.0,\"#0d0887\"],[0.1111111111111111,\"#46039f\"],[0.2222222222222222,\"#7201a8\"],[0.3333333333333333,\"#9c179e\"],[0.4444444444444444,\"#bd3786\"],[0.5555555555555556,\"#d8576b\"],[0.6666666666666666,\"#ed7953\"],[0.7777777777777778,\"#fb9f3a\"],[0.8888888888888888,\"#fdca26\"],[1.0,\"#f0f921\"]],\"sequentialminus\":[[0.0,\"#0d0887\"],[0.1111111111111111,\"#46039f\"],[0.2222222222222222,\"#7201a8\"],[0.3333333333333333,\"#9c179e\"],[0.4444444444444444,\"#bd3786\"],[0.5555555555555556,\"#d8576b\"],[0.6666666666666666,\"#ed7953\"],[0.7777777777777778,\"#fb9f3a\"],[0.8888888888888888,\"#fdca26\"],[1.0,\"#f0f921\"]],\"diverging\":[[0,\"#8e0152\"],[0.1,\"#c51b7d\"],[0.2,\"#de77ae\"],[0.3,\"#f1b6da\"],[0.4,\"#fde0ef\"],[0.5,\"#f7f7f7\"],[0.6,\"#e6f5d0\"],[0.7,\"#b8e186\"],[0.8,\"#7fbc41\"],[0.9,\"#4d9221\"],[1,\"#276419\"]]},\"xaxis\":{\"gridcolor\":\"white\",\"linecolor\":\"white\",\"ticks\":\"\",\"title\":{\"standoff\":15},\"zerolinecolor\":\"white\",\"automargin\":true,\"zerolinewidth\":2},\"yaxis\":{\"gridcolor\":\"white\",\"linecolor\":\"white\",\"ticks\":\"\",\"title\":{\"standoff\":15},\"zerolinecolor\":\"white\",\"automargin\":true,\"zerolinewidth\":2},\"scene\":{\"xaxis\":{\"backgroundcolor\":\"#E5ECF6\",\"gridcolor\":\"white\",\"linecolor\":\"white\",\"showbackground\":true,\"ticks\":\"\",\"zerolinecolor\":\"white\",\"gridwidth\":2},\"yaxis\":{\"backgroundcolor\":\"#E5ECF6\",\"gridcolor\":\"white\",\"linecolor\":\"white\",\"showbackground\":true,\"ticks\":\"\",\"zerolinecolor\":\"white\",\"gridwidth\":2},\"zaxis\":{\"backgroundcolor\":\"#E5ECF6\",\"gridcolor\":\"white\",\"linecolor\":\"white\",\"showbackground\":true,\"ticks\":\"\",\"zerolinecolor\":\"white\",\"gridwidth\":2}},\"shapedefaults\":{\"line\":{\"color\":\"#2a3f5f\"}},\"annotationdefaults\":{\"arrowcolor\":\"#2a3f5f\",\"arrowhead\":0,\"arrowwidth\":1},\"geo\":{\"bgcolor\":\"white\",\"landcolor\":\"#E5ECF6\",\"subunitcolor\":\"white\",\"showland\":true,\"showlakes\":true,\"lakecolor\":\"white\"},\"title\":{\"x\":0.05},\"mapbox\":{\"style\":\"light\"}}},\"xaxis\":{\"anchor\":\"y\",\"domain\":[0.0,1.0],\"title\":{\"text\":\"Date\"}},\"yaxis\":{\"anchor\":\"x\",\"domain\":[0.0,1.0],\"title\":{\"text\":\"value\"}},\"legend\":{\"title\":{\"text\":\"variable\"},\"tracegroupgap\":0},\"margin\":{\"t\":60}},                        {\"responsive\": true}                    ).then(function(){\n",
       "                            \n",
       "var gd = document.getElementById('b676d070-7469-4450-aae7-01a9b065673b');\n",
       "var x = new MutationObserver(function (mutations, observer) {{\n",
       "        var display = window.getComputedStyle(gd).display;\n",
       "        if (!display || display === 'none') {{\n",
       "            console.log([gd, 'removed!']);\n",
       "            Plotly.purge(gd);\n",
       "            observer.disconnect();\n",
       "        }}\n",
       "}});\n",
       "\n",
       "// Listen for the removal of the full notebook cells\n",
       "var notebookContainer = gd.closest('#notebook-container');\n",
       "if (notebookContainer) {{\n",
       "    x.observe(notebookContainer, {childList: true});\n",
       "}}\n",
       "\n",
       "// Listen for the clearing of the current output cell\n",
       "var outputEl = gd.closest('.output');\n",
       "if (outputEl) {{\n",
       "    x.observe(outputEl, {childList: true});\n",
       "}}\n",
       "\n",
       "                        })                };                });            </script>        </div>"
      ]
     },
     "metadata": {},
     "output_type": "display_data"
    },
    {
     "data": {
      "application/vnd.plotly.v1+json": {
       "config": {
        "plotlyServerURL": "https://plot.ly"
       },
       "data": [
        {
         "hovertemplate": "variable=ZRXUSDT<br>Date=%{x}<br>value=%{y}<extra></extra>",
         "legendgroup": "ZRXUSDT",
         "line": {
          "color": "#636efa",
          "dash": "solid"
         },
         "marker": {
          "symbol": "circle"
         },
         "mode": "lines",
         "name": "ZRXUSDT",
         "orientation": "v",
         "showlegend": true,
         "type": "scatter",
         "x": [
          "2022-06-05T00:00:00",
          "2022-06-05T01:00:00",
          "2022-06-05T02:00:00",
          "2022-06-05T03:00:00",
          "2022-06-05T04:00:00",
          "2022-06-05T05:00:00",
          "2022-06-05T06:00:00",
          "2022-06-05T07:00:00",
          "2022-06-05T08:00:00",
          "2022-06-05T09:00:00",
          "2022-06-05T10:00:00",
          "2022-06-05T11:00:00",
          "2022-06-05T12:00:00",
          "2022-06-05T13:00:00",
          "2022-06-05T14:00:00",
          "2022-06-05T15:00:00",
          "2022-06-05T16:00:00",
          "2022-06-05T17:00:00",
          "2022-06-05T18:00:00",
          "2022-06-05T19:00:00",
          "2022-06-05T20:00:00",
          "2022-06-05T21:00:00",
          "2022-06-05T22:00:00",
          "2022-06-05T23:00:00",
          "2022-06-06T00:00:00",
          "2022-06-06T01:00:00",
          "2022-06-06T02:00:00",
          "2022-06-06T03:00:00",
          "2022-06-06T04:00:00",
          "2022-06-06T05:00:00",
          "2022-06-06T06:00:00",
          "2022-06-06T07:00:00",
          "2022-06-06T08:00:00",
          "2022-06-06T09:00:00",
          "2022-06-06T10:00:00",
          "2022-06-06T11:00:00",
          "2022-06-06T12:00:00",
          "2022-06-06T13:00:00",
          "2022-06-06T14:00:00",
          "2022-06-06T15:00:00",
          "2022-06-06T16:00:00",
          "2022-06-06T17:00:00",
          "2022-06-06T18:00:00",
          "2022-06-06T19:00:00",
          "2022-06-06T20:00:00",
          "2022-06-06T21:00:00",
          "2022-06-06T22:00:00",
          "2022-06-06T23:00:00",
          "2022-06-07T00:00:00",
          "2022-06-07T01:00:00",
          "2022-06-07T02:00:00",
          "2022-06-07T03:00:00",
          "2022-06-07T04:00:00",
          "2022-06-07T05:00:00",
          "2022-06-07T06:00:00",
          "2022-06-07T07:00:00",
          "2022-06-07T08:00:00",
          "2022-06-07T09:00:00",
          "2022-06-07T10:00:00",
          "2022-06-07T11:00:00",
          "2022-06-07T12:00:00",
          "2022-06-07T13:00:00",
          "2022-06-07T14:00:00",
          "2022-06-07T15:00:00",
          "2022-06-07T16:00:00",
          "2022-06-07T17:00:00",
          "2022-06-07T18:00:00",
          "2022-06-07T19:00:00",
          "2022-06-07T20:00:00",
          "2022-06-07T21:00:00",
          "2022-06-07T22:00:00",
          "2022-06-07T23:00:00",
          "2022-06-08T00:00:00",
          "2022-06-08T01:00:00",
          "2022-06-08T02:00:00",
          "2022-06-08T03:00:00",
          "2022-06-08T04:00:00",
          "2022-06-08T05:00:00",
          "2022-06-08T06:00:00",
          "2022-06-08T07:00:00",
          "2022-06-08T08:00:00",
          "2022-06-08T09:00:00",
          "2022-06-08T10:00:00",
          "2022-06-08T11:00:00",
          "2022-06-08T12:00:00",
          "2022-06-08T13:00:00",
          "2022-06-08T14:00:00",
          "2022-06-08T15:00:00",
          "2022-06-08T16:00:00",
          "2022-06-08T17:00:00",
          "2022-06-08T18:00:00",
          "2022-06-08T19:00:00",
          "2022-06-08T20:00:00",
          "2022-06-08T21:00:00",
          "2022-06-08T22:00:00",
          "2022-06-08T23:00:00",
          "2022-06-09T00:00:00",
          "2022-06-09T01:00:00",
          "2022-06-09T02:00:00",
          "2022-06-09T03:00:00",
          "2022-06-09T04:00:00",
          "2022-06-09T05:00:00",
          "2022-06-09T06:00:00",
          "2022-06-09T07:00:00",
          "2022-06-09T08:00:00",
          "2022-06-09T09:00:00",
          "2022-06-09T10:00:00",
          "2022-06-09T11:00:00",
          "2022-06-09T12:00:00",
          "2022-06-09T13:00:00",
          "2022-06-09T14:00:00",
          "2022-06-09T15:00:00",
          "2022-06-09T16:00:00",
          "2022-06-09T17:00:00",
          "2022-06-09T18:00:00",
          "2022-06-09T19:00:00",
          "2022-06-09T20:00:00",
          "2022-06-09T21:00:00",
          "2022-06-09T22:00:00",
          "2022-06-09T23:00:00",
          "2022-06-10T00:00:00",
          "2022-06-10T01:00:00",
          "2022-06-10T02:00:00",
          "2022-06-10T03:00:00",
          "2022-06-10T04:00:00",
          "2022-06-10T05:00:00",
          "2022-06-10T06:00:00",
          "2022-06-10T07:00:00",
          "2022-06-10T08:00:00",
          "2022-06-10T09:00:00",
          "2022-06-10T10:00:00",
          "2022-06-10T11:00:00",
          "2022-06-10T12:00:00",
          "2022-06-10T13:00:00",
          "2022-06-10T14:00:00",
          "2022-06-10T15:00:00",
          "2022-06-10T16:00:00",
          "2022-06-10T17:00:00",
          "2022-06-10T18:00:00",
          "2022-06-10T19:00:00",
          "2022-06-10T20:00:00",
          "2022-06-10T21:00:00",
          "2022-06-10T22:00:00",
          "2022-06-10T23:00:00",
          "2022-06-11T00:00:00",
          "2022-06-11T01:00:00",
          "2022-06-11T02:00:00",
          "2022-06-11T03:00:00",
          "2022-06-11T04:00:00",
          "2022-06-11T05:00:00",
          "2022-06-11T06:00:00",
          "2022-06-11T07:00:00",
          "2022-06-11T08:00:00",
          "2022-06-11T09:00:00",
          "2022-06-11T10:00:00",
          "2022-06-11T11:00:00",
          "2022-06-11T12:00:00",
          "2022-06-11T13:00:00",
          "2022-06-11T14:00:00",
          "2022-06-11T15:00:00",
          "2022-06-11T16:00:00",
          "2022-06-11T17:00:00",
          "2022-06-11T18:00:00",
          "2022-06-11T19:00:00",
          "2022-06-11T20:00:00",
          "2022-06-11T21:00:00",
          "2022-06-11T22:00:00",
          "2022-06-11T23:00:00",
          "2022-06-12T00:00:00",
          "2022-06-12T01:00:00",
          "2022-06-12T02:00:00",
          "2022-06-12T03:00:00",
          "2022-06-12T04:00:00",
          "2022-06-12T05:00:00",
          "2022-06-12T06:00:00",
          "2022-06-12T07:00:00",
          "2022-06-12T08:00:00",
          "2022-06-12T09:00:00",
          "2022-06-12T10:00:00",
          "2022-06-12T11:00:00",
          "2022-06-12T12:00:00",
          "2022-06-12T13:00:00",
          "2022-06-12T14:00:00",
          "2022-06-12T15:00:00",
          "2022-06-12T16:00:00",
          "2022-06-12T17:00:00",
          "2022-06-12T18:00:00",
          "2022-06-12T19:00:00",
          "2022-06-12T20:00:00",
          "2022-06-12T21:00:00",
          "2022-06-12T22:00:00",
          "2022-06-12T23:00:00",
          "2022-06-13T00:00:00",
          "2022-06-13T01:00:00",
          "2022-06-13T02:00:00",
          "2022-06-13T03:00:00",
          "2022-06-13T04:00:00",
          "2022-06-13T05:00:00",
          "2022-06-13T06:00:00",
          "2022-06-13T07:00:00",
          "2022-06-13T08:00:00",
          "2022-06-13T09:00:00",
          "2022-06-13T10:00:00",
          "2022-06-13T11:00:00",
          "2022-06-13T12:00:00",
          "2022-06-13T13:00:00",
          "2022-06-13T14:00:00",
          "2022-06-13T15:00:00",
          "2022-06-13T16:00:00",
          "2022-06-13T17:00:00",
          "2022-06-13T18:00:00",
          "2022-06-13T19:00:00",
          "2022-06-13T20:00:00",
          "2022-06-13T21:00:00",
          "2022-06-13T22:00:00",
          "2022-06-13T23:00:00",
          "2022-06-14T00:00:00",
          "2022-06-14T01:00:00",
          "2022-06-14T02:00:00",
          "2022-06-14T03:00:00",
          "2022-06-14T04:00:00",
          "2022-06-14T05:00:00",
          "2022-06-14T06:00:00",
          "2022-06-14T07:00:00",
          "2022-06-14T08:00:00",
          "2022-06-14T09:00:00",
          "2022-06-14T10:00:00",
          "2022-06-14T11:00:00",
          "2022-06-14T12:00:00",
          "2022-06-14T13:00:00",
          "2022-06-14T14:00:00",
          "2022-06-14T15:00:00",
          "2022-06-14T16:00:00",
          "2022-06-14T17:00:00",
          "2022-06-14T18:00:00",
          "2022-06-14T19:00:00",
          "2022-06-14T20:00:00",
          "2022-06-14T21:00:00",
          "2022-06-14T22:00:00",
          "2022-06-14T23:00:00",
          "2022-06-15T00:00:00",
          "2022-06-15T01:00:00",
          "2022-06-15T02:00:00",
          "2022-06-15T03:00:00",
          "2022-06-15T04:00:00",
          "2022-06-15T05:00:00",
          "2022-06-15T06:00:00",
          "2022-06-15T07:00:00",
          "2022-06-15T08:00:00",
          "2022-06-15T09:00:00",
          "2022-06-15T10:00:00",
          "2022-06-15T11:00:00",
          "2022-06-15T12:00:00",
          "2022-06-15T13:00:00",
          "2022-06-15T14:00:00",
          "2022-06-15T15:00:00",
          "2022-06-15T16:00:00",
          "2022-06-15T17:00:00",
          "2022-06-15T18:00:00",
          "2022-06-15T19:00:00",
          "2022-06-15T20:00:00",
          "2022-06-15T21:00:00",
          "2022-06-15T22:00:00",
          "2022-06-15T23:00:00",
          "2022-06-16T00:00:00",
          "2022-06-16T01:00:00",
          "2022-06-16T02:00:00",
          "2022-06-16T03:00:00",
          "2022-06-16T04:00:00",
          "2022-06-16T05:00:00",
          "2022-06-16T06:00:00",
          "2022-06-16T07:00:00",
          "2022-06-16T08:00:00",
          "2022-06-16T09:00:00",
          "2022-06-16T10:00:00",
          "2022-06-16T11:00:00",
          "2022-06-16T12:00:00",
          "2022-06-16T13:00:00",
          "2022-06-16T14:00:00",
          "2022-06-16T15:00:00",
          "2022-06-16T16:00:00",
          "2022-06-16T17:00:00",
          "2022-06-16T18:00:00",
          "2022-06-16T19:00:00",
          "2022-06-16T20:00:00",
          "2022-06-16T21:00:00",
          "2022-06-16T22:00:00",
          "2022-06-16T23:00:00",
          "2022-06-17T00:00:00",
          "2022-06-17T01:00:00",
          "2022-06-17T02:00:00",
          "2022-06-17T03:00:00",
          "2022-06-17T04:00:00",
          "2022-06-17T05:00:00",
          "2022-06-17T06:00:00",
          "2022-06-17T07:00:00",
          "2022-06-17T08:00:00",
          "2022-06-17T09:00:00",
          "2022-06-17T10:00:00",
          "2022-06-17T11:00:00",
          "2022-06-17T12:00:00",
          "2022-06-17T13:00:00",
          "2022-06-17T14:00:00",
          "2022-06-17T15:00:00",
          "2022-06-17T16:00:00",
          "2022-06-17T17:00:00",
          "2022-06-17T18:00:00",
          "2022-06-17T19:00:00",
          "2022-06-17T20:00:00",
          "2022-06-17T21:00:00",
          "2022-06-17T22:00:00",
          "2022-06-17T23:00:00",
          "2022-06-18T00:00:00",
          "2022-06-18T01:00:00",
          "2022-06-18T02:00:00",
          "2022-06-18T03:00:00",
          "2022-06-18T04:00:00",
          "2022-06-18T05:00:00",
          "2022-06-18T06:00:00",
          "2022-06-18T07:00:00",
          "2022-06-18T08:00:00",
          "2022-06-18T09:00:00",
          "2022-06-18T10:00:00",
          "2022-06-18T11:00:00",
          "2022-06-18T12:00:00",
          "2022-06-18T13:00:00",
          "2022-06-18T14:00:00",
          "2022-06-18T15:00:00",
          "2022-06-18T16:00:00",
          "2022-06-18T17:00:00",
          "2022-06-18T18:00:00",
          "2022-06-18T19:00:00",
          "2022-06-18T20:00:00",
          "2022-06-18T21:00:00",
          "2022-06-18T22:00:00",
          "2022-06-18T23:00:00",
          "2022-06-19T00:00:00"
         ],
         "xaxis": "x",
         "y": [
          0.3878,
          0.3829,
          0.3945,
          0.3981,
          0.3961,
          0.3946,
          0.3938,
          0.393,
          0.3918,
          0.3944,
          0.4014,
          0.4005,
          0.3999,
          0.398,
          0.399,
          0.4049,
          0.4028,
          0.4059,
          0.406,
          0.4101,
          0.4082,
          0.4084,
          0.4098,
          0.4073,
          0.4226,
          0.4276,
          0.4289,
          0.4285,
          0.4255,
          0.4267,
          0.4322,
          0.4342,
          0.4336,
          0.4349,
          0.4311,
          0.4222,
          0.4262,
          0.4232,
          0.4275,
          0.4268,
          0.4188,
          0.4183,
          0.4206,
          0.4229,
          0.4216,
          0.4281,
          0.423,
          0.4286,
          0.4035,
          0.4004,
          0.4,
          0.4002,
          0.4001,
          0.401,
          0.4013,
          0.4011,
          0.4019,
          0.3993,
          0.4006,
          0.3972,
          0.3961,
          0.3975,
          0.4012,
          0.3995,
          0.399,
          0.3987,
          0.4034,
          0.4087,
          0.4138,
          0.4132,
          0.4081,
          0.4087,
          0.4084,
          0.4109,
          0.4107,
          0.3989,
          0.4025,
          0.4097,
          0.4045,
          0.4076,
          0.4097,
          0.4102,
          0.4065,
          0.407,
          0.4018,
          0.4091,
          0.4056,
          0.4073,
          0.4041,
          0.4042,
          0.3995,
          0.3992,
          0.3985,
          0.4005,
          0.3985,
          0.398,
          0.3935,
          0.3916,
          0.3934,
          0.3945,
          0.3952,
          0.3949,
          0.3947,
          0.3974,
          0.3988,
          0.3981,
          0.3973,
          0.3957,
          0.3922,
          0.3949,
          0.3932,
          0.3963,
          0.3993,
          0.3988,
          0.3956,
          0.3898,
          0.3927,
          0.3941,
          0.3923,
          0.3931,
          0.3847,
          0.3858,
          0.3868,
          0.3886,
          0.3873,
          0.3893,
          0.3868,
          0.3874,
          0.3843,
          0.3785,
          0.3796,
          0.3819,
          0.3681,
          0.3654,
          0.3679,
          0.3663,
          0.3596,
          0.3607,
          0.3602,
          0.3601,
          0.3656,
          0.3662,
          0.3656,
          0.3608,
          0.365,
          0.3615,
          0.3632,
          0.3641,
          0.3677,
          0.364,
          0.3661,
          0.3687,
          0.3582,
          0.3601,
          0.3531,
          0.344,
          0.3383,
          0.3427,
          0.3308,
          0.3291,
          0.3332,
          0.3342,
          0.338,
          0.3342,
          0.3309,
          0.3354,
          0.3388,
          0.3323,
          0.3328,
          0.3227,
          0.3081,
          0.309,
          0.3042,
          0.3012,
          0.3079,
          0.3111,
          0.311,
          0.3082,
          0.3084,
          0.3093,
          0.3103,
          0.3053,
          0.3213,
          0.325,
          0.3184,
          0.3195,
          0.3175,
          0.3181,
          0.3131,
          0.3134,
          0.3041,
          0.2974,
          0.2849,
          0.2807,
          0.2729,
          0.2736,
          0.2743,
          0.2697,
          0.2616,
          0.2577,
          0.2445,
          0.2504,
          0.2476,
          0.2459,
          0.2459,
          0.2516,
          0.2439,
          0.2507,
          0.2581,
          0.2544,
          0.2532,
          0.2549,
          0.2591,
          0.2513,
          0.2437,
          0.2524,
          0.2446,
          0.2278,
          0.238,
          0.249,
          0.2453,
          0.2544,
          0.2552,
          0.2564,
          0.2499,
          0.2465,
          0.2446,
          0.2441,
          0.2449,
          0.2485,
          0.2468,
          0.2526,
          0.2454,
          0.2442,
          0.2439,
          0.2446,
          0.2415,
          0.2394,
          0.2438,
          0.2513,
          0.2466,
          0.2552,
          0.2488,
          0.2439,
          0.2406,
          0.2366,
          0.2415,
          0.2394,
          0.2272,
          0.2276,
          0.233,
          0.2378,
          0.2368,
          0.2406,
          0.2353,
          0.2384,
          0.2319,
          0.2387,
          0.2487,
          0.255,
          0.2545,
          0.2645,
          0.2648,
          0.2742,
          0.2804,
          0.2854,
          0.3029,
          0.3168,
          0.3114,
          0.3054,
          0.2899,
          0.2878,
          0.2944,
          0.2837,
          0.2799,
          0.2777,
          0.2814,
          0.2764,
          0.2742,
          0.2834,
          0.2873,
          0.2795,
          0.2794,
          0.2714,
          0.2794,
          0.2745,
          0.264,
          0.2615,
          0.2569,
          0.2686,
          0.2638,
          0.2595,
          0.2593,
          0.2653,
          0.2669,
          0.2681,
          0.27,
          0.2664,
          0.2698,
          0.2665,
          0.2605,
          0.2679,
          0.2636,
          0.2663,
          0.263,
          0.2634,
          0.2648,
          0.2646,
          0.2685,
          0.2681,
          0.2669,
          0.268,
          0.2723,
          0.2645,
          0.2689,
          0.2687,
          0.2684,
          0.2665,
          0.2535,
          0.2442,
          0.2437,
          0.2475,
          0.2509,
          0.2471,
          0.2462,
          0.2475,
          0.2445,
          0.2435,
          0.243,
          0.242,
          0.2364,
          0.23,
          0.226,
          0.2413,
          0.2467,
          0.2476,
          0.2445
         ],
         "yaxis": "y"
        }
       ],
       "layout": {
        "autosize": true,
        "legend": {
         "title": {
          "text": "variable"
         },
         "tracegroupgap": 0
        },
        "margin": {
         "t": 60
        },
        "template": {
         "data": {
          "bar": [
           {
            "error_x": {
             "color": "#2a3f5f"
            },
            "error_y": {
             "color": "#2a3f5f"
            },
            "marker": {
             "line": {
              "color": "#E5ECF6",
              "width": 0.5
             },
             "pattern": {
              "fillmode": "overlay",
              "size": 10,
              "solidity": 0.2
             }
            },
            "type": "bar"
           }
          ],
          "barpolar": [
           {
            "marker": {
             "line": {
              "color": "#E5ECF6",
              "width": 0.5
             },
             "pattern": {
              "fillmode": "overlay",
              "size": 10,
              "solidity": 0.2
             }
            },
            "type": "barpolar"
           }
          ],
          "carpet": [
           {
            "aaxis": {
             "endlinecolor": "#2a3f5f",
             "gridcolor": "white",
             "linecolor": "white",
             "minorgridcolor": "white",
             "startlinecolor": "#2a3f5f"
            },
            "baxis": {
             "endlinecolor": "#2a3f5f",
             "gridcolor": "white",
             "linecolor": "white",
             "minorgridcolor": "white",
             "startlinecolor": "#2a3f5f"
            },
            "type": "carpet"
           }
          ],
          "choropleth": [
           {
            "colorbar": {
             "outlinewidth": 0,
             "ticks": ""
            },
            "type": "choropleth"
           }
          ],
          "contour": [
           {
            "colorbar": {
             "outlinewidth": 0,
             "ticks": ""
            },
            "colorscale": [
             [
              0,
              "#0d0887"
             ],
             [
              0.1111111111111111,
              "#46039f"
             ],
             [
              0.2222222222222222,
              "#7201a8"
             ],
             [
              0.3333333333333333,
              "#9c179e"
             ],
             [
              0.4444444444444444,
              "#bd3786"
             ],
             [
              0.5555555555555556,
              "#d8576b"
             ],
             [
              0.6666666666666666,
              "#ed7953"
             ],
             [
              0.7777777777777778,
              "#fb9f3a"
             ],
             [
              0.8888888888888888,
              "#fdca26"
             ],
             [
              1,
              "#f0f921"
             ]
            ],
            "type": "contour"
           }
          ],
          "contourcarpet": [
           {
            "colorbar": {
             "outlinewidth": 0,
             "ticks": ""
            },
            "type": "contourcarpet"
           }
          ],
          "heatmap": [
           {
            "colorbar": {
             "outlinewidth": 0,
             "ticks": ""
            },
            "colorscale": [
             [
              0,
              "#0d0887"
             ],
             [
              0.1111111111111111,
              "#46039f"
             ],
             [
              0.2222222222222222,
              "#7201a8"
             ],
             [
              0.3333333333333333,
              "#9c179e"
             ],
             [
              0.4444444444444444,
              "#bd3786"
             ],
             [
              0.5555555555555556,
              "#d8576b"
             ],
             [
              0.6666666666666666,
              "#ed7953"
             ],
             [
              0.7777777777777778,
              "#fb9f3a"
             ],
             [
              0.8888888888888888,
              "#fdca26"
             ],
             [
              1,
              "#f0f921"
             ]
            ],
            "type": "heatmap"
           }
          ],
          "heatmapgl": [
           {
            "colorbar": {
             "outlinewidth": 0,
             "ticks": ""
            },
            "colorscale": [
             [
              0,
              "#0d0887"
             ],
             [
              0.1111111111111111,
              "#46039f"
             ],
             [
              0.2222222222222222,
              "#7201a8"
             ],
             [
              0.3333333333333333,
              "#9c179e"
             ],
             [
              0.4444444444444444,
              "#bd3786"
             ],
             [
              0.5555555555555556,
              "#d8576b"
             ],
             [
              0.6666666666666666,
              "#ed7953"
             ],
             [
              0.7777777777777778,
              "#fb9f3a"
             ],
             [
              0.8888888888888888,
              "#fdca26"
             ],
             [
              1,
              "#f0f921"
             ]
            ],
            "type": "heatmapgl"
           }
          ],
          "histogram": [
           {
            "marker": {
             "pattern": {
              "fillmode": "overlay",
              "size": 10,
              "solidity": 0.2
             }
            },
            "type": "histogram"
           }
          ],
          "histogram2d": [
           {
            "colorbar": {
             "outlinewidth": 0,
             "ticks": ""
            },
            "colorscale": [
             [
              0,
              "#0d0887"
             ],
             [
              0.1111111111111111,
              "#46039f"
             ],
             [
              0.2222222222222222,
              "#7201a8"
             ],
             [
              0.3333333333333333,
              "#9c179e"
             ],
             [
              0.4444444444444444,
              "#bd3786"
             ],
             [
              0.5555555555555556,
              "#d8576b"
             ],
             [
              0.6666666666666666,
              "#ed7953"
             ],
             [
              0.7777777777777778,
              "#fb9f3a"
             ],
             [
              0.8888888888888888,
              "#fdca26"
             ],
             [
              1,
              "#f0f921"
             ]
            ],
            "type": "histogram2d"
           }
          ],
          "histogram2dcontour": [
           {
            "colorbar": {
             "outlinewidth": 0,
             "ticks": ""
            },
            "colorscale": [
             [
              0,
              "#0d0887"
             ],
             [
              0.1111111111111111,
              "#46039f"
             ],
             [
              0.2222222222222222,
              "#7201a8"
             ],
             [
              0.3333333333333333,
              "#9c179e"
             ],
             [
              0.4444444444444444,
              "#bd3786"
             ],
             [
              0.5555555555555556,
              "#d8576b"
             ],
             [
              0.6666666666666666,
              "#ed7953"
             ],
             [
              0.7777777777777778,
              "#fb9f3a"
             ],
             [
              0.8888888888888888,
              "#fdca26"
             ],
             [
              1,
              "#f0f921"
             ]
            ],
            "type": "histogram2dcontour"
           }
          ],
          "mesh3d": [
           {
            "colorbar": {
             "outlinewidth": 0,
             "ticks": ""
            },
            "type": "mesh3d"
           }
          ],
          "parcoords": [
           {
            "line": {
             "colorbar": {
              "outlinewidth": 0,
              "ticks": ""
             }
            },
            "type": "parcoords"
           }
          ],
          "pie": [
           {
            "automargin": true,
            "type": "pie"
           }
          ],
          "scatter": [
           {
            "fillpattern": {
             "fillmode": "overlay",
             "size": 10,
             "solidity": 0.2
            },
            "type": "scatter"
           }
          ],
          "scatter3d": [
           {
            "line": {
             "colorbar": {
              "outlinewidth": 0,
              "ticks": ""
             }
            },
            "marker": {
             "colorbar": {
              "outlinewidth": 0,
              "ticks": ""
             }
            },
            "type": "scatter3d"
           }
          ],
          "scattercarpet": [
           {
            "marker": {
             "colorbar": {
              "outlinewidth": 0,
              "ticks": ""
             }
            },
            "type": "scattercarpet"
           }
          ],
          "scattergeo": [
           {
            "marker": {
             "colorbar": {
              "outlinewidth": 0,
              "ticks": ""
             }
            },
            "type": "scattergeo"
           }
          ],
          "scattergl": [
           {
            "marker": {
             "colorbar": {
              "outlinewidth": 0,
              "ticks": ""
             }
            },
            "type": "scattergl"
           }
          ],
          "scattermapbox": [
           {
            "marker": {
             "colorbar": {
              "outlinewidth": 0,
              "ticks": ""
             }
            },
            "type": "scattermapbox"
           }
          ],
          "scatterpolar": [
           {
            "marker": {
             "colorbar": {
              "outlinewidth": 0,
              "ticks": ""
             }
            },
            "type": "scatterpolar"
           }
          ],
          "scatterpolargl": [
           {
            "marker": {
             "colorbar": {
              "outlinewidth": 0,
              "ticks": ""
             }
            },
            "type": "scatterpolargl"
           }
          ],
          "scatterternary": [
           {
            "marker": {
             "colorbar": {
              "outlinewidth": 0,
              "ticks": ""
             }
            },
            "type": "scatterternary"
           }
          ],
          "surface": [
           {
            "colorbar": {
             "outlinewidth": 0,
             "ticks": ""
            },
            "colorscale": [
             [
              0,
              "#0d0887"
             ],
             [
              0.1111111111111111,
              "#46039f"
             ],
             [
              0.2222222222222222,
              "#7201a8"
             ],
             [
              0.3333333333333333,
              "#9c179e"
             ],
             [
              0.4444444444444444,
              "#bd3786"
             ],
             [
              0.5555555555555556,
              "#d8576b"
             ],
             [
              0.6666666666666666,
              "#ed7953"
             ],
             [
              0.7777777777777778,
              "#fb9f3a"
             ],
             [
              0.8888888888888888,
              "#fdca26"
             ],
             [
              1,
              "#f0f921"
             ]
            ],
            "type": "surface"
           }
          ],
          "table": [
           {
            "cells": {
             "fill": {
              "color": "#EBF0F8"
             },
             "line": {
              "color": "white"
             }
            },
            "header": {
             "fill": {
              "color": "#C8D4E3"
             },
             "line": {
              "color": "white"
             }
            },
            "type": "table"
           }
          ]
         },
         "layout": {
          "annotationdefaults": {
           "arrowcolor": "#2a3f5f",
           "arrowhead": 0,
           "arrowwidth": 1
          },
          "autotypenumbers": "strict",
          "coloraxis": {
           "colorbar": {
            "outlinewidth": 0,
            "ticks": ""
           }
          },
          "colorscale": {
           "diverging": [
            [
             0,
             "#8e0152"
            ],
            [
             0.1,
             "#c51b7d"
            ],
            [
             0.2,
             "#de77ae"
            ],
            [
             0.3,
             "#f1b6da"
            ],
            [
             0.4,
             "#fde0ef"
            ],
            [
             0.5,
             "#f7f7f7"
            ],
            [
             0.6,
             "#e6f5d0"
            ],
            [
             0.7,
             "#b8e186"
            ],
            [
             0.8,
             "#7fbc41"
            ],
            [
             0.9,
             "#4d9221"
            ],
            [
             1,
             "#276419"
            ]
           ],
           "sequential": [
            [
             0,
             "#0d0887"
            ],
            [
             0.1111111111111111,
             "#46039f"
            ],
            [
             0.2222222222222222,
             "#7201a8"
            ],
            [
             0.3333333333333333,
             "#9c179e"
            ],
            [
             0.4444444444444444,
             "#bd3786"
            ],
            [
             0.5555555555555556,
             "#d8576b"
            ],
            [
             0.6666666666666666,
             "#ed7953"
            ],
            [
             0.7777777777777778,
             "#fb9f3a"
            ],
            [
             0.8888888888888888,
             "#fdca26"
            ],
            [
             1,
             "#f0f921"
            ]
           ],
           "sequentialminus": [
            [
             0,
             "#0d0887"
            ],
            [
             0.1111111111111111,
             "#46039f"
            ],
            [
             0.2222222222222222,
             "#7201a8"
            ],
            [
             0.3333333333333333,
             "#9c179e"
            ],
            [
             0.4444444444444444,
             "#bd3786"
            ],
            [
             0.5555555555555556,
             "#d8576b"
            ],
            [
             0.6666666666666666,
             "#ed7953"
            ],
            [
             0.7777777777777778,
             "#fb9f3a"
            ],
            [
             0.8888888888888888,
             "#fdca26"
            ],
            [
             1,
             "#f0f921"
            ]
           ]
          },
          "colorway": [
           "#636efa",
           "#EF553B",
           "#00cc96",
           "#ab63fa",
           "#FFA15A",
           "#19d3f3",
           "#FF6692",
           "#B6E880",
           "#FF97FF",
           "#FECB52"
          ],
          "font": {
           "color": "#2a3f5f"
          },
          "geo": {
           "bgcolor": "white",
           "lakecolor": "white",
           "landcolor": "#E5ECF6",
           "showlakes": true,
           "showland": true,
           "subunitcolor": "white"
          },
          "hoverlabel": {
           "align": "left"
          },
          "hovermode": "closest",
          "mapbox": {
           "style": "light"
          },
          "paper_bgcolor": "white",
          "plot_bgcolor": "#E5ECF6",
          "polar": {
           "angularaxis": {
            "gridcolor": "white",
            "linecolor": "white",
            "ticks": ""
           },
           "bgcolor": "#E5ECF6",
           "radialaxis": {
            "gridcolor": "white",
            "linecolor": "white",
            "ticks": ""
           }
          },
          "scene": {
           "xaxis": {
            "backgroundcolor": "#E5ECF6",
            "gridcolor": "white",
            "gridwidth": 2,
            "linecolor": "white",
            "showbackground": true,
            "ticks": "",
            "zerolinecolor": "white"
           },
           "yaxis": {
            "backgroundcolor": "#E5ECF6",
            "gridcolor": "white",
            "gridwidth": 2,
            "linecolor": "white",
            "showbackground": true,
            "ticks": "",
            "zerolinecolor": "white"
           },
           "zaxis": {
            "backgroundcolor": "#E5ECF6",
            "gridcolor": "white",
            "gridwidth": 2,
            "linecolor": "white",
            "showbackground": true,
            "ticks": "",
            "zerolinecolor": "white"
           }
          },
          "shapedefaults": {
           "line": {
            "color": "#2a3f5f"
           }
          },
          "ternary": {
           "aaxis": {
            "gridcolor": "white",
            "linecolor": "white",
            "ticks": ""
           },
           "baxis": {
            "gridcolor": "white",
            "linecolor": "white",
            "ticks": ""
           },
           "bgcolor": "#E5ECF6",
           "caxis": {
            "gridcolor": "white",
            "linecolor": "white",
            "ticks": ""
           }
          },
          "title": {
           "x": 0.05
          },
          "xaxis": {
           "automargin": true,
           "gridcolor": "white",
           "linecolor": "white",
           "ticks": "",
           "title": {
            "standoff": 15
           },
           "zerolinecolor": "white",
           "zerolinewidth": 2
          },
          "yaxis": {
           "automargin": true,
           "gridcolor": "white",
           "linecolor": "white",
           "ticks": "",
           "title": {
            "standoff": 15
           },
           "zerolinecolor": "white",
           "zerolinewidth": 2
          }
         }
        },
        "xaxis": {
         "anchor": "y",
         "autorange": true,
         "domain": [
          0,
          1
         ],
         "range": [
          "2022-06-05",
          "2022-06-19"
         ],
         "title": {
          "text": "Date"
         },
         "type": "date"
        },
        "yaxis": {
         "anchor": "x",
         "autorange": true,
         "domain": [
          0,
          1
         ],
         "range": [
          0.21439444444444444,
          0.44650555555555554
         ],
         "title": {
          "text": "value"
         },
         "type": "linear"
        }
       }
      },
      "image/png": "[encoded data removed]",
      "text/html": [
       "<div>                            <div id=\"2cde2413-532f-4a17-85bd-c2c0ef329292\" class=\"plotly-graph-div\" style=\"height:525px; width:100%;\"></div>            <script type=\"text/javascript\">                require([\"plotly\"], function(Plotly) {                    window.PLOTLYENV=window.PLOTLYENV || {};                                    if (document.getElementById(\"2cde2413-532f-4a17-85bd-c2c0ef329292\")) {                    Plotly.newPlot(                        \"2cde2413-532f-4a17-85bd-c2c0ef329292\",                        [{\"hovertemplate\":\"variable=ZRXUSDT<br>Date=%{x}<br>value=%{y}<extra></extra>\",\"legendgroup\":\"ZRXUSDT\",\"line\":{\"color\":\"#636efa\",\"dash\":\"solid\"},\"marker\":{\"symbol\":\"circle\"},\"mode\":\"lines\",\"name\":\"ZRXUSDT\",\"orientation\":\"v\",\"showlegend\":true,\"x\":[\"2022-06-05T00:00:00\",\"2022-06-05T01:00:00\",\"2022-06-05T02:00:00\",\"2022-06-05T03:00:00\",\"2022-06-05T04:00:00\",\"2022-06-05T05:00:00\",\"2022-06-05T06:00:00\",\"2022-06-05T07:00:00\",\"2022-06-05T08:00:00\",\"2022-06-05T09:00:00\",\"2022-06-05T10:00:00\",\"2022-06-05T11:00:00\",\"2022-06-05T12:00:00\",\"2022-06-05T13:00:00\",\"2022-06-05T14:00:00\",\"2022-06-05T15:00:00\",\"2022-06-05T16:00:00\",\"2022-06-05T17:00:00\",\"2022-06-05T18:00:00\",\"2022-06-05T19:00:00\",\"2022-06-05T20:00:00\",\"2022-06-05T21:00:00\",\"2022-06-05T22:00:00\",\"2022-06-05T23:00:00\",\"2022-06-06T00:00:00\",\"2022-06-06T01:00:00\",\"2022-06-06T02:00:00\",\"2022-06-06T03:00:00\",\"2022-06-06T04:00:00\",\"2022-06-06T05:00:00\",\"2022-06-06T06:00:00\",\"2022-06-06T07:00:00\",\"2022-06-06T08:00:00\",\"2022-06-06T09:00:00\",\"2022-06-06T10:00:00\",\"2022-06-06T11:00:00\",\"2022-06-06T12:00:00\",\"2022-06-06T13:00:00\",\"2022-06-06T14:00:00\",\"2022-06-06T15:00:00\",\"2022-06-06T16:00:00\",\"2022-06-06T17:00:00\",\"2022-06-06T18:00:00\",\"2022-06-06T19:00:00\",\"2022-06-06T20:00:00\",\"2022-06-06T21:00:00\",\"2022-06-06T22:00:00\",\"2022-06-06T23:00:00\",\"2022-06-07T00:00:00\",\"2022-06-07T01:00:00\",\"2022-06-07T02:00:00\",\"2022-06-07T03:00:00\",\"2022-06-07T04:00:00\",\"2022-06-07T05:00:00\",\"2022-06-07T06:00:00\",\"2022-06-07T07:00:00\",\"2022-06-07T08:00:00\",\"2022-06-07T09:00:00\",\"2022-06-07T10:00:00\",\"2022-06-07T11:00:00\",\"2022-06-07T12:00:00\",\"2022-06-07T13:00:00\",\"2022-06-07T14:00:00\",\"2022-06-07T15:00:00\",\"2022-06-07T16:00:00\",\"2022-06-07T17:00:00\",\"2022-06-07T18:00:00\",\"2022-06-07T19:00:00\",\"2022-06-07T20:00:00\",\"2022-06-07T21:00:00\",\"2022-06-07T22:00:00\",\"2022-06-07T23:00:00\",\"2022-06-08T00:00:00\",\"2022-06-08T01:00:00\",\"2022-06-08T02:00:00\",\"2022-06-08T03:00:00\",\"2022-06-08T04:00:00\",\"2022-06-08T05:00:00\",\"2022-06-08T06:00:00\",\"2022-06-08T07:00:00\",\"2022-06-08T08:00:00\",\"2022-06-08T09:00:00\",\"2022-06-08T10:00:00\",\"2022-06-08T11:00:00\",\"2022-06-08T12:00:00\",\"2022-06-08T13:00:00\",\"2022-06-08T14:00:00\",\"2022-06-08T15:00:00\",\"2022-06-08T16:00:00\",\"2022-06-08T17:00:00\",\"2022-06-08T18:00:00\",\"2022-06-08T19:00:00\",\"2022-06-08T20:00:00\",\"2022-06-08T21:00:00\",\"2022-06-08T22:00:00\",\"2022-06-08T23:00:00\",\"2022-06-09T00:00:00\",\"2022-06-09T01:00:00\",\"2022-06-09T02:00:00\",\"2022-06-09T03:00:00\",\"2022-06-09T04:00:00\",\"2022-06-09T05:00:00\",\"2022-06-09T06:00:00\",\"2022-06-09T07:00:00\",\"2022-06-09T08:00:00\",\"2022-06-09T09:00:00\",\"2022-06-09T10:00:00\",\"2022-06-09T11:00:00\",\"2022-06-09T12:00:00\",\"2022-06-09T13:00:00\",\"2022-06-09T14:00:00\",\"2022-06-09T15:00:00\",\"2022-06-09T16:00:00\",\"2022-06-09T17:00:00\",\"2022-06-09T18:00:00\",\"2022-06-09T19:00:00\",\"2022-06-09T20:00:00\",\"2022-06-09T21:00:00\",\"2022-06-09T22:00:00\",\"2022-06-09T23:00:00\",\"2022-06-10T00:00:00\",\"2022-06-10T01:00:00\",\"2022-06-10T02:00:00\",\"2022-06-10T03:00:00\",\"2022-06-10T04:00:00\",\"2022-06-10T05:00:00\",\"2022-06-10T06:00:00\",\"2022-06-10T07:00:00\",\"2022-06-10T08:00:00\",\"2022-06-10T09:00:00\",\"2022-06-10T10:00:00\",\"2022-06-10T11:00:00\",\"2022-06-10T12:00:00\",\"2022-06-10T13:00:00\",\"2022-06-10T14:00:00\",\"2022-06-10T15:00:00\",\"2022-06-10T16:00:00\",\"2022-06-10T17:00:00\",\"2022-06-10T18:00:00\",\"2022-06-10T19:00:00\",\"2022-06-10T20:00:00\",\"2022-06-10T21:00:00\",\"2022-06-10T22:00:00\",\"2022-06-10T23:00:00\",\"2022-06-11T00:00:00\",\"2022-06-11T01:00:00\",\"2022-06-11T02:00:00\",\"2022-06-11T03:00:00\",\"2022-06-11T04:00:00\",\"2022-06-11T05:00:00\",\"2022-06-11T06:00:00\",\"2022-06-11T07:00:00\",\"2022-06-11T08:00:00\",\"2022-06-11T09:00:00\",\"2022-06-11T10:00:00\",\"2022-06-11T11:00:00\",\"2022-06-11T12:00:00\",\"2022-06-11T13:00:00\",\"2022-06-11T14:00:00\",\"2022-06-11T15:00:00\",\"2022-06-11T16:00:00\",\"2022-06-11T17:00:00\",\"2022-06-11T18:00:00\",\"2022-06-11T19:00:00\",\"2022-06-11T20:00:00\",\"2022-06-11T21:00:00\",\"2022-06-11T22:00:00\",\"2022-06-11T23:00:00\",\"2022-06-12T00:00:00\",\"2022-06-12T01:00:00\",\"2022-06-12T02:00:00\",\"2022-06-12T03:00:00\",\"2022-06-12T04:00:00\",\"2022-06-12T05:00:00\",\"2022-06-12T06:00:00\",\"2022-06-12T07:00:00\",\"2022-06-12T08:00:00\",\"2022-06-12T09:00:00\",\"2022-06-12T10:00:00\",\"2022-06-12T11:00:00\",\"2022-06-12T12:00:00\",\"2022-06-12T13:00:00\",\"2022-06-12T14:00:00\",\"2022-06-12T15:00:00\",\"2022-06-12T16:00:00\",\"2022-06-12T17:00:00\",\"2022-06-12T18:00:00\",\"2022-06-12T19:00:00\",\"2022-06-12T20:00:00\",\"2022-06-12T21:00:00\",\"2022-06-12T22:00:00\",\"2022-06-12T23:00:00\",\"2022-06-13T00:00:00\",\"2022-06-13T01:00:00\",\"2022-06-13T02:00:00\",\"2022-06-13T03:00:00\",\"2022-06-13T04:00:00\",\"2022-06-13T05:00:00\",\"2022-06-13T06:00:00\",\"2022-06-13T07:00:00\",\"2022-06-13T08:00:00\",\"2022-06-13T09:00:00\",\"2022-06-13T10:00:00\",\"2022-06-13T11:00:00\",\"2022-06-13T12:00:00\",\"2022-06-13T13:00:00\",\"2022-06-13T14:00:00\",\"2022-06-13T15:00:00\",\"2022-06-13T16:00:00\",\"2022-06-13T17:00:00\",\"2022-06-13T18:00:00\",\"2022-06-13T19:00:00\",\"2022-06-13T20:00:00\",\"2022-06-13T21:00:00\",\"2022-06-13T22:00:00\",\"2022-06-13T23:00:00\",\"2022-06-14T00:00:00\",\"2022-06-14T01:00:00\",\"2022-06-14T02:00:00\",\"2022-06-14T03:00:00\",\"2022-06-14T04:00:00\",\"2022-06-14T05:00:00\",\"2022-06-14T06:00:00\",\"2022-06-14T07:00:00\",\"2022-06-14T08:00:00\",\"2022-06-14T09:00:00\",\"2022-06-14T10:00:00\",\"2022-06-14T11:00:00\",\"2022-06-14T12:00:00\",\"2022-06-14T13:00:00\",\"2022-06-14T14:00:00\",\"2022-06-14T15:00:00\",\"2022-06-14T16:00:00\",\"2022-06-14T17:00:00\",\"2022-06-14T18:00:00\",\"2022-06-14T19:00:00\",\"2022-06-14T20:00:00\",\"2022-06-14T21:00:00\",\"2022-06-14T22:00:00\",\"2022-06-14T23:00:00\",\"2022-06-15T00:00:00\",\"2022-06-15T01:00:00\",\"2022-06-15T02:00:00\",\"2022-06-15T03:00:00\",\"2022-06-15T04:00:00\",\"2022-06-15T05:00:00\",\"2022-06-15T06:00:00\",\"2022-06-15T07:00:00\",\"2022-06-15T08:00:00\",\"2022-06-15T09:00:00\",\"2022-06-15T10:00:00\",\"2022-06-15T11:00:00\",\"2022-06-15T12:00:00\",\"2022-06-15T13:00:00\",\"2022-06-15T14:00:00\",\"2022-06-15T15:00:00\",\"2022-06-15T16:00:00\",\"2022-06-15T17:00:00\",\"2022-06-15T18:00:00\",\"2022-06-15T19:00:00\",\"2022-06-15T20:00:00\",\"2022-06-15T21:00:00\",\"2022-06-15T22:00:00\",\"2022-06-15T23:00:00\",\"2022-06-16T00:00:00\",\"2022-06-16T01:00:00\",\"2022-06-16T02:00:00\",\"2022-06-16T03:00:00\",\"2022-06-16T04:00:00\",\"2022-06-16T05:00:00\",\"2022-06-16T06:00:00\",\"2022-06-16T07:00:00\",\"2022-06-16T08:00:00\",\"2022-06-16T09:00:00\",\"2022-06-16T10:00:00\",\"2022-06-16T11:00:00\",\"2022-06-16T12:00:00\",\"2022-06-16T13:00:00\",\"2022-06-16T14:00:00\",\"2022-06-16T15:00:00\",\"2022-06-16T16:00:00\",\"2022-06-16T17:00:00\",\"2022-06-16T18:00:00\",\"2022-06-16T19:00:00\",\"2022-06-16T20:00:00\",\"2022-06-16T21:00:00\",\"2022-06-16T22:00:00\",\"2022-06-16T23:00:00\",\"2022-06-17T00:00:00\",\"2022-06-17T01:00:00\",\"2022-06-17T02:00:00\",\"2022-06-17T03:00:00\",\"2022-06-17T04:00:00\",\"2022-06-17T05:00:00\",\"2022-06-17T06:00:00\",\"2022-06-17T07:00:00\",\"2022-06-17T08:00:00\",\"2022-06-17T09:00:00\",\"2022-06-17T10:00:00\",\"2022-06-17T11:00:00\",\"2022-06-17T12:00:00\",\"2022-06-17T13:00:00\",\"2022-06-17T14:00:00\",\"2022-06-17T15:00:00\",\"2022-06-17T16:00:00\",\"2022-06-17T17:00:00\",\"2022-06-17T18:00:00\",\"2022-06-17T19:00:00\",\"2022-06-17T20:00:00\",\"2022-06-17T21:00:00\",\"2022-06-17T22:00:00\",\"2022-06-17T23:00:00\",\"2022-06-18T00:00:00\",\"2022-06-18T01:00:00\",\"2022-06-18T02:00:00\",\"2022-06-18T03:00:00\",\"2022-06-18T04:00:00\",\"2022-06-18T05:00:00\",\"2022-06-18T06:00:00\",\"2022-06-18T07:00:00\",\"2022-06-18T08:00:00\",\"2022-06-18T09:00:00\",\"2022-06-18T10:00:00\",\"2022-06-18T11:00:00\",\"2022-06-18T12:00:00\",\"2022-06-18T13:00:00\",\"2022-06-18T14:00:00\",\"2022-06-18T15:00:00\",\"2022-06-18T16:00:00\",\"2022-06-18T17:00:00\",\"2022-06-18T18:00:00\",\"2022-06-18T19:00:00\",\"2022-06-18T20:00:00\",\"2022-06-18T21:00:00\",\"2022-06-18T22:00:00\",\"2022-06-18T23:00:00\",\"2022-06-19T00:00:00\"],\"xaxis\":\"x\",\"y\":[0.3878,0.3829,0.3945,0.3981,0.3961,0.3946,0.3938,0.393,0.3918,0.3944,0.4014,0.4005,0.3999,0.398,0.399,0.4049,0.4028,0.4059,0.406,0.4101,0.4082,0.4084,0.4098,0.4073,0.4226,0.4276,0.4289,0.4285,0.4255,0.4267,0.4322,0.4342,0.4336,0.4349,0.4311,0.4222,0.4262,0.4232,0.4275,0.4268,0.4188,0.4183,0.4206,0.4229,0.4216,0.4281,0.423,0.4286,0.4035,0.4004,0.4,0.4002,0.4001,0.401,0.4013,0.4011,0.4019,0.3993,0.4006,0.3972,0.3961,0.3975,0.4012,0.3995,0.399,0.3987,0.4034,0.4087,0.4138,0.4132,0.4081,0.4087,0.4084,0.4109,0.4107,0.3989,0.4025,0.4097,0.4045,0.4076,0.4097,0.4102,0.4065,0.407,0.4018,0.4091,0.4056,0.4073,0.4041,0.4042,0.3995,0.3992,0.3985,0.4005,0.3985,0.398,0.3935,0.3916,0.3934,0.3945,0.3952,0.3949,0.3947,0.3974,0.3988,0.3981,0.3973,0.3957,0.3922,0.3949,0.3932,0.3963,0.3993,0.3988,0.3956,0.3898,0.3927,0.3941,0.3923,0.3931,0.3847,0.3858,0.3868,0.3886,0.3873,0.3893,0.3868,0.3874,0.3843,0.3785,0.3796,0.3819,0.3681,0.3654,0.3679,0.3663,0.3596,0.3607,0.3602,0.3601,0.3656,0.3662,0.3656,0.3608,0.365,0.3615,0.3632,0.3641,0.3677,0.364,0.3661,0.3687,0.3582,0.3601,0.3531,0.344,0.3383,0.3427,0.3308,0.3291,0.3332,0.3342,0.338,0.3342,0.3309,0.3354,0.3388,0.3323,0.3328,0.3227,0.3081,0.309,0.3042,0.3012,0.3079,0.3111,0.311,0.3082,0.3084,0.3093,0.3103,0.3053,0.3213,0.325,0.3184,0.3195,0.3175,0.3181,0.3131,0.3134,0.3041,0.2974,0.2849,0.2807,0.2729,0.2736,0.2743,0.2697,0.2616,0.2577,0.2445,0.2504,0.2476,0.2459,0.2459,0.2516,0.2439,0.2507,0.2581,0.2544,0.2532,0.2549,0.2591,0.2513,0.2437,0.2524,0.2446,0.2278,0.238,0.249,0.2453,0.2544,0.2552,0.2564,0.2499,0.2465,0.2446,0.2441,0.2449,0.2485,0.2468,0.2526,0.2454,0.2442,0.2439,0.2446,0.2415,0.2394,0.2438,0.2513,0.2466,0.2552,0.2488,0.2439,0.2406,0.2366,0.2415,0.2394,0.2272,0.2276,0.233,0.2378,0.2368,0.2406,0.2353,0.2384,0.2319,0.2387,0.2487,0.255,0.2545,0.2645,0.2648,0.2742,0.2804,0.2854,0.3029,0.3168,0.3114,0.3054,0.2899,0.2878,0.2944,0.2837,0.2799,0.2777,0.2814,0.2764,0.2742,0.2834,0.2873,0.2795,0.2794,0.2714,0.2794,0.2745,0.264,0.2615,0.2569,0.2686,0.2638,0.2595,0.2593,0.2653,0.2669,0.2681,0.27,0.2664,0.2698,0.2665,0.2605,0.2679,0.2636,0.2663,0.263,0.2634,0.2648,0.2646,0.2685,0.2681,0.2669,0.268,0.2723,0.2645,0.2689,0.2687,0.2684,0.2665,0.2535,0.2442,0.2437,0.2475,0.2509,0.2471,0.2462,0.2475,0.2445,0.2435,0.243,0.242,0.2364,0.23,0.226,0.2413,0.2467,0.2476,0.2445],\"yaxis\":\"y\",\"type\":\"scatter\"}],                        {\"template\":{\"data\":{\"histogram2dcontour\":[{\"type\":\"histogram2dcontour\",\"colorbar\":{\"outlinewidth\":0,\"ticks\":\"\"},\"colorscale\":[[0.0,\"#0d0887\"],[0.1111111111111111,\"#46039f\"],[0.2222222222222222,\"#7201a8\"],[0.3333333333333333,\"#9c179e\"],[0.4444444444444444,\"#bd3786\"],[0.5555555555555556,\"#d8576b\"],[0.6666666666666666,\"#ed7953\"],[0.7777777777777778,\"#fb9f3a\"],[0.8888888888888888,\"#fdca26\"],[1.0,\"#f0f921\"]]}],\"choropleth\":[{\"type\":\"choropleth\",\"colorbar\":{\"outlinewidth\":0,\"ticks\":\"\"}}],\"histogram2d\":[{\"type\":\"histogram2d\",\"colorbar\":{\"outlinewidth\":0,\"ticks\":\"\"},\"colorscale\":[[0.0,\"#0d0887\"],[0.1111111111111111,\"#46039f\"],[0.2222222222222222,\"#7201a8\"],[0.3333333333333333,\"#9c179e\"],[0.4444444444444444,\"#bd3786\"],[0.5555555555555556,\"#d8576b\"],[0.6666666666666666,\"#ed7953\"],[0.7777777777777778,\"#fb9f3a\"],[0.8888888888888888,\"#fdca26\"],[1.0,\"#f0f921\"]]}],\"heatmap\":[{\"type\":\"heatmap\",\"colorbar\":{\"outlinewidth\":0,\"ticks\":\"\"},\"colorscale\":[[0.0,\"#0d0887\"],[0.1111111111111111,\"#46039f\"],[0.2222222222222222,\"#7201a8\"],[0.3333333333333333,\"#9c179e\"],[0.4444444444444444,\"#bd3786\"],[0.5555555555555556,\"#d8576b\"],[0.6666666666666666,\"#ed7953\"],[0.7777777777777778,\"#fb9f3a\"],[0.8888888888888888,\"#fdca26\"],[1.0,\"#f0f921\"]]}],\"heatmapgl\":[{\"type\":\"heatmapgl\",\"colorbar\":{\"outlinewidth\":0,\"ticks\":\"\"},\"colorscale\":[[0.0,\"#0d0887\"],[0.1111111111111111,\"#46039f\"],[0.2222222222222222,\"#7201a8\"],[0.3333333333333333,\"#9c179e\"],[0.4444444444444444,\"#bd3786\"],[0.5555555555555556,\"#d8576b\"],[0.6666666666666666,\"#ed7953\"],[0.7777777777777778,\"#fb9f3a\"],[0.8888888888888888,\"#fdca26\"],[1.0,\"#f0f921\"]]}],\"contourcarpet\":[{\"type\":\"contourcarpet\",\"colorbar\":{\"outlinewidth\":0,\"ticks\":\"\"}}],\"contour\":[{\"type\":\"contour\",\"colorbar\":{\"outlinewidth\":0,\"ticks\":\"\"},\"colorscale\":[[0.0,\"#0d0887\"],[0.1111111111111111,\"#46039f\"],[0.2222222222222222,\"#7201a8\"],[0.3333333333333333,\"#9c179e\"],[0.4444444444444444,\"#bd3786\"],[0.5555555555555556,\"#d8576b\"],[0.6666666666666666,\"#ed7953\"],[0.7777777777777778,\"#fb9f3a\"],[0.8888888888888888,\"#fdca26\"],[1.0,\"#f0f921\"]]}],\"surface\":[{\"type\":\"surface\",\"colorbar\":{\"outlinewidth\":0,\"ticks\":\"\"},\"colorscale\":[[0.0,\"#0d0887\"],[0.1111111111111111,\"#46039f\"],[0.2222222222222222,\"#7201a8\"],[0.3333333333333333,\"#9c179e\"],[0.4444444444444444,\"#bd3786\"],[0.5555555555555556,\"#d8576b\"],[0.6666666666666666,\"#ed7953\"],[0.7777777777777778,\"#fb9f3a\"],[0.8888888888888888,\"#fdca26\"],[1.0,\"#f0f921\"]]}],\"mesh3d\":[{\"type\":\"mesh3d\",\"colorbar\":{\"outlinewidth\":0,\"ticks\":\"\"}}],\"scatter\":[{\"fillpattern\":{\"fillmode\":\"overlay\",\"size\":10,\"solidity\":0.2},\"type\":\"scatter\"}],\"parcoords\":[{\"type\":\"parcoords\",\"line\":{\"colorbar\":{\"outlinewidth\":0,\"ticks\":\"\"}}}],\"scatterpolargl\":[{\"type\":\"scatterpolargl\",\"marker\":{\"colorbar\":{\"outlinewidth\":0,\"ticks\":\"\"}}}],\"bar\":[{\"error_x\":{\"color\":\"#2a3f5f\"},\"error_y\":{\"color\":\"#2a3f5f\"},\"marker\":{\"line\":{\"color\":\"#E5ECF6\",\"width\":0.5},\"pattern\":{\"fillmode\":\"overlay\",\"size\":10,\"solidity\":0.2}},\"type\":\"bar\"}],\"scattergeo\":[{\"type\":\"scattergeo\",\"marker\":{\"colorbar\":{\"outlinewidth\":0,\"ticks\":\"\"}}}],\"scatterpolar\":[{\"type\":\"scatterpolar\",\"marker\":{\"colorbar\":{\"outlinewidth\":0,\"ticks\":\"\"}}}],\"histogram\":[{\"marker\":{\"pattern\":{\"fillmode\":\"overlay\",\"size\":10,\"solidity\":0.2}},\"type\":\"histogram\"}],\"scattergl\":[{\"type\":\"scattergl\",\"marker\":{\"colorbar\":{\"outlinewidth\":0,\"ticks\":\"\"}}}],\"scatter3d\":[{\"type\":\"scatter3d\",\"line\":{\"colorbar\":{\"outlinewidth\":0,\"ticks\":\"\"}},\"marker\":{\"colorbar\":{\"outlinewidth\":0,\"ticks\":\"\"}}}],\"scattermapbox\":[{\"type\":\"scattermapbox\",\"marker\":{\"colorbar\":{\"outlinewidth\":0,\"ticks\":\"\"}}}],\"scatterternary\":[{\"type\":\"scatterternary\",\"marker\":{\"colorbar\":{\"outlinewidth\":0,\"ticks\":\"\"}}}],\"scattercarpet\":[{\"type\":\"scattercarpet\",\"marker\":{\"colorbar\":{\"outlinewidth\":0,\"ticks\":\"\"}}}],\"carpet\":[{\"aaxis\":{\"endlinecolor\":\"#2a3f5f\",\"gridcolor\":\"white\",\"linecolor\":\"white\",\"minorgridcolor\":\"white\",\"startlinecolor\":\"#2a3f5f\"},\"baxis\":{\"endlinecolor\":\"#2a3f5f\",\"gridcolor\":\"white\",\"linecolor\":\"white\",\"minorgridcolor\":\"white\",\"startlinecolor\":\"#2a3f5f\"},\"type\":\"carpet\"}],\"table\":[{\"cells\":{\"fill\":{\"color\":\"#EBF0F8\"},\"line\":{\"color\":\"white\"}},\"header\":{\"fill\":{\"color\":\"#C8D4E3\"},\"line\":{\"color\":\"white\"}},\"type\":\"table\"}],\"barpolar\":[{\"marker\":{\"line\":{\"color\":\"#E5ECF6\",\"width\":0.5},\"pattern\":{\"fillmode\":\"overlay\",\"size\":10,\"solidity\":0.2}},\"type\":\"barpolar\"}],\"pie\":[{\"automargin\":true,\"type\":\"pie\"}]},\"layout\":{\"autotypenumbers\":\"strict\",\"colorway\":[\"#636efa\",\"#EF553B\",\"#00cc96\",\"#ab63fa\",\"#FFA15A\",\"#19d3f3\",\"#FF6692\",\"#B6E880\",\"#FF97FF\",\"#FECB52\"],\"font\":{\"color\":\"#2a3f5f\"},\"hovermode\":\"closest\",\"hoverlabel\":{\"align\":\"left\"},\"paper_bgcolor\":\"white\",\"plot_bgcolor\":\"#E5ECF6\",\"polar\":{\"bgcolor\":\"#E5ECF6\",\"angularaxis\":{\"gridcolor\":\"white\",\"linecolor\":\"white\",\"ticks\":\"\"},\"radialaxis\":{\"gridcolor\":\"white\",\"linecolor\":\"white\",\"ticks\":\"\"}},\"ternary\":{\"bgcolor\":\"#E5ECF6\",\"aaxis\":{\"gridcolor\":\"white\",\"linecolor\":\"white\",\"ticks\":\"\"},\"baxis\":{\"gridcolor\":\"white\",\"linecolor\":\"white\",\"ticks\":\"\"},\"caxis\":{\"gridcolor\":\"white\",\"linecolor\":\"white\",\"ticks\":\"\"}},\"coloraxis\":{\"colorbar\":{\"outlinewidth\":0,\"ticks\":\"\"}},\"colorscale\":{\"sequential\":[[0.0,\"#0d0887\"],[0.1111111111111111,\"#46039f\"],[0.2222222222222222,\"#7201a8\"],[0.3333333333333333,\"#9c179e\"],[0.4444444444444444,\"#bd3786\"],[0.5555555555555556,\"#d8576b\"],[0.6666666666666666,\"#ed7953\"],[0.7777777777777778,\"#fb9f3a\"],[0.8888888888888888,\"#fdca26\"],[1.0,\"#f0f921\"]],\"sequentialminus\":[[0.0,\"#0d0887\"],[0.1111111111111111,\"#46039f\"],[0.2222222222222222,\"#7201a8\"],[0.3333333333333333,\"#9c179e\"],[0.4444444444444444,\"#bd3786\"],[0.5555555555555556,\"#d8576b\"],[0.6666666666666666,\"#ed7953\"],[0.7777777777777778,\"#fb9f3a\"],[0.8888888888888888,\"#fdca26\"],[1.0,\"#f0f921\"]],\"diverging\":[[0,\"#8e0152\"],[0.1,\"#c51b7d\"],[0.2,\"#de77ae\"],[0.3,\"#f1b6da\"],[0.4,\"#fde0ef\"],[0.5,\"#f7f7f7\"],[0.6,\"#e6f5d0\"],[0.7,\"#b8e186\"],[0.8,\"#7fbc41\"],[0.9,\"#4d9221\"],[1,\"#276419\"]]},\"xaxis\":{\"gridcolor\":\"white\",\"linecolor\":\"white\",\"ticks\":\"\",\"title\":{\"standoff\":15},\"zerolinecolor\":\"white\",\"automargin\":true,\"zerolinewidth\":2},\"yaxis\":{\"gridcolor\":\"white\",\"linecolor\":\"white\",\"ticks\":\"\",\"title\":{\"standoff\":15},\"zerolinecolor\":\"white\",\"automargin\":true,\"zerolinewidth\":2},\"scene\":{\"xaxis\":{\"backgroundcolor\":\"#E5ECF6\",\"gridcolor\":\"white\",\"linecolor\":\"white\",\"showbackground\":true,\"ticks\":\"\",\"zerolinecolor\":\"white\",\"gridwidth\":2},\"yaxis\":{\"backgroundcolor\":\"#E5ECF6\",\"gridcolor\":\"white\",\"linecolor\":\"white\",\"showbackground\":true,\"ticks\":\"\",\"zerolinecolor\":\"white\",\"gridwidth\":2},\"zaxis\":{\"backgroundcolor\":\"#E5ECF6\",\"gridcolor\":\"white\",\"linecolor\":\"white\",\"showbackground\":true,\"ticks\":\"\",\"zerolinecolor\":\"white\",\"gridwidth\":2}},\"shapedefaults\":{\"line\":{\"color\":\"#2a3f5f\"}},\"annotationdefaults\":{\"arrowcolor\":\"#2a3f5f\",\"arrowhead\":0,\"arrowwidth\":1},\"geo\":{\"bgcolor\":\"white\",\"landcolor\":\"#E5ECF6\",\"subunitcolor\":\"white\",\"showland\":true,\"showlakes\":true,\"lakecolor\":\"white\"},\"title\":{\"x\":0.05},\"mapbox\":{\"style\":\"light\"}}},\"xaxis\":{\"anchor\":\"y\",\"domain\":[0.0,1.0],\"title\":{\"text\":\"Date\"}},\"yaxis\":{\"anchor\":\"x\",\"domain\":[0.0,1.0],\"title\":{\"text\":\"value\"}},\"legend\":{\"title\":{\"text\":\"variable\"},\"tracegroupgap\":0},\"margin\":{\"t\":60}},                        {\"responsive\": true}                    ).then(function(){\n",
       "                            \n",
       "var gd = document.getElementById('2cde2413-532f-4a17-85bd-c2c0ef329292');\n",
       "var x = new MutationObserver(function (mutations, observer) {{\n",
       "        var display = window.getComputedStyle(gd).display;\n",
       "        if (!display || display === 'none') {{\n",
       "            console.log([gd, 'removed!']);\n",
       "            Plotly.purge(gd);\n",
       "            observer.disconnect();\n",
       "        }}\n",
       "}});\n",
       "\n",
       "// Listen for the removal of the full notebook cells\n",
       "var notebookContainer = gd.closest('#notebook-container');\n",
       "if (notebookContainer) {{\n",
       "    x.observe(notebookContainer, {childList: true});\n",
       "}}\n",
       "\n",
       "// Listen for the clearing of the current output cell\n",
       "var outputEl = gd.closest('.output');\n",
       "if (outputEl) {{\n",
       "    x.observe(outputEl, {childList: true});\n",
       "}}\n",
       "\n",
       "                        })                };                });            </script>        </div>"
      ]
     },
     "metadata": {},
     "output_type": "display_data"
    },
    {
     "data": {
      "application/vnd.plotly.v1+json": {
       "config": {
        "plotlyServerURL": "https://plot.ly"
       },
       "data": [
        {
         "hovertemplate": "variable=z_score<br>Date=%{x}<br>value=%{y}<extra></extra>",
         "legendgroup": "z_score",
         "line": {
          "color": "#636efa",
          "dash": "solid"
         },
         "marker": {
          "symbol": "circle"
         },
         "mode": "lines",
         "name": "z_score",
         "orientation": "v",
         "showlegend": true,
         "type": "scatter",
         "x": [
          "2022-06-05T00:00:00",
          "2022-06-05T01:00:00",
          "2022-06-05T02:00:00",
          "2022-06-05T03:00:00",
          "2022-06-05T04:00:00",
          "2022-06-05T05:00:00",
          "2022-06-05T06:00:00",
          "2022-06-05T07:00:00",
          "2022-06-05T08:00:00",
          "2022-06-05T09:00:00",
          "2022-06-05T10:00:00",
          "2022-06-05T11:00:00",
          "2022-06-05T12:00:00",
          "2022-06-05T13:00:00",
          "2022-06-05T14:00:00",
          "2022-06-05T15:00:00",
          "2022-06-05T16:00:00",
          "2022-06-05T17:00:00",
          "2022-06-05T18:00:00",
          "2022-06-05T19:00:00",
          "2022-06-05T20:00:00",
          "2022-06-05T21:00:00",
          "2022-06-05T22:00:00",
          "2022-06-05T23:00:00",
          "2022-06-06T00:00:00",
          "2022-06-06T01:00:00",
          "2022-06-06T02:00:00",
          "2022-06-06T03:00:00",
          "2022-06-06T04:00:00",
          "2022-06-06T05:00:00",
          "2022-06-06T06:00:00",
          "2022-06-06T07:00:00",
          "2022-06-06T08:00:00",
          "2022-06-06T09:00:00",
          "2022-06-06T10:00:00",
          "2022-06-06T11:00:00",
          "2022-06-06T12:00:00",
          "2022-06-06T13:00:00",
          "2022-06-06T14:00:00",
          "2022-06-06T15:00:00",
          "2022-06-06T16:00:00",
          "2022-06-06T17:00:00",
          "2022-06-06T18:00:00",
          "2022-06-06T19:00:00",
          "2022-06-06T20:00:00",
          "2022-06-06T21:00:00",
          "2022-06-06T22:00:00",
          "2022-06-06T23:00:00",
          "2022-06-07T00:00:00",
          "2022-06-07T01:00:00",
          "2022-06-07T02:00:00",
          "2022-06-07T03:00:00",
          "2022-06-07T04:00:00",
          "2022-06-07T05:00:00",
          "2022-06-07T06:00:00",
          "2022-06-07T07:00:00",
          "2022-06-07T08:00:00",
          "2022-06-07T09:00:00",
          "2022-06-07T10:00:00",
          "2022-06-07T11:00:00",
          "2022-06-07T12:00:00",
          "2022-06-07T13:00:00",
          "2022-06-07T14:00:00",
          "2022-06-07T15:00:00",
          "2022-06-07T16:00:00",
          "2022-06-07T17:00:00",
          "2022-06-07T18:00:00",
          "2022-06-07T19:00:00",
          "2022-06-07T20:00:00",
          "2022-06-07T21:00:00",
          "2022-06-07T22:00:00",
          "2022-06-07T23:00:00",
          "2022-06-08T00:00:00",
          "2022-06-08T01:00:00",
          "2022-06-08T02:00:00",
          "2022-06-08T03:00:00",
          "2022-06-08T04:00:00",
          "2022-06-08T05:00:00",
          "2022-06-08T06:00:00",
          "2022-06-08T07:00:00",
          "2022-06-08T08:00:00",
          "2022-06-08T09:00:00",
          "2022-06-08T10:00:00",
          "2022-06-08T11:00:00",
          "2022-06-08T12:00:00",
          "2022-06-08T13:00:00",
          "2022-06-08T14:00:00",
          "2022-06-08T15:00:00",
          "2022-06-08T16:00:00",
          "2022-06-08T17:00:00",
          "2022-06-08T18:00:00",
          "2022-06-08T19:00:00",
          "2022-06-08T20:00:00",
          "2022-06-08T21:00:00",
          "2022-06-08T22:00:00",
          "2022-06-08T23:00:00",
          "2022-06-09T00:00:00",
          "2022-06-09T01:00:00",
          "2022-06-09T02:00:00",
          "2022-06-09T03:00:00",
          "2022-06-09T04:00:00",
          "2022-06-09T05:00:00",
          "2022-06-09T06:00:00",
          "2022-06-09T07:00:00",
          "2022-06-09T08:00:00",
          "2022-06-09T09:00:00",
          "2022-06-09T10:00:00",
          "2022-06-09T11:00:00",
          "2022-06-09T12:00:00",
          "2022-06-09T13:00:00",
          "2022-06-09T14:00:00",
          "2022-06-09T15:00:00",
          "2022-06-09T16:00:00",
          "2022-06-09T17:00:00",
          "2022-06-09T18:00:00",
          "2022-06-09T19:00:00",
          "2022-06-09T20:00:00",
          "2022-06-09T21:00:00",
          "2022-06-09T22:00:00",
          "2022-06-09T23:00:00",
          "2022-06-10T00:00:00",
          "2022-06-10T01:00:00",
          "2022-06-10T02:00:00",
          "2022-06-10T03:00:00",
          "2022-06-10T04:00:00",
          "2022-06-10T05:00:00",
          "2022-06-10T06:00:00",
          "2022-06-10T07:00:00",
          "2022-06-10T08:00:00",
          "2022-06-10T09:00:00",
          "2022-06-10T10:00:00",
          "2022-06-10T11:00:00",
          "2022-06-10T12:00:00",
          "2022-06-10T13:00:00",
          "2022-06-10T14:00:00",
          "2022-06-10T15:00:00",
          "2022-06-10T16:00:00",
          "2022-06-10T17:00:00",
          "2022-06-10T18:00:00",
          "2022-06-10T19:00:00",
          "2022-06-10T20:00:00",
          "2022-06-10T21:00:00",
          "2022-06-10T22:00:00",
          "2022-06-10T23:00:00",
          "2022-06-11T00:00:00",
          "2022-06-11T01:00:00",
          "2022-06-11T02:00:00",
          "2022-06-11T03:00:00",
          "2022-06-11T04:00:00",
          "2022-06-11T05:00:00",
          "2022-06-11T06:00:00",
          "2022-06-11T07:00:00",
          "2022-06-11T08:00:00",
          "2022-06-11T09:00:00",
          "2022-06-11T10:00:00",
          "2022-06-11T11:00:00",
          "2022-06-11T12:00:00",
          "2022-06-11T13:00:00",
          "2022-06-11T14:00:00",
          "2022-06-11T15:00:00",
          "2022-06-11T16:00:00",
          "2022-06-11T17:00:00",
          "2022-06-11T18:00:00",
          "2022-06-11T19:00:00",
          "2022-06-11T20:00:00",
          "2022-06-11T21:00:00",
          "2022-06-11T22:00:00",
          "2022-06-11T23:00:00",
          "2022-06-12T00:00:00",
          "2022-06-12T01:00:00",
          "2022-06-12T02:00:00",
          "2022-06-12T03:00:00",
          "2022-06-12T04:00:00",
          "2022-06-12T05:00:00",
          "2022-06-12T06:00:00",
          "2022-06-12T07:00:00",
          "2022-06-12T08:00:00",
          "2022-06-12T09:00:00",
          "2022-06-12T10:00:00",
          "2022-06-12T11:00:00",
          "2022-06-12T12:00:00",
          "2022-06-12T13:00:00",
          "2022-06-12T14:00:00",
          "2022-06-12T15:00:00",
          "2022-06-12T16:00:00",
          "2022-06-12T17:00:00",
          "2022-06-12T18:00:00",
          "2022-06-12T19:00:00",
          "2022-06-12T20:00:00",
          "2022-06-12T21:00:00",
          "2022-06-12T22:00:00",
          "2022-06-12T23:00:00",
          "2022-06-13T00:00:00",
          "2022-06-13T01:00:00",
          "2022-06-13T02:00:00",
          "2022-06-13T03:00:00",
          "2022-06-13T04:00:00",
          "2022-06-13T05:00:00",
          "2022-06-13T06:00:00",
          "2022-06-13T07:00:00",
          "2022-06-13T08:00:00",
          "2022-06-13T09:00:00",
          "2022-06-13T10:00:00",
          "2022-06-13T11:00:00",
          "2022-06-13T12:00:00",
          "2022-06-13T13:00:00",
          "2022-06-13T14:00:00",
          "2022-06-13T15:00:00",
          "2022-06-13T16:00:00",
          "2022-06-13T17:00:00",
          "2022-06-13T18:00:00",
          "2022-06-13T19:00:00",
          "2022-06-13T20:00:00",
          "2022-06-13T21:00:00",
          "2022-06-13T22:00:00",
          "2022-06-13T23:00:00",
          "2022-06-14T00:00:00",
          "2022-06-14T01:00:00",
          "2022-06-14T02:00:00",
          "2022-06-14T03:00:00",
          "2022-06-14T04:00:00",
          "2022-06-14T05:00:00",
          "2022-06-14T06:00:00",
          "2022-06-14T07:00:00",
          "2022-06-14T08:00:00",
          "2022-06-14T09:00:00",
          "2022-06-14T10:00:00",
          "2022-06-14T11:00:00",
          "2022-06-14T12:00:00",
          "2022-06-14T13:00:00",
          "2022-06-14T14:00:00",
          "2022-06-14T15:00:00",
          "2022-06-14T16:00:00",
          "2022-06-14T17:00:00",
          "2022-06-14T18:00:00",
          "2022-06-14T19:00:00",
          "2022-06-14T20:00:00",
          "2022-06-14T21:00:00",
          "2022-06-14T22:00:00",
          "2022-06-14T23:00:00",
          "2022-06-15T00:00:00",
          "2022-06-15T01:00:00",
          "2022-06-15T02:00:00",
          "2022-06-15T03:00:00",
          "2022-06-15T04:00:00",
          "2022-06-15T05:00:00",
          "2022-06-15T06:00:00",
          "2022-06-15T07:00:00",
          "2022-06-15T08:00:00",
          "2022-06-15T09:00:00",
          "2022-06-15T10:00:00",
          "2022-06-15T11:00:00",
          "2022-06-15T12:00:00",
          "2022-06-15T13:00:00",
          "2022-06-15T14:00:00",
          "2022-06-15T15:00:00",
          "2022-06-15T16:00:00",
          "2022-06-15T17:00:00",
          "2022-06-15T18:00:00",
          "2022-06-15T19:00:00",
          "2022-06-15T20:00:00",
          "2022-06-15T21:00:00",
          "2022-06-15T22:00:00",
          "2022-06-15T23:00:00",
          "2022-06-16T00:00:00",
          "2022-06-16T01:00:00",
          "2022-06-16T02:00:00",
          "2022-06-16T03:00:00",
          "2022-06-16T04:00:00",
          "2022-06-16T05:00:00",
          "2022-06-16T06:00:00",
          "2022-06-16T07:00:00",
          "2022-06-16T08:00:00",
          "2022-06-16T09:00:00",
          "2022-06-16T10:00:00",
          "2022-06-16T11:00:00",
          "2022-06-16T12:00:00",
          "2022-06-16T13:00:00",
          "2022-06-16T14:00:00",
          "2022-06-16T15:00:00",
          "2022-06-16T16:00:00",
          "2022-06-16T17:00:00",
          "2022-06-16T18:00:00",
          "2022-06-16T19:00:00",
          "2022-06-16T20:00:00",
          "2022-06-16T21:00:00",
          "2022-06-16T22:00:00",
          "2022-06-16T23:00:00",
          "2022-06-17T00:00:00",
          "2022-06-17T01:00:00",
          "2022-06-17T02:00:00",
          "2022-06-17T03:00:00",
          "2022-06-17T04:00:00",
          "2022-06-17T05:00:00",
          "2022-06-17T06:00:00",
          "2022-06-17T07:00:00",
          "2022-06-17T08:00:00",
          "2022-06-17T09:00:00",
          "2022-06-17T10:00:00",
          "2022-06-17T11:00:00",
          "2022-06-17T12:00:00",
          "2022-06-17T13:00:00",
          "2022-06-17T14:00:00",
          "2022-06-17T15:00:00",
          "2022-06-17T16:00:00",
          "2022-06-17T17:00:00",
          "2022-06-17T18:00:00",
          "2022-06-17T19:00:00",
          "2022-06-17T20:00:00",
          "2022-06-17T21:00:00",
          "2022-06-17T22:00:00",
          "2022-06-17T23:00:00",
          "2022-06-18T00:00:00",
          "2022-06-18T01:00:00",
          "2022-06-18T02:00:00",
          "2022-06-18T03:00:00",
          "2022-06-18T04:00:00",
          "2022-06-18T05:00:00",
          "2022-06-18T06:00:00",
          "2022-06-18T07:00:00",
          "2022-06-18T08:00:00",
          "2022-06-18T09:00:00",
          "2022-06-18T10:00:00",
          "2022-06-18T11:00:00",
          "2022-06-18T12:00:00",
          "2022-06-18T13:00:00",
          "2022-06-18T14:00:00",
          "2022-06-18T15:00:00",
          "2022-06-18T16:00:00",
          "2022-06-18T17:00:00",
          "2022-06-18T18:00:00",
          "2022-06-18T19:00:00",
          "2022-06-18T20:00:00",
          "2022-06-18T21:00:00",
          "2022-06-18T22:00:00",
          "2022-06-18T23:00:00",
          "2022-06-19T00:00:00"
         ],
         "xaxis": "x",
         "y": [
          null,
          null,
          null,
          null,
          null,
          null,
          null,
          null,
          null,
          null,
          null,
          null,
          null,
          null,
          null,
          null,
          null,
          null,
          null,
          null,
          -0.1630226245832195,
          0.1271158030710047,
          1.4108282481400787,
          1.5712888887254008,
          -1.0093845034115354,
          -0.9281074912791664,
          -1.0436781728207432,
          -0.9115783870475488,
          -0.753597249369179,
          -0.7606596160674775,
          -0.4580516155286757,
          0.658412725251344,
          -0.3199733107742441,
          -0.34675368317453104,
          -0.036226288737063066,
          0.1410523126595822,
          0.06696285523597108,
          -0.18156188306515522,
          -0.6465296068464702,
          -0.8700830602835213,
          -0.28806510071713237,
          1.0977200564244871,
          0.4448629325131269,
          0.4912827475584482,
          1.1912175574392783,
          0.14505529993695268,
          0.7527515899874244,
          0.6875359706999623,
          1.6707657807044194,
          1.180299459044777,
          0.7104307293441907,
          1.6833423506749965,
          1.4495502826134463,
          0.8800551248107911,
          0.1656683181211729,
          0.2180234388840288,
          0.8344181155128461,
          0.4272143421265411,
          -0.348838729136973,
          -0.7895712283200083,
          -1.4585997043650225,
          -1.3791243376818567,
          -0.500608041523686,
          -0.5219472928918308,
          0.6635116016047818,
          1.3297729949779529,
          0.759359995132804,
          -0.07270895254486728,
          -1.7065496246007694,
          -1.3953438145682755,
          -1.083545719129186,
          -0.2320698179287233,
          -1.2764497630353986,
          -1.6085959021167937,
          -1.3503920808421928,
          0.06526232934300077,
          -0.8373432856584633,
          -1.750091100876472,
          -0.9090253462689282,
          -1.8002897289859012,
          -1.9598470644813557,
          -1.700850535418373,
          -1.0695095474326546,
          -0.6617268798062014,
          -0.23935330987068193,
          -0.47241299046438456,
          -0.5893497068917832,
          -1.238648653977328,
          -0.36494674301364527,
          -0.14979276724839388,
          0.8759755570770078,
          0.3733372660583883,
          -0.2704018243235468,
          -0.11249627879210262,
          0.04940308528812642,
          1.042005089117708,
          2.5286543841947062,
          2.40371373809401,
          1.28531132689573,
          1.145126055155295,
          0.798365397093189,
          1.1857868899773207,
          1.1683587372898523,
          0.8711352207256067,
          0.7111163813521609,
          0.7322246630875382,
          3.991829421659537,
          0.9934397053802119,
          1.004476788284035,
          0.8552921315696734,
          0.8758154827710678,
          0.44907049165779284,
          -0.012010849562972653,
          -0.0012945618764837665,
          0.46687089750446187,
          0.8960165302756886,
          0.5331465057572145,
          -0.12495915543344095,
          0.316304862255756,
          0.24818427914497296,
          0.39051601230411115,
          0.019758060619511405,
          -0.008504430066323093,
          -0.420096283052829,
          -0.21486816543816176,
          -0.27529138566642836,
          -0.005934764784809432,
          3.4597702102996335,
          1.2012668278363352,
          0.6465363671371057,
          -0.032624721172626325,
          -0.8115542867209891,
          -0.8097954939766349,
          -1.6581787040184641,
          -1.1806371429254616,
          -1.3160922927502183,
          0.3542976449299605,
          -0.7179672488634754,
          -0.7607685748180939,
          -0.4928874839140237,
          -0.24553923837260458,
          -0.1878477511501408,
          -0.007413288802409021,
          0.5320895019016635,
          0.24017218382401043,
          1.1634693004186534,
          0.6880684134795875,
          0.30641537809211383,
          -0.23022705428977358,
          0.9531951142570168,
          0.9561211079985111,
          0.8603474277758743,
          0.4638536683360023,
          0.5417192096805973,
          1.375086952654348,
          1.888216280864918,
          1.5874346373432038,
          1.350035543391645,
          0.43112587406720976,
          -0.043827927484001154,
          -2.950219978398843,
          -1.8048752145222107,
          -1.4305533425466983,
          0.33672871954761907,
          -0.12219655297516528,
          0.9487017177436727,
          -0.2589927146298369,
          0.41024993716295494,
          -0.2430380699117919,
          -1.2861705916533772,
          0.7215018090017665,
          1.6376827341999822,
          2.636657715800217,
          1.6306066444642766,
          1.5650100333265995,
          1.028709707228916,
          1.1067942272819127,
          0.9830961942052724,
          0.8308271794836755,
          0.9591165159184444,
          0.8022072411491568,
          0.7369017322738936,
          -0.752163661561643,
          -0.6658066740489279,
          0.7248004882715936,
          0.7743723067807977,
          0.6588414610556813,
          -0.8229936030989734,
          0.7992960673100206,
          -0.26343733259893337,
          1.528217796649116,
          0.2625623333342461,
          3.9306614050179185,
          1.4663681737316028,
          1.9843709328044583,
          1.6609993036320256,
          1.1831890624976116,
          1.1693478010194769,
          2.2945762300051764,
          1.5078635967344298,
          2.132584184239526,
          1.5448777441056138,
          1.5837286746452566,
          1.6382896014410977,
          1.4011198455325766,
          0.9720921670287905,
          1.2059133261973434,
          0.9954135384663383,
          0.5873620978218199,
          1.0304793157428729,
          1.078581618723947,
          0.3618281256192482,
          -0.26224771359414,
          0.45534889400991446,
          0.7791339255252655,
          0.1762232873382448,
          -0.27833837039970105,
          2.7924512004599134,
          1.8952806558619089,
          0.1226194156904795,
          0.7233201378878478,
          0.007480240605249861,
          -0.35525436685272616,
          -0.7701918640114753,
          0.1620902775968497,
          0.38071248698211074,
          1.3479491895681293,
          0.7280344032414264,
          1.2036173703778497,
          1.1227809633206882,
          0.9315465778552087,
          0.444074388208625,
          1.236655829552536,
          0.9277262973390157,
          0.7693118461921896,
          0.4670957510120805,
          0.8161598592007729,
          0.3160955328132321,
          -0.26611864562266996,
          -1.448263494311802,
          -1.1285995487545686,
          -2.1469787401431852,
          -1.0966518318941791,
          -0.38415882637961063,
          0.6674212931513007,
          2.483136822347556,
          1.1027811831480312,
          0.2036164580932933,
          2.831067833539178,
          2.439802772872085,
          2.0490412902139017,
          2.215210496777398,
          1.716092831108032,
          1.6923327553006473,
          1.891700071152162,
          1.165067919970181,
          0.7121487214528294,
          0.4078441226985493,
          -0.22349967528037412,
          -0.5105216564426834,
          -0.35268113199315915,
          -1.2117939410755179,
          -1.2921844506545392,
          -1.8254106405755797,
          -2.140923059967778,
          -2.3180626568006266,
          -2.641131732137514,
          -2.5905985292203138,
          -1.9522808316001343,
          -1.3226567101327282,
          -0.6510716862122353,
          -0.5694648720996153,
          -0.981515483130514,
          -0.8261213722909739,
          -0.6253665906219636,
          -0.4010890056372572,
          -0.3401645495160132,
          0.08964854194732375,
          0.18192755734558957,
          -0.13119192410412514,
          -0.024476491188397457,
          0.4856258087276238,
          0.5162833404194516,
          0.9836351626632958,
          0.6546193474353221,
          0.9633710332808261,
          1.1886224322820396,
          1.6078977446070777,
          2.191829275599244,
          1.574532023140022,
          1.864027559443683,
          1.803075982828066,
          2.0370109624313075,
          1.4208251683055853,
          1.229299869119613,
          1.029781143666133,
          0.8870072689098151,
          1.7659699125428925,
          1.0141674321743925,
          0.9206133039156983,
          0.8830662316684047,
          0.22707051222469532,
          0.19379174444382008,
          -0.052032780995754674,
          0.30615983136596575,
          0.06265482936504956,
          -0.44856096561652037,
          -0.46360946545345655,
          -0.6635718070753712,
          -0.6201755529631724,
          -0.2661652524360971,
          -0.44761489953744393,
          -1.6806594996674995,
          -0.5299068442011593,
          -1.7352119823512777,
          -1.1127618995756077,
          -0.6074730896530771,
          -0.19749197352586043,
          -0.6846381018580211,
          1.2979048290076884,
          1.6148350594458758,
          0.8659605965137759,
          0.4777650811953474,
          -0.9753953637291315,
          -1.07985055973402,
          -1.2173127439500964,
          -0.12242682619984513,
          0.6901702779893063,
          0.12265954823148706,
          0.530486500069862,
          1.643482166149713,
          2.956320295671388,
          3.1673626915942688,
          0.6822159102231309,
          1.2116858486379365,
          1.0784226294637171,
          1.7045650000896506
         ],
         "yaxis": "y"
        }
       ],
       "layout": {
        "autosize": true,
        "legend": {
         "title": {
          "text": "variable"
         },
         "tracegroupgap": 0
        },
        "margin": {
         "t": 60
        },
        "template": {
         "data": {
          "bar": [
           {
            "error_x": {
             "color": "#2a3f5f"
            },
            "error_y": {
             "color": "#2a3f5f"
            },
            "marker": {
             "line": {
              "color": "#E5ECF6",
              "width": 0.5
             },
             "pattern": {
              "fillmode": "overlay",
              "size": 10,
              "solidity": 0.2
             }
            },
            "type": "bar"
           }
          ],
          "barpolar": [
           {
            "marker": {
             "line": {
              "color": "#E5ECF6",
              "width": 0.5
             },
             "pattern": {
              "fillmode": "overlay",
              "size": 10,
              "solidity": 0.2
             }
            },
            "type": "barpolar"
           }
          ],
          "carpet": [
           {
            "aaxis": {
             "endlinecolor": "#2a3f5f",
             "gridcolor": "white",
             "linecolor": "white",
             "minorgridcolor": "white",
             "startlinecolor": "#2a3f5f"
            },
            "baxis": {
             "endlinecolor": "#2a3f5f",
             "gridcolor": "white",
             "linecolor": "white",
             "minorgridcolor": "white",
             "startlinecolor": "#2a3f5f"
            },
            "type": "carpet"
           }
          ],
          "choropleth": [
           {
            "colorbar": {
             "outlinewidth": 0,
             "ticks": ""
            },
            "type": "choropleth"
           }
          ],
          "contour": [
           {
            "colorbar": {
             "outlinewidth": 0,
             "ticks": ""
            },
            "colorscale": [
             [
              0,
              "#0d0887"
             ],
             [
              0.1111111111111111,
              "#46039f"
             ],
             [
              0.2222222222222222,
              "#7201a8"
             ],
             [
              0.3333333333333333,
              "#9c179e"
             ],
             [
              0.4444444444444444,
              "#bd3786"
             ],
             [
              0.5555555555555556,
              "#d8576b"
             ],
             [
              0.6666666666666666,
              "#ed7953"
             ],
             [
              0.7777777777777778,
              "#fb9f3a"
             ],
             [
              0.8888888888888888,
              "#fdca26"
             ],
             [
              1,
              "#f0f921"
             ]
            ],
            "type": "contour"
           }
          ],
          "contourcarpet": [
           {
            "colorbar": {
             "outlinewidth": 0,
             "ticks": ""
            },
            "type": "contourcarpet"
           }
          ],
          "heatmap": [
           {
            "colorbar": {
             "outlinewidth": 0,
             "ticks": ""
            },
            "colorscale": [
             [
              0,
              "#0d0887"
             ],
             [
              0.1111111111111111,
              "#46039f"
             ],
             [
              0.2222222222222222,
              "#7201a8"
             ],
             [
              0.3333333333333333,
              "#9c179e"
             ],
             [
              0.4444444444444444,
              "#bd3786"
             ],
             [
              0.5555555555555556,
              "#d8576b"
             ],
             [
              0.6666666666666666,
              "#ed7953"
             ],
             [
              0.7777777777777778,
              "#fb9f3a"
             ],
             [
              0.8888888888888888,
              "#fdca26"
             ],
             [
              1,
              "#f0f921"
             ]
            ],
            "type": "heatmap"
           }
          ],
          "heatmapgl": [
           {
            "colorbar": {
             "outlinewidth": 0,
             "ticks": ""
            },
            "colorscale": [
             [
              0,
              "#0d0887"
             ],
             [
              0.1111111111111111,
              "#46039f"
             ],
             [
              0.2222222222222222,
              "#7201a8"
             ],
             [
              0.3333333333333333,
              "#9c179e"
             ],
             [
              0.4444444444444444,
              "#bd3786"
             ],
             [
              0.5555555555555556,
              "#d8576b"
             ],
             [
              0.6666666666666666,
              "#ed7953"
             ],
             [
              0.7777777777777778,
              "#fb9f3a"
             ],
             [
              0.8888888888888888,
              "#fdca26"
             ],
             [
              1,
              "#f0f921"
             ]
            ],
            "type": "heatmapgl"
           }
          ],
          "histogram": [
           {
            "marker": {
             "pattern": {
              "fillmode": "overlay",
              "size": 10,
              "solidity": 0.2
             }
            },
            "type": "histogram"
           }
          ],
          "histogram2d": [
           {
            "colorbar": {
             "outlinewidth": 0,
             "ticks": ""
            },
            "colorscale": [
             [
              0,
              "#0d0887"
             ],
             [
              0.1111111111111111,
              "#46039f"
             ],
             [
              0.2222222222222222,
              "#7201a8"
             ],
             [
              0.3333333333333333,
              "#9c179e"
             ],
             [
              0.4444444444444444,
              "#bd3786"
             ],
             [
              0.5555555555555556,
              "#d8576b"
             ],
             [
              0.6666666666666666,
              "#ed7953"
             ],
             [
              0.7777777777777778,
              "#fb9f3a"
             ],
             [
              0.8888888888888888,
              "#fdca26"
             ],
             [
              1,
              "#f0f921"
             ]
            ],
            "type": "histogram2d"
           }
          ],
          "histogram2dcontour": [
           {
            "colorbar": {
             "outlinewidth": 0,
             "ticks": ""
            },
            "colorscale": [
             [
              0,
              "#0d0887"
             ],
             [
              0.1111111111111111,
              "#46039f"
             ],
             [
              0.2222222222222222,
              "#7201a8"
             ],
             [
              0.3333333333333333,
              "#9c179e"
             ],
             [
              0.4444444444444444,
              "#bd3786"
             ],
             [
              0.5555555555555556,
              "#d8576b"
             ],
             [
              0.6666666666666666,
              "#ed7953"
             ],
             [
              0.7777777777777778,
              "#fb9f3a"
             ],
             [
              0.8888888888888888,
              "#fdca26"
             ],
             [
              1,
              "#f0f921"
             ]
            ],
            "type": "histogram2dcontour"
           }
          ],
          "mesh3d": [
           {
            "colorbar": {
             "outlinewidth": 0,
             "ticks": ""
            },
            "type": "mesh3d"
           }
          ],
          "parcoords": [
           {
            "line": {
             "colorbar": {
              "outlinewidth": 0,
              "ticks": ""
             }
            },
            "type": "parcoords"
           }
          ],
          "pie": [
           {
            "automargin": true,
            "type": "pie"
           }
          ],
          "scatter": [
           {
            "fillpattern": {
             "fillmode": "overlay",
             "size": 10,
             "solidity": 0.2
            },
            "type": "scatter"
           }
          ],
          "scatter3d": [
           {
            "line": {
             "colorbar": {
              "outlinewidth": 0,
              "ticks": ""
             }
            },
            "marker": {
             "colorbar": {
              "outlinewidth": 0,
              "ticks": ""
             }
            },
            "type": "scatter3d"
           }
          ],
          "scattercarpet": [
           {
            "marker": {
             "colorbar": {
              "outlinewidth": 0,
              "ticks": ""
             }
            },
            "type": "scattercarpet"
           }
          ],
          "scattergeo": [
           {
            "marker": {
             "colorbar": {
              "outlinewidth": 0,
              "ticks": ""
             }
            },
            "type": "scattergeo"
           }
          ],
          "scattergl": [
           {
            "marker": {
             "colorbar": {
              "outlinewidth": 0,
              "ticks": ""
             }
            },
            "type": "scattergl"
           }
          ],
          "scattermapbox": [
           {
            "marker": {
             "colorbar": {
              "outlinewidth": 0,
              "ticks": ""
             }
            },
            "type": "scattermapbox"
           }
          ],
          "scatterpolar": [
           {
            "marker": {
             "colorbar": {
              "outlinewidth": 0,
              "ticks": ""
             }
            },
            "type": "scatterpolar"
           }
          ],
          "scatterpolargl": [
           {
            "marker": {
             "colorbar": {
              "outlinewidth": 0,
              "ticks": ""
             }
            },
            "type": "scatterpolargl"
           }
          ],
          "scatterternary": [
           {
            "marker": {
             "colorbar": {
              "outlinewidth": 0,
              "ticks": ""
             }
            },
            "type": "scatterternary"
           }
          ],
          "surface": [
           {
            "colorbar": {
             "outlinewidth": 0,
             "ticks": ""
            },
            "colorscale": [
             [
              0,
              "#0d0887"
             ],
             [
              0.1111111111111111,
              "#46039f"
             ],
             [
              0.2222222222222222,
              "#7201a8"
             ],
             [
              0.3333333333333333,
              "#9c179e"
             ],
             [
              0.4444444444444444,
              "#bd3786"
             ],
             [
              0.5555555555555556,
              "#d8576b"
             ],
             [
              0.6666666666666666,
              "#ed7953"
             ],
             [
              0.7777777777777778,
              "#fb9f3a"
             ],
             [
              0.8888888888888888,
              "#fdca26"
             ],
             [
              1,
              "#f0f921"
             ]
            ],
            "type": "surface"
           }
          ],
          "table": [
           {
            "cells": {
             "fill": {
              "color": "#EBF0F8"
             },
             "line": {
              "color": "white"
             }
            },
            "header": {
             "fill": {
              "color": "#C8D4E3"
             },
             "line": {
              "color": "white"
             }
            },
            "type": "table"
           }
          ]
         },
         "layout": {
          "annotationdefaults": {
           "arrowcolor": "#2a3f5f",
           "arrowhead": 0,
           "arrowwidth": 1
          },
          "autotypenumbers": "strict",
          "coloraxis": {
           "colorbar": {
            "outlinewidth": 0,
            "ticks": ""
           }
          },
          "colorscale": {
           "diverging": [
            [
             0,
             "#8e0152"
            ],
            [
             0.1,
             "#c51b7d"
            ],
            [
             0.2,
             "#de77ae"
            ],
            [
             0.3,
             "#f1b6da"
            ],
            [
             0.4,
             "#fde0ef"
            ],
            [
             0.5,
             "#f7f7f7"
            ],
            [
             0.6,
             "#e6f5d0"
            ],
            [
             0.7,
             "#b8e186"
            ],
            [
             0.8,
             "#7fbc41"
            ],
            [
             0.9,
             "#4d9221"
            ],
            [
             1,
             "#276419"
            ]
           ],
           "sequential": [
            [
             0,
             "#0d0887"
            ],
            [
             0.1111111111111111,
             "#46039f"
            ],
            [
             0.2222222222222222,
             "#7201a8"
            ],
            [
             0.3333333333333333,
             "#9c179e"
            ],
            [
             0.4444444444444444,
             "#bd3786"
            ],
            [
             0.5555555555555556,
             "#d8576b"
            ],
            [
             0.6666666666666666,
             "#ed7953"
            ],
            [
             0.7777777777777778,
             "#fb9f3a"
            ],
            [
             0.8888888888888888,
             "#fdca26"
            ],
            [
             1,
             "#f0f921"
            ]
           ],
           "sequentialminus": [
            [
             0,
             "#0d0887"
            ],
            [
             0.1111111111111111,
             "#46039f"
            ],
            [
             0.2222222222222222,
             "#7201a8"
            ],
            [
             0.3333333333333333,
             "#9c179e"
            ],
            [
             0.4444444444444444,
             "#bd3786"
            ],
            [
             0.5555555555555556,
             "#d8576b"
            ],
            [
             0.6666666666666666,
             "#ed7953"
            ],
            [
             0.7777777777777778,
             "#fb9f3a"
            ],
            [
             0.8888888888888888,
             "#fdca26"
            ],
            [
             1,
             "#f0f921"
            ]
           ]
          },
          "colorway": [
           "#636efa",
           "#EF553B",
           "#00cc96",
           "#ab63fa",
           "#FFA15A",
           "#19d3f3",
           "#FF6692",
           "#B6E880",
           "#FF97FF",
           "#FECB52"
          ],
          "font": {
           "color": "#2a3f5f"
          },
          "geo": {
           "bgcolor": "white",
           "lakecolor": "white",
           "landcolor": "#E5ECF6",
           "showlakes": true,
           "showland": true,
           "subunitcolor": "white"
          },
          "hoverlabel": {
           "align": "left"
          },
          "hovermode": "closest",
          "mapbox": {
           "style": "light"
          },
          "paper_bgcolor": "white",
          "plot_bgcolor": "#E5ECF6",
          "polar": {
           "angularaxis": {
            "gridcolor": "white",
            "linecolor": "white",
            "ticks": ""
           },
           "bgcolor": "#E5ECF6",
           "radialaxis": {
            "gridcolor": "white",
            "linecolor": "white",
            "ticks": ""
           }
          },
          "scene": {
           "xaxis": {
            "backgroundcolor": "#E5ECF6",
            "gridcolor": "white",
            "gridwidth": 2,
            "linecolor": "white",
            "showbackground": true,
            "ticks": "",
            "zerolinecolor": "white"
           },
           "yaxis": {
            "backgroundcolor": "#E5ECF6",
            "gridcolor": "white",
            "gridwidth": 2,
            "linecolor": "white",
            "showbackground": true,
            "ticks": "",
            "zerolinecolor": "white"
           },
           "zaxis": {
            "backgroundcolor": "#E5ECF6",
            "gridcolor": "white",
            "gridwidth": 2,
            "linecolor": "white",
            "showbackground": true,
            "ticks": "",
            "zerolinecolor": "white"
           }
          },
          "shapedefaults": {
           "line": {
            "color": "#2a3f5f"
           }
          },
          "ternary": {
           "aaxis": {
            "gridcolor": "white",
            "linecolor": "white",
            "ticks": ""
           },
           "baxis": {
            "gridcolor": "white",
            "linecolor": "white",
            "ticks": ""
           },
           "bgcolor": "#E5ECF6",
           "caxis": {
            "gridcolor": "white",
            "linecolor": "white",
            "ticks": ""
           }
          },
          "title": {
           "x": 0.05
          },
          "xaxis": {
           "automargin": true,
           "gridcolor": "white",
           "linecolor": "white",
           "ticks": "",
           "title": {
            "standoff": 15
           },
           "zerolinecolor": "white",
           "zerolinewidth": 2
          },
          "yaxis": {
           "automargin": true,
           "gridcolor": "white",
           "linecolor": "white",
           "ticks": "",
           "title": {
            "standoff": 15
           },
           "zerolinecolor": "white",
           "zerolinewidth": 2
          }
         }
        },
        "xaxis": {
         "anchor": "y",
         "autorange": true,
         "domain": [
          0,
          1
         ],
         "range": [
          "2022-06-05",
          "2022-06-19"
         ],
         "title": {
          "text": "Date"
         },
         "type": "date"
        },
        "yaxis": {
         "anchor": "x",
         "autorange": true,
         "domain": [
          0,
          1
         ],
         "range": [
          -3.3358893895131976,
          4.377498832773892
         ],
         "title": {
          "text": "value"
         },
         "type": "linear"
        }
       }
      },
      "image/png": "[encoded data removed]",
      "text/html": [
       "<div>                            <div id=\"834c7d43-237e-4890-8cb1-c7151bf3659f\" class=\"plotly-graph-div\" style=\"height:525px; width:100%;\"></div>            <script type=\"text/javascript\">                require([\"plotly\"], function(Plotly) {                    window.PLOTLYENV=window.PLOTLYENV || {};                                    if (document.getElementById(\"834c7d43-237e-4890-8cb1-c7151bf3659f\")) {                    Plotly.newPlot(                        \"834c7d43-237e-4890-8cb1-c7151bf3659f\",                        [{\"hovertemplate\":\"variable=z_score<br>Date=%{x}<br>value=%{y}<extra></extra>\",\"legendgroup\":\"z_score\",\"line\":{\"color\":\"#636efa\",\"dash\":\"solid\"},\"marker\":{\"symbol\":\"circle\"},\"mode\":\"lines\",\"name\":\"z_score\",\"orientation\":\"v\",\"showlegend\":true,\"x\":[\"2022-06-05T00:00:00\",\"2022-06-05T01:00:00\",\"2022-06-05T02:00:00\",\"2022-06-05T03:00:00\",\"2022-06-05T04:00:00\",\"2022-06-05T05:00:00\",\"2022-06-05T06:00:00\",\"2022-06-05T07:00:00\",\"2022-06-05T08:00:00\",\"2022-06-05T09:00:00\",\"2022-06-05T10:00:00\",\"2022-06-05T11:00:00\",\"2022-06-05T12:00:00\",\"2022-06-05T13:00:00\",\"2022-06-05T14:00:00\",\"2022-06-05T15:00:00\",\"2022-06-05T16:00:00\",\"2022-06-05T17:00:00\",\"2022-06-05T18:00:00\",\"2022-06-05T19:00:00\",\"2022-06-05T20:00:00\",\"2022-06-05T21:00:00\",\"2022-06-05T22:00:00\",\"2022-06-05T23:00:00\",\"2022-06-06T00:00:00\",\"2022-06-06T01:00:00\",\"2022-06-06T02:00:00\",\"2022-06-06T03:00:00\",\"2022-06-06T04:00:00\",\"2022-06-06T05:00:00\",\"2022-06-06T06:00:00\",\"2022-06-06T07:00:00\",\"2022-06-06T08:00:00\",\"2022-06-06T09:00:00\",\"2022-06-06T10:00:00\",\"2022-06-06T11:00:00\",\"2022-06-06T12:00:00\",\"2022-06-06T13:00:00\",\"2022-06-06T14:00:00\",\"2022-06-06T15:00:00\",\"2022-06-06T16:00:00\",\"2022-06-06T17:00:00\",\"2022-06-06T18:00:00\",\"2022-06-06T19:00:00\",\"2022-06-06T20:00:00\",\"2022-06-06T21:00:00\",\"2022-06-06T22:00:00\",\"2022-06-06T23:00:00\",\"2022-06-07T00:00:00\",\"2022-06-07T01:00:00\",\"2022-06-07T02:00:00\",\"2022-06-07T03:00:00\",\"2022-06-07T04:00:00\",\"2022-06-07T05:00:00\",\"2022-06-07T06:00:00\",\"2022-06-07T07:00:00\",\"2022-06-07T08:00:00\",\"2022-06-07T09:00:00\",\"2022-06-07T10:00:00\",\"2022-06-07T11:00:00\",\"2022-06-07T12:00:00\",\"2022-06-07T13:00:00\",\"2022-06-07T14:00:00\",\"2022-06-07T15:00:00\",\"2022-06-07T16:00:00\",\"2022-06-07T17:00:00\",\"2022-06-07T18:00:00\",\"2022-06-07T19:00:00\",\"2022-06-07T20:00:00\",\"2022-06-07T21:00:00\",\"2022-06-07T22:00:00\",\"2022-06-07T23:00:00\",\"2022-06-08T00:00:00\",\"2022-06-08T01:00:00\",\"2022-06-08T02:00:00\",\"2022-06-08T03:00:00\",\"2022-06-08T04:00:00\",\"2022-06-08T05:00:00\",\"2022-06-08T06:00:00\",\"2022-06-08T07:00:00\",\"2022-06-08T08:00:00\",\"2022-06-08T09:00:00\",\"2022-06-08T10:00:00\",\"2022-06-08T11:00:00\",\"2022-06-08T12:00:00\",\"2022-06-08T13:00:00\",\"2022-06-08T14:00:00\",\"2022-06-08T15:00:00\",\"2022-06-08T16:00:00\",\"2022-06-08T17:00:00\",\"2022-06-08T18:00:00\",\"2022-06-08T19:00:00\",\"2022-06-08T20:00:00\",\"2022-06-08T21:00:00\",\"2022-06-08T22:00:00\",\"2022-06-08T23:00:00\",\"2022-06-09T00:00:00\",\"2022-06-09T01:00:00\",\"2022-06-09T02:00:00\",\"2022-06-09T03:00:00\",\"2022-06-09T04:00:00\",\"2022-06-09T05:00:00\",\"2022-06-09T06:00:00\",\"2022-06-09T07:00:00\",\"2022-06-09T08:00:00\",\"2022-06-09T09:00:00\",\"2022-06-09T10:00:00\",\"2022-06-09T11:00:00\",\"2022-06-09T12:00:00\",\"2022-06-09T13:00:00\",\"2022-06-09T14:00:00\",\"2022-06-09T15:00:00\",\"2022-06-09T16:00:00\",\"2022-06-09T17:00:00\",\"2022-06-09T18:00:00\",\"2022-06-09T19:00:00\",\"2022-06-09T20:00:00\",\"2022-06-09T21:00:00\",\"2022-06-09T22:00:00\",\"2022-06-09T23:00:00\",\"2022-06-10T00:00:00\",\"2022-06-10T01:00:00\",\"2022-06-10T02:00:00\",\"2022-06-10T03:00:00\",\"2022-06-10T04:00:00\",\"2022-06-10T05:00:00\",\"2022-06-10T06:00:00\",\"2022-06-10T07:00:00\",\"2022-06-10T08:00:00\",\"2022-06-10T09:00:00\",\"2022-06-10T10:00:00\",\"2022-06-10T11:00:00\",\"2022-06-10T12:00:00\",\"2022-06-10T13:00:00\",\"2022-06-10T14:00:00\",\"2022-06-10T15:00:00\",\"2022-06-10T16:00:00\",\"2022-06-10T17:00:00\",\"2022-06-10T18:00:00\",\"2022-06-10T19:00:00\",\"2022-06-10T20:00:00\",\"2022-06-10T21:00:00\",\"2022-06-10T22:00:00\",\"2022-06-10T23:00:00\",\"2022-06-11T00:00:00\",\"2022-06-11T01:00:00\",\"2022-06-11T02:00:00\",\"2022-06-11T03:00:00\",\"2022-06-11T04:00:00\",\"2022-06-11T05:00:00\",\"2022-06-11T06:00:00\",\"2022-06-11T07:00:00\",\"2022-06-11T08:00:00\",\"2022-06-11T09:00:00\",\"2022-06-11T10:00:00\",\"2022-06-11T11:00:00\",\"2022-06-11T12:00:00\",\"2022-06-11T13:00:00\",\"2022-06-11T14:00:00\",\"2022-06-11T15:00:00\",\"2022-06-11T16:00:00\",\"2022-06-11T17:00:00\",\"2022-06-11T18:00:00\",\"2022-06-11T19:00:00\",\"2022-06-11T20:00:00\",\"2022-06-11T21:00:00\",\"2022-06-11T22:00:00\",\"2022-06-11T23:00:00\",\"2022-06-12T00:00:00\",\"2022-06-12T01:00:00\",\"2022-06-12T02:00:00\",\"2022-06-12T03:00:00\",\"2022-06-12T04:00:00\",\"2022-06-12T05:00:00\",\"2022-06-12T06:00:00\",\"2022-06-12T07:00:00\",\"2022-06-12T08:00:00\",\"2022-06-12T09:00:00\",\"2022-06-12T10:00:00\",\"2022-06-12T11:00:00\",\"2022-06-12T12:00:00\",\"2022-06-12T13:00:00\",\"2022-06-12T14:00:00\",\"2022-06-12T15:00:00\",\"2022-06-12T16:00:00\",\"2022-06-12T17:00:00\",\"2022-06-12T18:00:00\",\"2022-06-12T19:00:00\",\"2022-06-12T20:00:00\",\"2022-06-12T21:00:00\",\"2022-06-12T22:00:00\",\"2022-06-12T23:00:00\",\"2022-06-13T00:00:00\",\"2022-06-13T01:00:00\",\"2022-06-13T02:00:00\",\"2022-06-13T03:00:00\",\"2022-06-13T04:00:00\",\"2022-06-13T05:00:00\",\"2022-06-13T06:00:00\",\"2022-06-13T07:00:00\",\"2022-06-13T08:00:00\",\"2022-06-13T09:00:00\",\"2022-06-13T10:00:00\",\"2022-06-13T11:00:00\",\"2022-06-13T12:00:00\",\"2022-06-13T13:00:00\",\"2022-06-13T14:00:00\",\"2022-06-13T15:00:00\",\"2022-06-13T16:00:00\",\"2022-06-13T17:00:00\",\"2022-06-13T18:00:00\",\"2022-06-13T19:00:00\",\"2022-06-13T20:00:00\",\"2022-06-13T21:00:00\",\"2022-06-13T22:00:00\",\"2022-06-13T23:00:00\",\"2022-06-14T00:00:00\",\"2022-06-14T01:00:00\",\"2022-06-14T02:00:00\",\"2022-06-14T03:00:00\",\"2022-06-14T04:00:00\",\"2022-06-14T05:00:00\",\"2022-06-14T06:00:00\",\"2022-06-14T07:00:00\",\"2022-06-14T08:00:00\",\"2022-06-14T09:00:00\",\"2022-06-14T10:00:00\",\"2022-06-14T11:00:00\",\"2022-06-14T12:00:00\",\"2022-06-14T13:00:00\",\"2022-06-14T14:00:00\",\"2022-06-14T15:00:00\",\"2022-06-14T16:00:00\",\"2022-06-14T17:00:00\",\"2022-06-14T18:00:00\",\"2022-06-14T19:00:00\",\"2022-06-14T20:00:00\",\"2022-06-14T21:00:00\",\"2022-06-14T22:00:00\",\"2022-06-14T23:00:00\",\"2022-06-15T00:00:00\",\"2022-06-15T01:00:00\",\"2022-06-15T02:00:00\",\"2022-06-15T03:00:00\",\"2022-06-15T04:00:00\",\"2022-06-15T05:00:00\",\"2022-06-15T06:00:00\",\"2022-06-15T07:00:00\",\"2022-06-15T08:00:00\",\"2022-06-15T09:00:00\",\"2022-06-15T10:00:00\",\"2022-06-15T11:00:00\",\"2022-06-15T12:00:00\",\"2022-06-15T13:00:00\",\"2022-06-15T14:00:00\",\"2022-06-15T15:00:00\",\"2022-06-15T16:00:00\",\"2022-06-15T17:00:00\",\"2022-06-15T18:00:00\",\"2022-06-15T19:00:00\",\"2022-06-15T20:00:00\",\"2022-06-15T21:00:00\",\"2022-06-15T22:00:00\",\"2022-06-15T23:00:00\",\"2022-06-16T00:00:00\",\"2022-06-16T01:00:00\",\"2022-06-16T02:00:00\",\"2022-06-16T03:00:00\",\"2022-06-16T04:00:00\",\"2022-06-16T05:00:00\",\"2022-06-16T06:00:00\",\"2022-06-16T07:00:00\",\"2022-06-16T08:00:00\",\"2022-06-16T09:00:00\",\"2022-06-16T10:00:00\",\"2022-06-16T11:00:00\",\"2022-06-16T12:00:00\",\"2022-06-16T13:00:00\",\"2022-06-16T14:00:00\",\"2022-06-16T15:00:00\",\"2022-06-16T16:00:00\",\"2022-06-16T17:00:00\",\"2022-06-16T18:00:00\",\"2022-06-16T19:00:00\",\"2022-06-16T20:00:00\",\"2022-06-16T21:00:00\",\"2022-06-16T22:00:00\",\"2022-06-16T23:00:00\",\"2022-06-17T00:00:00\",\"2022-06-17T01:00:00\",\"2022-06-17T02:00:00\",\"2022-06-17T03:00:00\",\"2022-06-17T04:00:00\",\"2022-06-17T05:00:00\",\"2022-06-17T06:00:00\",\"2022-06-17T07:00:00\",\"2022-06-17T08:00:00\",\"2022-06-17T09:00:00\",\"2022-06-17T10:00:00\",\"2022-06-17T11:00:00\",\"2022-06-17T12:00:00\",\"2022-06-17T13:00:00\",\"2022-06-17T14:00:00\",\"2022-06-17T15:00:00\",\"2022-06-17T16:00:00\",\"2022-06-17T17:00:00\",\"2022-06-17T18:00:00\",\"2022-06-17T19:00:00\",\"2022-06-17T20:00:00\",\"2022-06-17T21:00:00\",\"2022-06-17T22:00:00\",\"2022-06-17T23:00:00\",\"2022-06-18T00:00:00\",\"2022-06-18T01:00:00\",\"2022-06-18T02:00:00\",\"2022-06-18T03:00:00\",\"2022-06-18T04:00:00\",\"2022-06-18T05:00:00\",\"2022-06-18T06:00:00\",\"2022-06-18T07:00:00\",\"2022-06-18T08:00:00\",\"2022-06-18T09:00:00\",\"2022-06-18T10:00:00\",\"2022-06-18T11:00:00\",\"2022-06-18T12:00:00\",\"2022-06-18T13:00:00\",\"2022-06-18T14:00:00\",\"2022-06-18T15:00:00\",\"2022-06-18T16:00:00\",\"2022-06-18T17:00:00\",\"2022-06-18T18:00:00\",\"2022-06-18T19:00:00\",\"2022-06-18T20:00:00\",\"2022-06-18T21:00:00\",\"2022-06-18T22:00:00\",\"2022-06-18T23:00:00\",\"2022-06-19T00:00:00\"],\"xaxis\":\"x\",\"y\":[null,null,null,null,null,null,null,null,null,null,null,null,null,null,null,null,null,null,null,null,-0.1630226245832195,0.1271158030710047,1.4108282481400787,1.5712888887254008,-1.0093845034115354,-0.9281074912791664,-1.0436781728207432,-0.9115783870475488,-0.753597249369179,-0.7606596160674775,-0.4580516155286757,0.658412725251344,-0.3199733107742441,-0.34675368317453104,-0.036226288737063066,0.1410523126595822,0.06696285523597108,-0.18156188306515522,-0.6465296068464702,-0.8700830602835213,-0.28806510071713237,1.0977200564244871,0.4448629325131269,0.4912827475584482,1.1912175574392783,0.14505529993695268,0.7527515899874244,0.6875359706999623,1.6707657807044194,1.180299459044777,0.7104307293441907,1.6833423506749965,1.4495502826134463,0.8800551248107911,0.1656683181211729,0.2180234388840288,0.8344181155128461,0.4272143421265411,-0.348838729136973,-0.7895712283200083,-1.4585997043650225,-1.3791243376818567,-0.500608041523686,-0.5219472928918308,0.6635116016047818,1.3297729949779529,0.759359995132804,-0.07270895254486728,-1.7065496246007694,-1.3953438145682755,-1.083545719129186,-0.2320698179287233,-1.2764497630353986,-1.6085959021167937,-1.3503920808421928,0.06526232934300077,-0.8373432856584633,-1.750091100876472,-0.9090253462689282,-1.8002897289859012,-1.9598470644813557,-1.700850535418373,-1.0695095474326546,-0.6617268798062014,-0.23935330987068193,-0.47241299046438456,-0.5893497068917832,-1.238648653977328,-0.36494674301364527,-0.14979276724839388,0.8759755570770078,0.3733372660583883,-0.2704018243235468,-0.11249627879210262,0.04940308528812642,1.042005089117708,2.5286543841947062,2.40371373809401,1.28531132689573,1.145126055155295,0.798365397093189,1.1857868899773207,1.1683587372898523,0.8711352207256067,0.7111163813521609,0.7322246630875382,3.991829421659537,0.9934397053802119,1.004476788284035,0.8552921315696734,0.8758154827710678,0.44907049165779284,-0.012010849562972653,-0.0012945618764837665,0.46687089750446187,0.8960165302756886,0.5331465057572145,-0.12495915543344095,0.316304862255756,0.24818427914497296,0.39051601230411115,0.019758060619511405,-0.008504430066323093,-0.420096283052829,-0.21486816543816176,-0.27529138566642836,-0.005934764784809432,3.4597702102996335,1.2012668278363352,0.6465363671371057,-0.032624721172626325,-0.8115542867209891,-0.8097954939766349,-1.6581787040184641,-1.1806371429254616,-1.3160922927502183,0.3542976449299605,-0.7179672488634754,-0.7607685748180939,-0.4928874839140237,-0.24553923837260458,-0.1878477511501408,-0.007413288802409021,0.5320895019016635,0.24017218382401043,1.1634693004186534,0.6880684134795875,0.30641537809211383,-0.23022705428977358,0.9531951142570168,0.9561211079985111,0.8603474277758743,0.4638536683360023,0.5417192096805973,1.375086952654348,1.888216280864918,1.5874346373432038,1.350035543391645,0.43112587406720976,-0.043827927484001154,-2.950219978398843,-1.8048752145222107,-1.4305533425466983,0.33672871954761907,-0.12219655297516528,0.9487017177436727,-0.2589927146298369,0.41024993716295494,-0.2430380699117919,-1.2861705916533772,0.7215018090017665,1.6376827341999822,2.636657715800217,1.6306066444642766,1.5650100333265995,1.028709707228916,1.1067942272819127,0.9830961942052724,0.8308271794836755,0.9591165159184444,0.8022072411491568,0.7369017322738936,-0.752163661561643,-0.6658066740489279,0.7248004882715936,0.7743723067807977,0.6588414610556813,-0.8229936030989734,0.7992960673100206,-0.26343733259893337,1.528217796649116,0.2625623333342461,3.9306614050179185,1.4663681737316028,1.9843709328044583,1.6609993036320256,1.1831890624976116,1.1693478010194769,2.2945762300051764,1.5078635967344298,2.132584184239526,1.5448777441056138,1.5837286746452566,1.6382896014410977,1.4011198455325766,0.9720921670287905,1.2059133261973434,0.9954135384663383,0.5873620978218199,1.0304793157428729,1.078581618723947,0.3618281256192482,-0.26224771359414,0.45534889400991446,0.7791339255252655,0.1762232873382448,-0.27833837039970105,2.7924512004599134,1.8952806558619089,0.1226194156904795,0.7233201378878478,0.007480240605249861,-0.35525436685272616,-0.7701918640114753,0.1620902775968497,0.38071248698211074,1.3479491895681293,0.7280344032414264,1.2036173703778497,1.1227809633206882,0.9315465778552087,0.444074388208625,1.236655829552536,0.9277262973390157,0.7693118461921896,0.4670957510120805,0.8161598592007729,0.3160955328132321,-0.26611864562266996,-1.448263494311802,-1.1285995487545686,-2.1469787401431852,-1.0966518318941791,-0.38415882637961063,0.6674212931513007,2.483136822347556,1.1027811831480312,0.2036164580932933,2.831067833539178,2.439802772872085,2.0490412902139017,2.215210496777398,1.716092831108032,1.6923327553006473,1.891700071152162,1.165067919970181,0.7121487214528294,0.4078441226985493,-0.22349967528037412,-0.5105216564426834,-0.35268113199315915,-1.2117939410755179,-1.2921844506545392,-1.8254106405755797,-2.140923059967778,-2.3180626568006266,-2.641131732137514,-2.5905985292203138,-1.9522808316001343,-1.3226567101327282,-0.6510716862122353,-0.5694648720996153,-0.981515483130514,-0.8261213722909739,-0.6253665906219636,-0.4010890056372572,-0.3401645495160132,0.08964854194732375,0.18192755734558957,-0.13119192410412514,-0.024476491188397457,0.4856258087276238,0.5162833404194516,0.9836351626632958,0.6546193474353221,0.9633710332808261,1.1886224322820396,1.6078977446070777,2.191829275599244,1.574532023140022,1.864027559443683,1.803075982828066,2.0370109624313075,1.4208251683055853,1.229299869119613,1.029781143666133,0.8870072689098151,1.7659699125428925,1.0141674321743925,0.9206133039156983,0.8830662316684047,0.22707051222469532,0.19379174444382008,-0.052032780995754674,0.30615983136596575,0.06265482936504956,-0.44856096561652037,-0.46360946545345655,-0.6635718070753712,-0.6201755529631724,-0.2661652524360971,-0.44761489953744393,-1.6806594996674995,-0.5299068442011593,-1.7352119823512777,-1.1127618995756077,-0.6074730896530771,-0.19749197352586043,-0.6846381018580211,1.2979048290076884,1.6148350594458758,0.8659605965137759,0.4777650811953474,-0.9753953637291315,-1.07985055973402,-1.2173127439500964,-0.12242682619984513,0.6901702779893063,0.12265954823148706,0.530486500069862,1.643482166149713,2.956320295671388,3.1673626915942688,0.6822159102231309,1.2116858486379365,1.0784226294637171,1.7045650000896506],\"yaxis\":\"y\",\"type\":\"scatter\"}],                        {\"template\":{\"data\":{\"histogram2dcontour\":[{\"type\":\"histogram2dcontour\",\"colorbar\":{\"outlinewidth\":0,\"ticks\":\"\"},\"colorscale\":[[0.0,\"#0d0887\"],[0.1111111111111111,\"#46039f\"],[0.2222222222222222,\"#7201a8\"],[0.3333333333333333,\"#9c179e\"],[0.4444444444444444,\"#bd3786\"],[0.5555555555555556,\"#d8576b\"],[0.6666666666666666,\"#ed7953\"],[0.7777777777777778,\"#fb9f3a\"],[0.8888888888888888,\"#fdca26\"],[1.0,\"#f0f921\"]]}],\"choropleth\":[{\"type\":\"choropleth\",\"colorbar\":{\"outlinewidth\":0,\"ticks\":\"\"}}],\"histogram2d\":[{\"type\":\"histogram2d\",\"colorbar\":{\"outlinewidth\":0,\"ticks\":\"\"},\"colorscale\":[[0.0,\"#0d0887\"],[0.1111111111111111,\"#46039f\"],[0.2222222222222222,\"#7201a8\"],[0.3333333333333333,\"#9c179e\"],[0.4444444444444444,\"#bd3786\"],[0.5555555555555556,\"#d8576b\"],[0.6666666666666666,\"#ed7953\"],[0.7777777777777778,\"#fb9f3a\"],[0.8888888888888888,\"#fdca26\"],[1.0,\"#f0f921\"]]}],\"heatmap\":[{\"type\":\"heatmap\",\"colorbar\":{\"outlinewidth\":0,\"ticks\":\"\"},\"colorscale\":[[0.0,\"#0d0887\"],[0.1111111111111111,\"#46039f\"],[0.2222222222222222,\"#7201a8\"],[0.3333333333333333,\"#9c179e\"],[0.4444444444444444,\"#bd3786\"],[0.5555555555555556,\"#d8576b\"],[0.6666666666666666,\"#ed7953\"],[0.7777777777777778,\"#fb9f3a\"],[0.8888888888888888,\"#fdca26\"],[1.0,\"#f0f921\"]]}],\"heatmapgl\":[{\"type\":\"heatmapgl\",\"colorbar\":{\"outlinewidth\":0,\"ticks\":\"\"},\"colorscale\":[[0.0,\"#0d0887\"],[0.1111111111111111,\"#46039f\"],[0.2222222222222222,\"#7201a8\"],[0.3333333333333333,\"#9c179e\"],[0.4444444444444444,\"#bd3786\"],[0.5555555555555556,\"#d8576b\"],[0.6666666666666666,\"#ed7953\"],[0.7777777777777778,\"#fb9f3a\"],[0.8888888888888888,\"#fdca26\"],[1.0,\"#f0f921\"]]}],\"contourcarpet\":[{\"type\":\"contourcarpet\",\"colorbar\":{\"outlinewidth\":0,\"ticks\":\"\"}}],\"contour\":[{\"type\":\"contour\",\"colorbar\":{\"outlinewidth\":0,\"ticks\":\"\"},\"colorscale\":[[0.0,\"#0d0887\"],[0.1111111111111111,\"#46039f\"],[0.2222222222222222,\"#7201a8\"],[0.3333333333333333,\"#9c179e\"],[0.4444444444444444,\"#bd3786\"],[0.5555555555555556,\"#d8576b\"],[0.6666666666666666,\"#ed7953\"],[0.7777777777777778,\"#fb9f3a\"],[0.8888888888888888,\"#fdca26\"],[1.0,\"#f0f921\"]]}],\"surface\":[{\"type\":\"surface\",\"colorbar\":{\"outlinewidth\":0,\"ticks\":\"\"},\"colorscale\":[[0.0,\"#0d0887\"],[0.1111111111111111,\"#46039f\"],[0.2222222222222222,\"#7201a8\"],[0.3333333333333333,\"#9c179e\"],[0.4444444444444444,\"#bd3786\"],[0.5555555555555556,\"#d8576b\"],[0.6666666666666666,\"#ed7953\"],[0.7777777777777778,\"#fb9f3a\"],[0.8888888888888888,\"#fdca26\"],[1.0,\"#f0f921\"]]}],\"mesh3d\":[{\"type\":\"mesh3d\",\"colorbar\":{\"outlinewidth\":0,\"ticks\":\"\"}}],\"scatter\":[{\"fillpattern\":{\"fillmode\":\"overlay\",\"size\":10,\"solidity\":0.2},\"type\":\"scatter\"}],\"parcoords\":[{\"type\":\"parcoords\",\"line\":{\"colorbar\":{\"outlinewidth\":0,\"ticks\":\"\"}}}],\"scatterpolargl\":[{\"type\":\"scatterpolargl\",\"marker\":{\"colorbar\":{\"outlinewidth\":0,\"ticks\":\"\"}}}],\"bar\":[{\"error_x\":{\"color\":\"#2a3f5f\"},\"error_y\":{\"color\":\"#2a3f5f\"},\"marker\":{\"line\":{\"color\":\"#E5ECF6\",\"width\":0.5},\"pattern\":{\"fillmode\":\"overlay\",\"size\":10,\"solidity\":0.2}},\"type\":\"bar\"}],\"scattergeo\":[{\"type\":\"scattergeo\",\"marker\":{\"colorbar\":{\"outlinewidth\":0,\"ticks\":\"\"}}}],\"scatterpolar\":[{\"type\":\"scatterpolar\",\"marker\":{\"colorbar\":{\"outlinewidth\":0,\"ticks\":\"\"}}}],\"histogram\":[{\"marker\":{\"pattern\":{\"fillmode\":\"overlay\",\"size\":10,\"solidity\":0.2}},\"type\":\"histogram\"}],\"scattergl\":[{\"type\":\"scattergl\",\"marker\":{\"colorbar\":{\"outlinewidth\":0,\"ticks\":\"\"}}}],\"scatter3d\":[{\"type\":\"scatter3d\",\"line\":{\"colorbar\":{\"outlinewidth\":0,\"ticks\":\"\"}},\"marker\":{\"colorbar\":{\"outlinewidth\":0,\"ticks\":\"\"}}}],\"scattermapbox\":[{\"type\":\"scattermapbox\",\"marker\":{\"colorbar\":{\"outlinewidth\":0,\"ticks\":\"\"}}}],\"scatterternary\":[{\"type\":\"scatterternary\",\"marker\":{\"colorbar\":{\"outlinewidth\":0,\"ticks\":\"\"}}}],\"scattercarpet\":[{\"type\":\"scattercarpet\",\"marker\":{\"colorbar\":{\"outlinewidth\":0,\"ticks\":\"\"}}}],\"carpet\":[{\"aaxis\":{\"endlinecolor\":\"#2a3f5f\",\"gridcolor\":\"white\",\"linecolor\":\"white\",\"minorgridcolor\":\"white\",\"startlinecolor\":\"#2a3f5f\"},\"baxis\":{\"endlinecolor\":\"#2a3f5f\",\"gridcolor\":\"white\",\"linecolor\":\"white\",\"minorgridcolor\":\"white\",\"startlinecolor\":\"#2a3f5f\"},\"type\":\"carpet\"}],\"table\":[{\"cells\":{\"fill\":{\"color\":\"#EBF0F8\"},\"line\":{\"color\":\"white\"}},\"header\":{\"fill\":{\"color\":\"#C8D4E3\"},\"line\":{\"color\":\"white\"}},\"type\":\"table\"}],\"barpolar\":[{\"marker\":{\"line\":{\"color\":\"#E5ECF6\",\"width\":0.5},\"pattern\":{\"fillmode\":\"overlay\",\"size\":10,\"solidity\":0.2}},\"type\":\"barpolar\"}],\"pie\":[{\"automargin\":true,\"type\":\"pie\"}]},\"layout\":{\"autotypenumbers\":\"strict\",\"colorway\":[\"#636efa\",\"#EF553B\",\"#00cc96\",\"#ab63fa\",\"#FFA15A\",\"#19d3f3\",\"#FF6692\",\"#B6E880\",\"#FF97FF\",\"#FECB52\"],\"font\":{\"color\":\"#2a3f5f\"},\"hovermode\":\"closest\",\"hoverlabel\":{\"align\":\"left\"},\"paper_bgcolor\":\"white\",\"plot_bgcolor\":\"#E5ECF6\",\"polar\":{\"bgcolor\":\"#E5ECF6\",\"angularaxis\":{\"gridcolor\":\"white\",\"linecolor\":\"white\",\"ticks\":\"\"},\"radialaxis\":{\"gridcolor\":\"white\",\"linecolor\":\"white\",\"ticks\":\"\"}},\"ternary\":{\"bgcolor\":\"#E5ECF6\",\"aaxis\":{\"gridcolor\":\"white\",\"linecolor\":\"white\",\"ticks\":\"\"},\"baxis\":{\"gridcolor\":\"white\",\"linecolor\":\"white\",\"ticks\":\"\"},\"caxis\":{\"gridcolor\":\"white\",\"linecolor\":\"white\",\"ticks\":\"\"}},\"coloraxis\":{\"colorbar\":{\"outlinewidth\":0,\"ticks\":\"\"}},\"colorscale\":{\"sequential\":[[0.0,\"#0d0887\"],[0.1111111111111111,\"#46039f\"],[0.2222222222222222,\"#7201a8\"],[0.3333333333333333,\"#9c179e\"],[0.4444444444444444,\"#bd3786\"],[0.5555555555555556,\"#d8576b\"],[0.6666666666666666,\"#ed7953\"],[0.7777777777777778,\"#fb9f3a\"],[0.8888888888888888,\"#fdca26\"],[1.0,\"#f0f921\"]],\"sequentialminus\":[[0.0,\"#0d0887\"],[0.1111111111111111,\"#46039f\"],[0.2222222222222222,\"#7201a8\"],[0.3333333333333333,\"#9c179e\"],[0.4444444444444444,\"#bd3786\"],[0.5555555555555556,\"#d8576b\"],[0.6666666666666666,\"#ed7953\"],[0.7777777777777778,\"#fb9f3a\"],[0.8888888888888888,\"#fdca26\"],[1.0,\"#f0f921\"]],\"diverging\":[[0,\"#8e0152\"],[0.1,\"#c51b7d\"],[0.2,\"#de77ae\"],[0.3,\"#f1b6da\"],[0.4,\"#fde0ef\"],[0.5,\"#f7f7f7\"],[0.6,\"#e6f5d0\"],[0.7,\"#b8e186\"],[0.8,\"#7fbc41\"],[0.9,\"#4d9221\"],[1,\"#276419\"]]},\"xaxis\":{\"gridcolor\":\"white\",\"linecolor\":\"white\",\"ticks\":\"\",\"title\":{\"standoff\":15},\"zerolinecolor\":\"white\",\"automargin\":true,\"zerolinewidth\":2},\"yaxis\":{\"gridcolor\":\"white\",\"linecolor\":\"white\",\"ticks\":\"\",\"title\":{\"standoff\":15},\"zerolinecolor\":\"white\",\"automargin\":true,\"zerolinewidth\":2},\"scene\":{\"xaxis\":{\"backgroundcolor\":\"#E5ECF6\",\"gridcolor\":\"white\",\"linecolor\":\"white\",\"showbackground\":true,\"ticks\":\"\",\"zerolinecolor\":\"white\",\"gridwidth\":2},\"yaxis\":{\"backgroundcolor\":\"#E5ECF6\",\"gridcolor\":\"white\",\"linecolor\":\"white\",\"showbackground\":true,\"ticks\":\"\",\"zerolinecolor\":\"white\",\"gridwidth\":2},\"zaxis\":{\"backgroundcolor\":\"#E5ECF6\",\"gridcolor\":\"white\",\"linecolor\":\"white\",\"showbackground\":true,\"ticks\":\"\",\"zerolinecolor\":\"white\",\"gridwidth\":2}},\"shapedefaults\":{\"line\":{\"color\":\"#2a3f5f\"}},\"annotationdefaults\":{\"arrowcolor\":\"#2a3f5f\",\"arrowhead\":0,\"arrowwidth\":1},\"geo\":{\"bgcolor\":\"white\",\"landcolor\":\"#E5ECF6\",\"subunitcolor\":\"white\",\"showland\":true,\"showlakes\":true,\"lakecolor\":\"white\"},\"title\":{\"x\":0.05},\"mapbox\":{\"style\":\"light\"}}},\"xaxis\":{\"anchor\":\"y\",\"domain\":[0.0,1.0],\"title\":{\"text\":\"Date\"}},\"yaxis\":{\"anchor\":\"x\",\"domain\":[0.0,1.0],\"title\":{\"text\":\"value\"}},\"legend\":{\"title\":{\"text\":\"variable\"},\"tracegroupgap\":0},\"margin\":{\"t\":60}},                        {\"responsive\": true}                    ).then(function(){\n",
       "                            \n",
       "var gd = document.getElementById('834c7d43-237e-4890-8cb1-c7151bf3659f');\n",
       "var x = new MutationObserver(function (mutations, observer) {{\n",
       "        var display = window.getComputedStyle(gd).display;\n",
       "        if (!display || display === 'none') {{\n",
       "            console.log([gd, 'removed!']);\n",
       "            Plotly.purge(gd);\n",
       "            observer.disconnect();\n",
       "        }}\n",
       "}});\n",
       "\n",
       "// Listen for the removal of the full notebook cells\n",
       "var notebookContainer = gd.closest('#notebook-container');\n",
       "if (notebookContainer) {{\n",
       "    x.observe(notebookContainer, {childList: true});\n",
       "}}\n",
       "\n",
       "// Listen for the clearing of the current output cell\n",
       "var outputEl = gd.closest('.output');\n",
       "if (outputEl) {{\n",
       "    x.observe(outputEl, {childList: true});\n",
       "}}\n",
       "\n",
       "                        })                };                });            </script>        </div>"
      ]
     },
     "metadata": {},
     "output_type": "display_data"
    },
    {
     "data": {
      "application/vnd.plotly.v1+json": {
       "config": {
        "plotlyServerURL": "https://plot.ly"
       },
       "data": [
        {
         "hovertemplate": "variable=0<br>index=%{x}<br>value=%{y}<extra></extra>",
         "legendgroup": "0",
         "line": {
          "color": "#636efa",
          "dash": "solid"
         },
         "marker": {
          "symbol": "circle"
         },
         "mode": "lines",
         "name": "0",
         "orientation": "v",
         "showlegend": true,
         "type": "scatter",
         "x": [
          0,
          1,
          2,
          3,
          4,
          5,
          6,
          7,
          8,
          9,
          10,
          11,
          12,
          13,
          14,
          15,
          16,
          17,
          18,
          19,
          20,
          21,
          22,
          23,
          24,
          25,
          26,
          27,
          28,
          29,
          30,
          31,
          32,
          33,
          34,
          35,
          36,
          37,
          38,
          39,
          40,
          41,
          42,
          43,
          44,
          45,
          46,
          47,
          48,
          49,
          50,
          51,
          52,
          53,
          54,
          55,
          56,
          57,
          58,
          59,
          60,
          61,
          62,
          63,
          64,
          65,
          66,
          67,
          68,
          69,
          70,
          71,
          72,
          73,
          74,
          75,
          76,
          77,
          78,
          79,
          80,
          81,
          82,
          83,
          84,
          85,
          86,
          87,
          88,
          89,
          90,
          91,
          92,
          93,
          94,
          95,
          96,
          97,
          98,
          99,
          100,
          101,
          102,
          103,
          104,
          105,
          106,
          107,
          108,
          109,
          110,
          111,
          112,
          113,
          114,
          115,
          116,
          117,
          118,
          119,
          120,
          121,
          122,
          123,
          124,
          125,
          126,
          127,
          128,
          129,
          130,
          131,
          132,
          133,
          134,
          135,
          136,
          137,
          138,
          139,
          140,
          141,
          142,
          143,
          144,
          145,
          146,
          147,
          148,
          149,
          150,
          151,
          152,
          153,
          154,
          155,
          156,
          157,
          158,
          159,
          160,
          161,
          162,
          163,
          164,
          165,
          166,
          167,
          168,
          169,
          170,
          171,
          172,
          173,
          174,
          175,
          176,
          177,
          178,
          179,
          180,
          181,
          182,
          183,
          184,
          185,
          186,
          187,
          188,
          189,
          190,
          191,
          192,
          193,
          194,
          195,
          196,
          197,
          198,
          199,
          200,
          201,
          202,
          203,
          204,
          205,
          206,
          207,
          208,
          209,
          210,
          211,
          212,
          213,
          214,
          215,
          216,
          217,
          218,
          219,
          220,
          221,
          222,
          223,
          224,
          225,
          226,
          227,
          228,
          229,
          230,
          231,
          232,
          233,
          234,
          235,
          236,
          237,
          238,
          239,
          240,
          241,
          242,
          243,
          244,
          245,
          246,
          247,
          248,
          249,
          250,
          251,
          252,
          253,
          254,
          255,
          256,
          257,
          258,
          259,
          260,
          261,
          262,
          263,
          264,
          265,
          266,
          267,
          268,
          269,
          270,
          271,
          272,
          273,
          274,
          275,
          276,
          277,
          278,
          279,
          280,
          281,
          282,
          283,
          284,
          285,
          286,
          287,
          288,
          289,
          290,
          291,
          292,
          293,
          294,
          295,
          296,
          297,
          298,
          299,
          300,
          301,
          302,
          303,
          304,
          305,
          306,
          307,
          308,
          309,
          310,
          311,
          312,
          313,
          314,
          315,
          316,
          317,
          318,
          319,
          320,
          321,
          322,
          323,
          324,
          325,
          326,
          327,
          328,
          329,
          330,
          331,
          332,
          333,
          334,
          335,
          336
         ],
         "xaxis": "x",
         "y": [
          10000,
          10000,
          10000,
          10000,
          10000,
          10000,
          10000,
          10000,
          10000,
          10000,
          10000,
          10000,
          10000,
          10000,
          10000,
          10000,
          10000,
          10000,
          10000,
          10000,
          10000,
          10000,
          10000,
          10000,
          10397.131825703254,
          10397.131825703254,
          10397.131825703254,
          10397.131825703254,
          10397.131825703254,
          10397.131825703254,
          10397.131825703254,
          10397.131825703254,
          10397.131825703254,
          10397.131825703254,
          10397.131825703254,
          10397.131825703254,
          10397.131825703254,
          10397.131825703254,
          10397.131825703254,
          10397.131825703254,
          10397.131825703254,
          10397.131825703254,
          10397.131825703254,
          10397.131825703254,
          10397.131825703254,
          10397.131825703254,
          10397.131825703254,
          10397.131825703254,
          10397.131825703254,
          10530.428387571244,
          10530.428387571244,
          10530.428387571244,
          10565.451985312611,
          10565.451985312611,
          10565.451985312611,
          10565.451985312611,
          10565.451985312611,
          10565.451985312611,
          10565.451985312611,
          10565.451985312611,
          10565.451985312611,
          10565.451985312611,
          10565.451985312611,
          10565.451985312611,
          10565.451985312611,
          10565.451985312611,
          10565.451985312611,
          10565.451985312611,
          10565.451985312611,
          10565.451985312611,
          10565.451985312611,
          10565.451985312611,
          10565.451985312611,
          10565.451985312611,
          10565.451985312611,
          10565.451985312611,
          10565.451985312611,
          10565.451985312611,
          10565.451985312611,
          10565.451985312611,
          10565.451985312611,
          10565.451985312611,
          10565.451985312611,
          10565.451985312611,
          10565.451985312611,
          10565.451985312611,
          10565.451985312611,
          10565.451985312611,
          10565.451985312611,
          10565.451985312611,
          10565.451985312611,
          10565.451985312611,
          10565.451985312611,
          10565.451985312611,
          10565.451985312611,
          10565.451985312611,
          10565.451985312611,
          10589.712495037784,
          10626.312883845518,
          10626.312883845518,
          10626.312883845518,
          10626.312883845518,
          10626.312883845518,
          10626.312883845518,
          10626.312883845518,
          10626.312883845518,
          10626.312883845518,
          11271.055463314797,
          11271.055463314797,
          11271.055463314797,
          11271.055463314797,
          11271.055463314797,
          11271.055463314797,
          11271.055463314797,
          11271.055463314797,
          11271.055463314797,
          11271.055463314797,
          11271.055463314797,
          11271.055463314797,
          11271.055463314797,
          11271.055463314797,
          11271.055463314797,
          11271.055463314797,
          11271.055463314797,
          11271.055463314797,
          11271.055463314797,
          11271.055463314797,
          11271.055463314797,
          11561.546583503325,
          11561.546583503325,
          11561.546583503325,
          11561.546583503325,
          11561.546583503325,
          11561.546583503325,
          11561.546583503325,
          11561.546583503325,
          11561.546583503325,
          11561.546583503325,
          11561.546583503325,
          11561.546583503325,
          11561.546583503325,
          11561.546583503325,
          11561.546583503325,
          11561.546583503325,
          11561.546583503325,
          11561.546583503325,
          11561.546583503325,
          11561.546583503325,
          11561.546583503325,
          11561.546583503325,
          11561.546583503325,
          11561.546583503325,
          11561.546583503325,
          11561.546583503325,
          11561.546583503325,
          11561.546583503325,
          11772.166820548278,
          11628.419282251096,
          11628.419282251096,
          11628.419282251096,
          11628.419282251096,
          11628.419282251096,
          11628.419282251096,
          11628.419282251096,
          11628.419282251096,
          11628.419282251096,
          11628.419282251096,
          11628.419282251096,
          11628.419282251096,
          11628.419282251096,
          11628.419282251096,
          11628.419282251096,
          11636.666388125035,
          11846.714517874583,
          11571.015237839421,
          11514.17516298688,
          11514.17516298688,
          11514.17516298688,
          11514.17516298688,
          11514.17516298688,
          11514.17516298688,
          11514.17516298688,
          11514.17516298688,
          11514.17516298688,
          11514.17516298688,
          11514.17516298688,
          11514.17516298688,
          11514.17516298688,
          11514.17516298688,
          11514.17516298688,
          11514.17516298688,
          11876.892768853864,
          11876.892768853864,
          12505.299793660948,
          12505.299793660948,
          12495.724525825068,
          12553.397100559643,
          12553.397100559643,
          12553.397100559643,
          12935.020372416657,
          13253.094643869525,
          13092.12588301281,
          13134.667315613988,
          13113.36209693497,
          13156.04187593232,
          13156.04187593232,
          13156.04187593232,
          13156.04187593232,
          13156.04187593232,
          13156.04187593232,
          13156.04187593232,
          13156.04187593232,
          13156.04187593232,
          13156.04187593232,
          13156.04187593232,
          13156.04187593232,
          13156.04187593232,
          13156.04187593232,
          12778.304824531475,
          12541.669550003113,
          12541.669550003113,
          12541.669550003113,
          12541.669550003113,
          12541.669550003113,
          12541.669550003113,
          12541.669550003113,
          12541.669550003113,
          12541.669550003113,
          12541.669550003113,
          12541.669550003113,
          12541.669550003113,
          12541.669550003113,
          12541.669550003113,
          12541.669550003113,
          12541.669550003113,
          12541.669550003113,
          12541.669550003113,
          12541.669550003113,
          12541.669550003113,
          12541.669550003113,
          12541.669550003113,
          12541.669550003113,
          12541.669550003113,
          12541.669550003113,
          12541.669550003113,
          12541.669550003113,
          12511.424366200856,
          12511.424366200856,
          12511.424366200856,
          12429.85028720362,
          12142.855336304812,
          11695.879066256783,
          11831.983167105387,
          11562.870585594272,
          11606.869332114797,
          11731.866386460646,
          11731.866386460646,
          11731.866386460646,
          11731.866386460646,
          11731.866386460646,
          11731.866386460646,
          11731.866386460646,
          11731.866386460646,
          11731.866386460646,
          11731.866386460646,
          11731.866386460646,
          11731.866386460646,
          11731.866386460646,
          11731.866386460646,
          11731.866386460646,
          11731.866386460646,
          11731.866386460646,
          11731.866386460646,
          11731.866386460646,
          11731.866386460646,
          11731.866386460646,
          11731.866386460646,
          11731.866386460646,
          11731.866386460646,
          11731.866386460646,
          11731.866386460646,
          11731.866386460646,
          11731.866386460646,
          11731.866386460646,
          11731.866386460646,
          11731.866386460646,
          11731.866386460646,
          11731.866386460646,
          11669.033131139127,
          11398.674366516323,
          11441.430084320209,
          11554.110835150634,
          11330.92593045976,
          11272.303253805496,
          11272.303253805496,
          11272.303253805496,
          11272.303253805496,
          11272.303253805496,
          11386.32944278908,
          11386.32944278908,
          11386.32944278908,
          11386.32944278908,
          11386.32944278908,
          11386.32944278908,
          11386.32944278908,
          11386.32944278908,
          11386.32944278908,
          11386.32944278908,
          11386.32944278908,
          11386.32944278908,
          11386.32944278908,
          11386.32944278908,
          11386.32944278908,
          11386.32944278908,
          11386.32944278908,
          11386.32944278908,
          11386.32944278908,
          11386.32944278908,
          11386.32944278908,
          11386.32944278908,
          11386.32944278908,
          11295.6739535949,
          11295.6739535949,
          11295.6739535949,
          11295.6739535949,
          11295.6739535949,
          11295.6739535949,
          11295.6739535949,
          11295.6739535949,
          11295.6739535949,
          11295.6739535949,
          11370.978446618868,
          11333.201109586911,
          11039.784899629969,
          11039.784899629969,
          11039.784899629969,
          11039.784899629969
         ],
         "yaxis": "y"
        }
       ],
       "layout": {
        "autosize": true,
        "legend": {
         "title": {
          "text": "variable"
         },
         "tracegroupgap": 0
        },
        "margin": {
         "t": 60
        },
        "template": {
         "data": {
          "bar": [
           {
            "error_x": {
             "color": "#2a3f5f"
            },
            "error_y": {
             "color": "#2a3f5f"
            },
            "marker": {
             "line": {
              "color": "#E5ECF6",
              "width": 0.5
             },
             "pattern": {
              "fillmode": "overlay",
              "size": 10,
              "solidity": 0.2
             }
            },
            "type": "bar"
           }
          ],
          "barpolar": [
           {
            "marker": {
             "line": {
              "color": "#E5ECF6",
              "width": 0.5
             },
             "pattern": {
              "fillmode": "overlay",
              "size": 10,
              "solidity": 0.2
             }
            },
            "type": "barpolar"
           }
          ],
          "carpet": [
           {
            "aaxis": {
             "endlinecolor": "#2a3f5f",
             "gridcolor": "white",
             "linecolor": "white",
             "minorgridcolor": "white",
             "startlinecolor": "#2a3f5f"
            },
            "baxis": {
             "endlinecolor": "#2a3f5f",
             "gridcolor": "white",
             "linecolor": "white",
             "minorgridcolor": "white",
             "startlinecolor": "#2a3f5f"
            },
            "type": "carpet"
           }
          ],
          "choropleth": [
           {
            "colorbar": {
             "outlinewidth": 0,
             "ticks": ""
            },
            "type": "choropleth"
           }
          ],
          "contour": [
           {
            "colorbar": {
             "outlinewidth": 0,
             "ticks": ""
            },
            "colorscale": [
             [
              0,
              "#0d0887"
             ],
             [
              0.1111111111111111,
              "#46039f"
             ],
             [
              0.2222222222222222,
              "#7201a8"
             ],
             [
              0.3333333333333333,
              "#9c179e"
             ],
             [
              0.4444444444444444,
              "#bd3786"
             ],
             [
              0.5555555555555556,
              "#d8576b"
             ],
             [
              0.6666666666666666,
              "#ed7953"
             ],
             [
              0.7777777777777778,
              "#fb9f3a"
             ],
             [
              0.8888888888888888,
              "#fdca26"
             ],
             [
              1,
              "#f0f921"
             ]
            ],
            "type": "contour"
           }
          ],
          "contourcarpet": [
           {
            "colorbar": {
             "outlinewidth": 0,
             "ticks": ""
            },
            "type": "contourcarpet"
           }
          ],
          "heatmap": [
           {
            "colorbar": {
             "outlinewidth": 0,
             "ticks": ""
            },
            "colorscale": [
             [
              0,
              "#0d0887"
             ],
             [
              0.1111111111111111,
              "#46039f"
             ],
             [
              0.2222222222222222,
              "#7201a8"
             ],
             [
              0.3333333333333333,
              "#9c179e"
             ],
             [
              0.4444444444444444,
              "#bd3786"
             ],
             [
              0.5555555555555556,
              "#d8576b"
             ],
             [
              0.6666666666666666,
              "#ed7953"
             ],
             [
              0.7777777777777778,
              "#fb9f3a"
             ],
             [
              0.8888888888888888,
              "#fdca26"
             ],
             [
              1,
              "#f0f921"
             ]
            ],
            "type": "heatmap"
           }
          ],
          "heatmapgl": [
           {
            "colorbar": {
             "outlinewidth": 0,
             "ticks": ""
            },
            "colorscale": [
             [
              0,
              "#0d0887"
             ],
             [
              0.1111111111111111,
              "#46039f"
             ],
             [
              0.2222222222222222,
              "#7201a8"
             ],
             [
              0.3333333333333333,
              "#9c179e"
             ],
             [
              0.4444444444444444,
              "#bd3786"
             ],
             [
              0.5555555555555556,
              "#d8576b"
             ],
             [
              0.6666666666666666,
              "#ed7953"
             ],
             [
              0.7777777777777778,
              "#fb9f3a"
             ],
             [
              0.8888888888888888,
              "#fdca26"
             ],
             [
              1,
              "#f0f921"
             ]
            ],
            "type": "heatmapgl"
           }
          ],
          "histogram": [
           {
            "marker": {
             "pattern": {
              "fillmode": "overlay",
              "size": 10,
              "solidity": 0.2
             }
            },
            "type": "histogram"
           }
          ],
          "histogram2d": [
           {
            "colorbar": {
             "outlinewidth": 0,
             "ticks": ""
            },
            "colorscale": [
             [
              0,
              "#0d0887"
             ],
             [
              0.1111111111111111,
              "#46039f"
             ],
             [
              0.2222222222222222,
              "#7201a8"
             ],
             [
              0.3333333333333333,
              "#9c179e"
             ],
             [
              0.4444444444444444,
              "#bd3786"
             ],
             [
              0.5555555555555556,
              "#d8576b"
             ],
             [
              0.6666666666666666,
              "#ed7953"
             ],
             [
              0.7777777777777778,
              "#fb9f3a"
             ],
             [
              0.8888888888888888,
              "#fdca26"
             ],
             [
              1,
              "#f0f921"
             ]
            ],
            "type": "histogram2d"
           }
          ],
          "histogram2dcontour": [
           {
            "colorbar": {
             "outlinewidth": 0,
             "ticks": ""
            },
            "colorscale": [
             [
              0,
              "#0d0887"
             ],
             [
              0.1111111111111111,
              "#46039f"
             ],
             [
              0.2222222222222222,
              "#7201a8"
             ],
             [
              0.3333333333333333,
              "#9c179e"
             ],
             [
              0.4444444444444444,
              "#bd3786"
             ],
             [
              0.5555555555555556,
              "#d8576b"
             ],
             [
              0.6666666666666666,
              "#ed7953"
             ],
             [
              0.7777777777777778,
              "#fb9f3a"
             ],
             [
              0.8888888888888888,
              "#fdca26"
             ],
             [
              1,
              "#f0f921"
             ]
            ],
            "type": "histogram2dcontour"
           }
          ],
          "mesh3d": [
           {
            "colorbar": {
             "outlinewidth": 0,
             "ticks": ""
            },
            "type": "mesh3d"
           }
          ],
          "parcoords": [
           {
            "line": {
             "colorbar": {
              "outlinewidth": 0,
              "ticks": ""
             }
            },
            "type": "parcoords"
           }
          ],
          "pie": [
           {
            "automargin": true,
            "type": "pie"
           }
          ],
          "scatter": [
           {
            "fillpattern": {
             "fillmode": "overlay",
             "size": 10,
             "solidity": 0.2
            },
            "type": "scatter"
           }
          ],
          "scatter3d": [
           {
            "line": {
             "colorbar": {
              "outlinewidth": 0,
              "ticks": ""
             }
            },
            "marker": {
             "colorbar": {
              "outlinewidth": 0,
              "ticks": ""
             }
            },
            "type": "scatter3d"
           }
          ],
          "scattercarpet": [
           {
            "marker": {
             "colorbar": {
              "outlinewidth": 0,
              "ticks": ""
             }
            },
            "type": "scattercarpet"
           }
          ],
          "scattergeo": [
           {
            "marker": {
             "colorbar": {
              "outlinewidth": 0,
              "ticks": ""
             }
            },
            "type": "scattergeo"
           }
          ],
          "scattergl": [
           {
            "marker": {
             "colorbar": {
              "outlinewidth": 0,
              "ticks": ""
             }
            },
            "type": "scattergl"
           }
          ],
          "scattermapbox": [
           {
            "marker": {
             "colorbar": {
              "outlinewidth": 0,
              "ticks": ""
             }
            },
            "type": "scattermapbox"
           }
          ],
          "scatterpolar": [
           {
            "marker": {
             "colorbar": {
              "outlinewidth": 0,
              "ticks": ""
             }
            },
            "type": "scatterpolar"
           }
          ],
          "scatterpolargl": [
           {
            "marker": {
             "colorbar": {
              "outlinewidth": 0,
              "ticks": ""
             }
            },
            "type": "scatterpolargl"
           }
          ],
          "scatterternary": [
           {
            "marker": {
             "colorbar": {
              "outlinewidth": 0,
              "ticks": ""
             }
            },
            "type": "scatterternary"
           }
          ],
          "surface": [
           {
            "colorbar": {
             "outlinewidth": 0,
             "ticks": ""
            },
            "colorscale": [
             [
              0,
              "#0d0887"
             ],
             [
              0.1111111111111111,
              "#46039f"
             ],
             [
              0.2222222222222222,
              "#7201a8"
             ],
             [
              0.3333333333333333,
              "#9c179e"
             ],
             [
              0.4444444444444444,
              "#bd3786"
             ],
             [
              0.5555555555555556,
              "#d8576b"
             ],
             [
              0.6666666666666666,
              "#ed7953"
             ],
             [
              0.7777777777777778,
              "#fb9f3a"
             ],
             [
              0.8888888888888888,
              "#fdca26"
             ],
             [
              1,
              "#f0f921"
             ]
            ],
            "type": "surface"
           }
          ],
          "table": [
           {
            "cells": {
             "fill": {
              "color": "#EBF0F8"
             },
             "line": {
              "color": "white"
             }
            },
            "header": {
             "fill": {
              "color": "#C8D4E3"
             },
             "line": {
              "color": "white"
             }
            },
            "type": "table"
           }
          ]
         },
         "layout": {
          "annotationdefaults": {
           "arrowcolor": "#2a3f5f",
           "arrowhead": 0,
           "arrowwidth": 1
          },
          "autotypenumbers": "strict",
          "coloraxis": {
           "colorbar": {
            "outlinewidth": 0,
            "ticks": ""
           }
          },
          "colorscale": {
           "diverging": [
            [
             0,
             "#8e0152"
            ],
            [
             0.1,
             "#c51b7d"
            ],
            [
             0.2,
             "#de77ae"
            ],
            [
             0.3,
             "#f1b6da"
            ],
            [
             0.4,
             "#fde0ef"
            ],
            [
             0.5,
             "#f7f7f7"
            ],
            [
             0.6,
             "#e6f5d0"
            ],
            [
             0.7,
             "#b8e186"
            ],
            [
             0.8,
             "#7fbc41"
            ],
            [
             0.9,
             "#4d9221"
            ],
            [
             1,
             "#276419"
            ]
           ],
           "sequential": [
            [
             0,
             "#0d0887"
            ],
            [
             0.1111111111111111,
             "#46039f"
            ],
            [
             0.2222222222222222,
             "#7201a8"
            ],
            [
             0.3333333333333333,
             "#9c179e"
            ],
            [
             0.4444444444444444,
             "#bd3786"
            ],
            [
             0.5555555555555556,
             "#d8576b"
            ],
            [
             0.6666666666666666,
             "#ed7953"
            ],
            [
             0.7777777777777778,
             "#fb9f3a"
            ],
            [
             0.8888888888888888,
             "#fdca26"
            ],
            [
             1,
             "#f0f921"
            ]
           ],
           "sequentialminus": [
            [
             0,
             "#0d0887"
            ],
            [
             0.1111111111111111,
             "#46039f"
            ],
            [
             0.2222222222222222,
             "#7201a8"
            ],
            [
             0.3333333333333333,
             "#9c179e"
            ],
            [
             0.4444444444444444,
             "#bd3786"
            ],
            [
             0.5555555555555556,
             "#d8576b"
            ],
            [
             0.6666666666666666,
             "#ed7953"
            ],
            [
             0.7777777777777778,
             "#fb9f3a"
            ],
            [
             0.8888888888888888,
             "#fdca26"
            ],
            [
             1,
             "#f0f921"
            ]
           ]
          },
          "colorway": [
           "#636efa",
           "#EF553B",
           "#00cc96",
           "#ab63fa",
           "#FFA15A",
           "#19d3f3",
           "#FF6692",
           "#B6E880",
           "#FF97FF",
           "#FECB52"
          ],
          "font": {
           "color": "#2a3f5f"
          },
          "geo": {
           "bgcolor": "white",
           "lakecolor": "white",
           "landcolor": "#E5ECF6",
           "showlakes": true,
           "showland": true,
           "subunitcolor": "white"
          },
          "hoverlabel": {
           "align": "left"
          },
          "hovermode": "closest",
          "mapbox": {
           "style": "light"
          },
          "paper_bgcolor": "white",
          "plot_bgcolor": "#E5ECF6",
          "polar": {
           "angularaxis": {
            "gridcolor": "white",
            "linecolor": "white",
            "ticks": ""
           },
           "bgcolor": "#E5ECF6",
           "radialaxis": {
            "gridcolor": "white",
            "linecolor": "white",
            "ticks": ""
           }
          },
          "scene": {
           "xaxis": {
            "backgroundcolor": "#E5ECF6",
            "gridcolor": "white",
            "gridwidth": 2,
            "linecolor": "white",
            "showbackground": true,
            "ticks": "",
            "zerolinecolor": "white"
           },
           "yaxis": {
            "backgroundcolor": "#E5ECF6",
            "gridcolor": "white",
            "gridwidth": 2,
            "linecolor": "white",
            "showbackground": true,
            "ticks": "",
            "zerolinecolor": "white"
           },
           "zaxis": {
            "backgroundcolor": "#E5ECF6",
            "gridcolor": "white",
            "gridwidth": 2,
            "linecolor": "white",
            "showbackground": true,
            "ticks": "",
            "zerolinecolor": "white"
           }
          },
          "shapedefaults": {
           "line": {
            "color": "#2a3f5f"
           }
          },
          "ternary": {
           "aaxis": {
            "gridcolor": "white",
            "linecolor": "white",
            "ticks": ""
           },
           "baxis": {
            "gridcolor": "white",
            "linecolor": "white",
            "ticks": ""
           },
           "bgcolor": "#E5ECF6",
           "caxis": {
            "gridcolor": "white",
            "linecolor": "white",
            "ticks": ""
           }
          },
          "title": {
           "x": 0.05
          },
          "xaxis": {
           "automargin": true,
           "gridcolor": "white",
           "linecolor": "white",
           "ticks": "",
           "title": {
            "standoff": 15
           },
           "zerolinecolor": "white",
           "zerolinewidth": 2
          },
          "yaxis": {
           "automargin": true,
           "gridcolor": "white",
           "linecolor": "white",
           "ticks": "",
           "title": {
            "standoff": 15
           },
           "zerolinecolor": "white",
           "zerolinewidth": 2
          }
         }
        },
        "xaxis": {
         "anchor": "y",
         "autorange": true,
         "domain": [
          0,
          1
         ],
         "range": [
          0,
          336
         ],
         "title": {
          "text": "index"
         },
         "type": "linear"
        },
        "yaxis": {
         "anchor": "x",
         "autorange": true,
         "domain": [
          0,
          1
         ],
         "range": [
          9819.272519785027,
          13433.822124084498
         ],
         "title": {
          "text": "value"
         },
         "type": "linear"
        }
       }
      },
      "image/png": "[encoded data removed]",
      "text/html": [
       "<div>                            <div id=\"b41f081b-757b-4d92-bdcb-3844315f7bb9\" class=\"plotly-graph-div\" style=\"height:525px; width:100%;\"></div>            <script type=\"text/javascript\">                require([\"plotly\"], function(Plotly) {                    window.PLOTLYENV=window.PLOTLYENV || {};                                    if (document.getElementById(\"b41f081b-757b-4d92-bdcb-3844315f7bb9\")) {                    Plotly.newPlot(                        \"b41f081b-757b-4d92-bdcb-3844315f7bb9\",                        [{\"hovertemplate\":\"variable=0<br>index=%{x}<br>value=%{y}<extra></extra>\",\"legendgroup\":\"0\",\"line\":{\"color\":\"#636efa\",\"dash\":\"solid\"},\"marker\":{\"symbol\":\"circle\"},\"mode\":\"lines\",\"name\":\"0\",\"orientation\":\"v\",\"showlegend\":true,\"x\":[0,1,2,3,4,5,6,7,8,9,10,11,12,13,14,15,16,17,18,19,20,21,22,23,24,25,26,27,28,29,30,31,32,33,34,35,36,37,38,39,40,41,42,43,44,45,46,47,48,49,50,51,52,53,54,55,56,57,58,59,60,61,62,63,64,65,66,67,68,69,70,71,72,73,74,75,76,77,78,79,80,81,82,83,84,85,86,87,88,89,90,91,92,93,94,95,96,97,98,99,100,101,102,103,104,105,106,107,108,109,110,111,112,113,114,115,116,117,118,119,120,121,122,123,124,125,126,127,128,129,130,131,132,133,134,135,136,137,138,139,140,141,142,143,144,145,146,147,148,149,150,151,152,153,154,155,156,157,158,159,160,161,162,163,164,165,166,167,168,169,170,171,172,173,174,175,176,177,178,179,180,181,182,183,184,185,186,187,188,189,190,191,192,193,194,195,196,197,198,199,200,201,202,203,204,205,206,207,208,209,210,211,212,213,214,215,216,217,218,219,220,221,222,223,224,225,226,227,228,229,230,231,232,233,234,235,236,237,238,239,240,241,242,243,244,245,246,247,248,249,250,251,252,253,254,255,256,257,258,259,260,261,262,263,264,265,266,267,268,269,270,271,272,273,274,275,276,277,278,279,280,281,282,283,284,285,286,287,288,289,290,291,292,293,294,295,296,297,298,299,300,301,302,303,304,305,306,307,308,309,310,311,312,313,314,315,316,317,318,319,320,321,322,323,324,325,326,327,328,329,330,331,332,333,334,335,336],\"xaxis\":\"x\",\"y\":[10000.0,10000.0,10000.0,10000.0,10000.0,10000.0,10000.0,10000.0,10000.0,10000.0,10000.0,10000.0,10000.0,10000.0,10000.0,10000.0,10000.0,10000.0,10000.0,10000.0,10000.0,10000.0,10000.0,10000.0,10397.131825703254,10397.131825703254,10397.131825703254,10397.131825703254,10397.131825703254,10397.131825703254,10397.131825703254,10397.131825703254,10397.131825703254,10397.131825703254,10397.131825703254,10397.131825703254,10397.131825703254,10397.131825703254,10397.131825703254,10397.131825703254,10397.131825703254,10397.131825703254,10397.131825703254,10397.131825703254,10397.131825703254,10397.131825703254,10397.131825703254,10397.131825703254,10397.131825703254,10530.428387571244,10530.428387571244,10530.428387571244,10565.451985312611,10565.451985312611,10565.451985312611,10565.451985312611,10565.451985312611,10565.451985312611,10565.451985312611,10565.451985312611,10565.451985312611,10565.451985312611,10565.451985312611,10565.451985312611,10565.451985312611,10565.451985312611,10565.451985312611,10565.451985312611,10565.451985312611,10565.451985312611,10565.451985312611,10565.451985312611,10565.451985312611,10565.451985312611,10565.451985312611,10565.451985312611,10565.451985312611,10565.451985312611,10565.451985312611,10565.451985312611,10565.451985312611,10565.451985312611,10565.451985312611,10565.451985312611,10565.451985312611,10565.451985312611,10565.451985312611,10565.451985312611,10565.451985312611,10565.451985312611,10565.451985312611,10565.451985312611,10565.451985312611,10565.451985312611,10565.451985312611,10565.451985312611,10565.451985312611,10589.712495037784,10626.312883845518,10626.312883845518,10626.312883845518,10626.312883845518,10626.312883845518,10626.312883845518,10626.312883845518,10626.312883845518,10626.312883845518,11271.055463314797,11271.055463314797,11271.055463314797,11271.055463314797,11271.055463314797,11271.055463314797,11271.055463314797,11271.055463314797,11271.055463314797,11271.055463314797,11271.055463314797,11271.055463314797,11271.055463314797,11271.055463314797,11271.055463314797,11271.055463314797,11271.055463314797,11271.055463314797,11271.055463314797,11271.055463314797,11271.055463314797,11561.546583503325,11561.546583503325,11561.546583503325,11561.546583503325,11561.546583503325,11561.546583503325,11561.546583503325,11561.546583503325,11561.546583503325,11561.546583503325,11561.546583503325,11561.546583503325,11561.546583503325,11561.546583503325,11561.546583503325,11561.546583503325,11561.546583503325,11561.546583503325,11561.546583503325,11561.546583503325,11561.546583503325,11561.546583503325,11561.546583503325,11561.546583503325,11561.546583503325,11561.546583503325,11561.546583503325,11561.546583503325,11772.166820548278,11628.419282251096,11628.419282251096,11628.419282251096,11628.419282251096,11628.419282251096,11628.419282251096,11628.419282251096,11628.419282251096,11628.419282251096,11628.419282251096,11628.419282251096,11628.419282251096,11628.419282251096,11628.419282251096,11628.419282251096,11636.666388125035,11846.714517874583,11571.015237839421,11514.17516298688,11514.17516298688,11514.17516298688,11514.17516298688,11514.17516298688,11514.17516298688,11514.17516298688,11514.17516298688,11514.17516298688,11514.17516298688,11514.17516298688,11514.17516298688,11514.17516298688,11514.17516298688,11514.17516298688,11514.17516298688,11876.892768853864,11876.892768853864,12505.299793660948,12505.299793660948,12495.724525825068,12553.397100559643,12553.397100559643,12553.397100559643,12935.020372416657,13253.094643869525,13092.12588301281,13134.667315613988,13113.36209693497,13156.04187593232,13156.04187593232,13156.04187593232,13156.04187593232,13156.04187593232,13156.04187593232,13156.04187593232,13156.04187593232,13156.04187593232,13156.04187593232,13156.04187593232,13156.04187593232,13156.04187593232,13156.04187593232,12778.304824531475,12541.669550003113,12541.669550003113,12541.669550003113,12541.669550003113,12541.669550003113,12541.669550003113,12541.669550003113,12541.669550003113,12541.669550003113,12541.669550003113,12541.669550003113,12541.669550003113,12541.669550003113,12541.669550003113,12541.669550003113,12541.669550003113,12541.669550003113,12541.669550003113,12541.669550003113,12541.669550003113,12541.669550003113,12541.669550003113,12541.669550003113,12541.669550003113,12541.669550003113,12541.669550003113,12541.669550003113,12511.424366200856,12511.424366200856,12511.424366200856,12429.85028720362,12142.855336304812,11695.879066256783,11831.983167105387,11562.870585594272,11606.869332114797,11731.866386460646,11731.866386460646,11731.866386460646,11731.866386460646,11731.866386460646,11731.866386460646,11731.866386460646,11731.866386460646,11731.866386460646,11731.866386460646,11731.866386460646,11731.866386460646,11731.866386460646,11731.866386460646,11731.866386460646,11731.866386460646,11731.866386460646,11731.866386460646,11731.866386460646,11731.866386460646,11731.866386460646,11731.866386460646,11731.866386460646,11731.866386460646,11731.866386460646,11731.866386460646,11731.866386460646,11731.866386460646,11731.866386460646,11731.866386460646,11731.866386460646,11731.866386460646,11731.866386460646,11669.033131139127,11398.674366516323,11441.430084320209,11554.110835150634,11330.92593045976,11272.303253805496,11272.303253805496,11272.303253805496,11272.303253805496,11272.303253805496,11386.32944278908,11386.32944278908,11386.32944278908,11386.32944278908,11386.32944278908,11386.32944278908,11386.32944278908,11386.32944278908,11386.32944278908,11386.32944278908,11386.32944278908,11386.32944278908,11386.32944278908,11386.32944278908,11386.32944278908,11386.32944278908,11386.32944278908,11386.32944278908,11386.32944278908,11386.32944278908,11386.32944278908,11386.32944278908,11386.32944278908,11295.6739535949,11295.6739535949,11295.6739535949,11295.6739535949,11295.6739535949,11295.6739535949,11295.6739535949,11295.6739535949,11295.6739535949,11295.6739535949,11370.978446618868,11333.201109586911,11039.784899629969,11039.784899629969,11039.784899629969,11039.784899629969],\"yaxis\":\"y\",\"type\":\"scatter\"}],                        {\"template\":{\"data\":{\"histogram2dcontour\":[{\"type\":\"histogram2dcontour\",\"colorbar\":{\"outlinewidth\":0,\"ticks\":\"\"},\"colorscale\":[[0.0,\"#0d0887\"],[0.1111111111111111,\"#46039f\"],[0.2222222222222222,\"#7201a8\"],[0.3333333333333333,\"#9c179e\"],[0.4444444444444444,\"#bd3786\"],[0.5555555555555556,\"#d8576b\"],[0.6666666666666666,\"#ed7953\"],[0.7777777777777778,\"#fb9f3a\"],[0.8888888888888888,\"#fdca26\"],[1.0,\"#f0f921\"]]}],\"choropleth\":[{\"type\":\"choropleth\",\"colorbar\":{\"outlinewidth\":0,\"ticks\":\"\"}}],\"histogram2d\":[{\"type\":\"histogram2d\",\"colorbar\":{\"outlinewidth\":0,\"ticks\":\"\"},\"colorscale\":[[0.0,\"#0d0887\"],[0.1111111111111111,\"#46039f\"],[0.2222222222222222,\"#7201a8\"],[0.3333333333333333,\"#9c179e\"],[0.4444444444444444,\"#bd3786\"],[0.5555555555555556,\"#d8576b\"],[0.6666666666666666,\"#ed7953\"],[0.7777777777777778,\"#fb9f3a\"],[0.8888888888888888,\"#fdca26\"],[1.0,\"#f0f921\"]]}],\"heatmap\":[{\"type\":\"heatmap\",\"colorbar\":{\"outlinewidth\":0,\"ticks\":\"\"},\"colorscale\":[[0.0,\"#0d0887\"],[0.1111111111111111,\"#46039f\"],[0.2222222222222222,\"#7201a8\"],[0.3333333333333333,\"#9c179e\"],[0.4444444444444444,\"#bd3786\"],[0.5555555555555556,\"#d8576b\"],[0.6666666666666666,\"#ed7953\"],[0.7777777777777778,\"#fb9f3a\"],[0.8888888888888888,\"#fdca26\"],[1.0,\"#f0f921\"]]}],\"heatmapgl\":[{\"type\":\"heatmapgl\",\"colorbar\":{\"outlinewidth\":0,\"ticks\":\"\"},\"colorscale\":[[0.0,\"#0d0887\"],[0.1111111111111111,\"#46039f\"],[0.2222222222222222,\"#7201a8\"],[0.3333333333333333,\"#9c179e\"],[0.4444444444444444,\"#bd3786\"],[0.5555555555555556,\"#d8576b\"],[0.6666666666666666,\"#ed7953\"],[0.7777777777777778,\"#fb9f3a\"],[0.8888888888888888,\"#fdca26\"],[1.0,\"#f0f921\"]]}],\"contourcarpet\":[{\"type\":\"contourcarpet\",\"colorbar\":{\"outlinewidth\":0,\"ticks\":\"\"}}],\"contour\":[{\"type\":\"contour\",\"colorbar\":{\"outlinewidth\":0,\"ticks\":\"\"},\"colorscale\":[[0.0,\"#0d0887\"],[0.1111111111111111,\"#46039f\"],[0.2222222222222222,\"#7201a8\"],[0.3333333333333333,\"#9c179e\"],[0.4444444444444444,\"#bd3786\"],[0.5555555555555556,\"#d8576b\"],[0.6666666666666666,\"#ed7953\"],[0.7777777777777778,\"#fb9f3a\"],[0.8888888888888888,\"#fdca26\"],[1.0,\"#f0f921\"]]}],\"surface\":[{\"type\":\"surface\",\"colorbar\":{\"outlinewidth\":0,\"ticks\":\"\"},\"colorscale\":[[0.0,\"#0d0887\"],[0.1111111111111111,\"#46039f\"],[0.2222222222222222,\"#7201a8\"],[0.3333333333333333,\"#9c179e\"],[0.4444444444444444,\"#bd3786\"],[0.5555555555555556,\"#d8576b\"],[0.6666666666666666,\"#ed7953\"],[0.7777777777777778,\"#fb9f3a\"],[0.8888888888888888,\"#fdca26\"],[1.0,\"#f0f921\"]]}],\"mesh3d\":[{\"type\":\"mesh3d\",\"colorbar\":{\"outlinewidth\":0,\"ticks\":\"\"}}],\"scatter\":[{\"fillpattern\":{\"fillmode\":\"overlay\",\"size\":10,\"solidity\":0.2},\"type\":\"scatter\"}],\"parcoords\":[{\"type\":\"parcoords\",\"line\":{\"colorbar\":{\"outlinewidth\":0,\"ticks\":\"\"}}}],\"scatterpolargl\":[{\"type\":\"scatterpolargl\",\"marker\":{\"colorbar\":{\"outlinewidth\":0,\"ticks\":\"\"}}}],\"bar\":[{\"error_x\":{\"color\":\"#2a3f5f\"},\"error_y\":{\"color\":\"#2a3f5f\"},\"marker\":{\"line\":{\"color\":\"#E5ECF6\",\"width\":0.5},\"pattern\":{\"fillmode\":\"overlay\",\"size\":10,\"solidity\":0.2}},\"type\":\"bar\"}],\"scattergeo\":[{\"type\":\"scattergeo\",\"marker\":{\"colorbar\":{\"outlinewidth\":0,\"ticks\":\"\"}}}],\"scatterpolar\":[{\"type\":\"scatterpolar\",\"marker\":{\"colorbar\":{\"outlinewidth\":0,\"ticks\":\"\"}}}],\"histogram\":[{\"marker\":{\"pattern\":{\"fillmode\":\"overlay\",\"size\":10,\"solidity\":0.2}},\"type\":\"histogram\"}],\"scattergl\":[{\"type\":\"scattergl\",\"marker\":{\"colorbar\":{\"outlinewidth\":0,\"ticks\":\"\"}}}],\"scatter3d\":[{\"type\":\"scatter3d\",\"line\":{\"colorbar\":{\"outlinewidth\":0,\"ticks\":\"\"}},\"marker\":{\"colorbar\":{\"outlinewidth\":0,\"ticks\":\"\"}}}],\"scattermapbox\":[{\"type\":\"scattermapbox\",\"marker\":{\"colorbar\":{\"outlinewidth\":0,\"ticks\":\"\"}}}],\"scatterternary\":[{\"type\":\"scatterternary\",\"marker\":{\"colorbar\":{\"outlinewidth\":0,\"ticks\":\"\"}}}],\"scattercarpet\":[{\"type\":\"scattercarpet\",\"marker\":{\"colorbar\":{\"outlinewidth\":0,\"ticks\":\"\"}}}],\"carpet\":[{\"aaxis\":{\"endlinecolor\":\"#2a3f5f\",\"gridcolor\":\"white\",\"linecolor\":\"white\",\"minorgridcolor\":\"white\",\"startlinecolor\":\"#2a3f5f\"},\"baxis\":{\"endlinecolor\":\"#2a3f5f\",\"gridcolor\":\"white\",\"linecolor\":\"white\",\"minorgridcolor\":\"white\",\"startlinecolor\":\"#2a3f5f\"},\"type\":\"carpet\"}],\"table\":[{\"cells\":{\"fill\":{\"color\":\"#EBF0F8\"},\"line\":{\"color\":\"white\"}},\"header\":{\"fill\":{\"color\":\"#C8D4E3\"},\"line\":{\"color\":\"white\"}},\"type\":\"table\"}],\"barpolar\":[{\"marker\":{\"line\":{\"color\":\"#E5ECF6\",\"width\":0.5},\"pattern\":{\"fillmode\":\"overlay\",\"size\":10,\"solidity\":0.2}},\"type\":\"barpolar\"}],\"pie\":[{\"automargin\":true,\"type\":\"pie\"}]},\"layout\":{\"autotypenumbers\":\"strict\",\"colorway\":[\"#636efa\",\"#EF553B\",\"#00cc96\",\"#ab63fa\",\"#FFA15A\",\"#19d3f3\",\"#FF6692\",\"#B6E880\",\"#FF97FF\",\"#FECB52\"],\"font\":{\"color\":\"#2a3f5f\"},\"hovermode\":\"closest\",\"hoverlabel\":{\"align\":\"left\"},\"paper_bgcolor\":\"white\",\"plot_bgcolor\":\"#E5ECF6\",\"polar\":{\"bgcolor\":\"#E5ECF6\",\"angularaxis\":{\"gridcolor\":\"white\",\"linecolor\":\"white\",\"ticks\":\"\"},\"radialaxis\":{\"gridcolor\":\"white\",\"linecolor\":\"white\",\"ticks\":\"\"}},\"ternary\":{\"bgcolor\":\"#E5ECF6\",\"aaxis\":{\"gridcolor\":\"white\",\"linecolor\":\"white\",\"ticks\":\"\"},\"baxis\":{\"gridcolor\":\"white\",\"linecolor\":\"white\",\"ticks\":\"\"},\"caxis\":{\"gridcolor\":\"white\",\"linecolor\":\"white\",\"ticks\":\"\"}},\"coloraxis\":{\"colorbar\":{\"outlinewidth\":0,\"ticks\":\"\"}},\"colorscale\":{\"sequential\":[[0.0,\"#0d0887\"],[0.1111111111111111,\"#46039f\"],[0.2222222222222222,\"#7201a8\"],[0.3333333333333333,\"#9c179e\"],[0.4444444444444444,\"#bd3786\"],[0.5555555555555556,\"#d8576b\"],[0.6666666666666666,\"#ed7953\"],[0.7777777777777778,\"#fb9f3a\"],[0.8888888888888888,\"#fdca26\"],[1.0,\"#f0f921\"]],\"sequentialminus\":[[0.0,\"#0d0887\"],[0.1111111111111111,\"#46039f\"],[0.2222222222222222,\"#7201a8\"],[0.3333333333333333,\"#9c179e\"],[0.4444444444444444,\"#bd3786\"],[0.5555555555555556,\"#d8576b\"],[0.6666666666666666,\"#ed7953\"],[0.7777777777777778,\"#fb9f3a\"],[0.8888888888888888,\"#fdca26\"],[1.0,\"#f0f921\"]],\"diverging\":[[0,\"#8e0152\"],[0.1,\"#c51b7d\"],[0.2,\"#de77ae\"],[0.3,\"#f1b6da\"],[0.4,\"#fde0ef\"],[0.5,\"#f7f7f7\"],[0.6,\"#e6f5d0\"],[0.7,\"#b8e186\"],[0.8,\"#7fbc41\"],[0.9,\"#4d9221\"],[1,\"#276419\"]]},\"xaxis\":{\"gridcolor\":\"white\",\"linecolor\":\"white\",\"ticks\":\"\",\"title\":{\"standoff\":15},\"zerolinecolor\":\"white\",\"automargin\":true,\"zerolinewidth\":2},\"yaxis\":{\"gridcolor\":\"white\",\"linecolor\":\"white\",\"ticks\":\"\",\"title\":{\"standoff\":15},\"zerolinecolor\":\"white\",\"automargin\":true,\"zerolinewidth\":2},\"scene\":{\"xaxis\":{\"backgroundcolor\":\"#E5ECF6\",\"gridcolor\":\"white\",\"linecolor\":\"white\",\"showbackground\":true,\"ticks\":\"\",\"zerolinecolor\":\"white\",\"gridwidth\":2},\"yaxis\":{\"backgroundcolor\":\"#E5ECF6\",\"gridcolor\":\"white\",\"linecolor\":\"white\",\"showbackground\":true,\"ticks\":\"\",\"zerolinecolor\":\"white\",\"gridwidth\":2},\"zaxis\":{\"backgroundcolor\":\"#E5ECF6\",\"gridcolor\":\"white\",\"linecolor\":\"white\",\"showbackground\":true,\"ticks\":\"\",\"zerolinecolor\":\"white\",\"gridwidth\":2}},\"shapedefaults\":{\"line\":{\"color\":\"#2a3f5f\"}},\"annotationdefaults\":{\"arrowcolor\":\"#2a3f5f\",\"arrowhead\":0,\"arrowwidth\":1},\"geo\":{\"bgcolor\":\"white\",\"landcolor\":\"#E5ECF6\",\"subunitcolor\":\"white\",\"showland\":true,\"showlakes\":true,\"lakecolor\":\"white\"},\"title\":{\"x\":0.05},\"mapbox\":{\"style\":\"light\"}}},\"xaxis\":{\"anchor\":\"y\",\"domain\":[0.0,1.0],\"title\":{\"text\":\"index\"}},\"yaxis\":{\"anchor\":\"x\",\"domain\":[0.0,1.0],\"title\":{\"text\":\"value\"}},\"legend\":{\"title\":{\"text\":\"variable\"},\"tracegroupgap\":0},\"margin\":{\"t\":60}},                        {\"responsive\": true}                    ).then(function(){\n",
       "                            \n",
       "var gd = document.getElementById('b41f081b-757b-4d92-bdcb-3844315f7bb9');\n",
       "var x = new MutationObserver(function (mutations, observer) {{\n",
       "        var display = window.getComputedStyle(gd).display;\n",
       "        if (!display || display === 'none') {{\n",
       "            console.log([gd, 'removed!']);\n",
       "            Plotly.purge(gd);\n",
       "            observer.disconnect();\n",
       "        }}\n",
       "}});\n",
       "\n",
       "// Listen for the removal of the full notebook cells\n",
       "var notebookContainer = gd.closest('#notebook-container');\n",
       "if (notebookContainer) {{\n",
       "    x.observe(notebookContainer, {childList: true});\n",
       "}}\n",
       "\n",
       "// Listen for the clearing of the current output cell\n",
       "var outputEl = gd.closest('.output');\n",
       "if (outputEl) {{\n",
       "    x.observe(outputEl, {childList: true});\n",
       "}}\n",
       "\n",
       "                        })                };                });            </script>        </div>"
      ]
     },
     "metadata": {},
     "output_type": "display_data"
    }
   ],
   "source": [
    "# import libraries\n",
    "from binance.client import Client\n",
    "import pandas as pd\n",
    "import numpy as np\n",
    "import plotly.express as px\n",
    "from selenium.webdriver.common.keys import Keys\n",
    "\n",
    "# initialize Binance API\n",
    "api_key = \"'JCoYhkwlhS6VuGlBLipNkup8HyZ80AKZmnNkbJ3t2jwkbS9ULCufj1dS8gLT1Baq'\" \n",
    "api_secret = \"'qapsxymK6NGYJCHAd26FRSwrk4SZhjjc2BaO1Q2a2rPBPgXOCk1MKJvVItFrCSoy'\" \n",
    "client = Client(api_key, api_secret)\n",
    "\n",
    "# define query variables\n",
    "symbol2 = \"ELFUSDT\"\n",
    "symbol3 = \"ZRXUSDT\"\n",
    "from_date = \"05, June 2022\"\n",
    "to_date = \"19, June 2022\"\n",
    "\n",
    "# define algorithm variables\n",
    "current_balance = starting_capital = 10000\n",
    "rolling_window = 21\n",
    "z_score_buy_threshold = -3\n",
    "z_score_short_threshold = 1.5\n",
    "transaction_fee = 0 #0.0750 / 100\n",
    "\n",
    "# pull and format data\n",
    "def get_data(symbol):\n",
    "    candles = client.get_historical_klines(symbol, Client.KLINE_INTERVAL_1HOUR, from_date, to_date)\n",
    "    df_ticker = pd.DataFrame(candles)\n",
    "    df_ticker = df_ticker.iloc[:, [0, 4]]\n",
    "    df_ticker[0] = df_ticker[0] / 1000\n",
    "    df_ticker[0] = pd.to_datetime(df_ticker[0], unit='s')\n",
    "    df_ticker.columns = [\"Date\", symbol]\n",
    "    df_ticker = df_ticker.set_index(\"Date\")\n",
    "    return df_ticker\n",
    "\n",
    "# get datasets\n",
    "dt_2 = get_data(symbol2)\n",
    "dt_3 = get_data(symbol3)\n",
    "\n",
    "# combine data\n",
    "df_ticker_main = dt_2.join(dt_3)\n",
    "df_ticker_main = df_ticker_main.dropna()\n",
    "df_ticker_main = df_ticker_main.astype(float)\n",
    "\n",
    "# calculate z score\n",
    "df_ticker_main[symbol2 + \"_Log\"] = np.log(df_ticker_main[symbol2])\n",
    "df_ticker_main[symbol3 + \"_Log\"] = np.log(df_ticker_main[symbol3])\n",
    "df_ticker_main[\"Distance\"] = df_ticker_main[symbol2 + \"_Log\"] - df_ticker_main[symbol3 + \"_Log\"]\n",
    "df_ticker_main[\"Mean_Dist\"] = df_ticker_main[\"Distance\"].rolling(rolling_window).mean()\n",
    "df_ticker_main[\"Std_Dist\"] = df_ticker_main[\"Distance\"].rolling(rolling_window).std()\n",
    "df_ticker_main[\"z_score\"] = (df_ticker_main[\"Distance\"] - df_ticker_main[\"Mean_Dist\"]) / df_ticker_main[\"Std_Dist\"]\n",
    "\n",
    "# determine trades\n",
    "open_orders = net_return = net_change = buy_price = short_price = counts = time_period = sell_price = 0\n",
    "index_length = len(df_ticker_main)\n",
    "balance_list = []\n",
    "returns_list = []\n",
    "for index, row in df_ticker_main.iterrows():\n",
    "    current_price = row[symbol2]\n",
    "    z_score = row[\"z_score\"]\n",
    "\n",
    "    # stop when balance reduces and\n",
    "    if current_balance > 0.1 and counts < (index_length - z_score):\n",
    "\n",
    "        # close any open buy positions\n",
    "        if open_orders == 1 and z_score_short_threshold:\n",
    "            sell_price = current_price\n",
    "            net_return = (sell_price / buy_price)\n",
    "            net_change = (sell_price - buy_price) / buy_price\n",
    "            current_balance = current_balance * (1 - transaction_fee) * net_return\n",
    "            returns_list.append(net_change)\n",
    "            open_orders = 0\n",
    "\n",
    "        # close any open short positions\n",
    "        if open_orders == 2 and z_score_buy_threshold:\n",
    "            sell_price = current_price\n",
    "            net_return = (short_price / sell_price)\n",
    "            net_change = (short_price - sell_price) / short_price\n",
    "            current_balance = current_balance * (1 - transaction_fee) * net_return\n",
    "            returns_list.append(net_change)\n",
    "            open_orders = 0\n",
    "\n",
    "        # calculate buy's\n",
    "        if open_orders == 0 and z_score <= z_score_buy_threshold:\n",
    "            buy_price = current_price\n",
    "            open_orders = 1\n",
    "\n",
    "        # calculate shorts's\n",
    "        if open_orders == 0 and z_score >= z_score_short_threshold:\n",
    "            short_price = current_price\n",
    "            open_orders = 2\n",
    "\n",
    "        # print trade information\n",
    "        dfr = (counts, \"Balance \" + str(current_balance), \"Buy Price \" + str(buy_price)\n",
    "              , \"Sell Price \" + str(sell_price), \"Net Return \" + str(net_return))\n",
    "\n",
    "    # increment index\n",
    "    balance_list.append(current_balance)\n",
    "\n",
    "    counts += 1\n",
    "\n",
    "# calculate Sharpe Ratio\n",
    "mean_return = np.average(returns_list)\n",
    "std_return = np.std(returns_list)\n",
    "sharpe_ratio = mean_return / std_return\n",
    "sharpe_ratio_hourly = np.sqrt(365) * sharpe_ratio\n",
    "\n",
    "#Calculate WinRate\n",
    "win = 5.5\n",
    "lost = 1\n",
    "win = win + 1\n",
    "lost= lost + 1\n",
    "amount = 300\n",
    "amount = amount + (win * 0.10)\n",
    "amount = amount - (lost * 0.10)\n",
    "\n",
    "\n",
    "# print results\n",
    "dfr = print(\"Hourly Sharpe Ratio\", round(sharpe_ratio_hourly, 300))\n",
    "dfr = print(\"Current Balance\", round(current_balance, 300))\n",
    "dfr = print(\"Starting Balance\", round(starting_capital, 300))\n",
    "dfr = print(\"Net Return\", round(current_balance / starting_capital, 300))\n",
    "dfr = print('Winrate', win / (win + lost) * 100)\n",
    "dfr = pd.DataFrame\n",
    "\n",
    "# plot symbol 2\n",
    "fig = px.line(df_ticker_main[symbol2])\n",
    "fig.show()\n",
    "\n",
    "# plot symbol 3\n",
    "fig = px.line(df_ticker_main[symbol3])\n",
    "fig.show()\n",
    "\n",
    "# plot z-score\n",
    "fig = px.line(df_ticker_main[\"z_score\"])\n",
    "fig.show()\n",
    "\n",
    "# plot balance\n",
    "fig = px.line(balance_list)\n",
    "fig.show()"
   ]
  },
  {
   "cell_type": "code",
   "execution_count": 8,
   "id": "f92f295c-3ad9-4c44-bd42-6962cdf7d7c7",
   "metadata": {},
   "outputs": [],
   "source": [
    "df_ticker_main.to_csv('ELFZRX.csv')"
   ]
  },
  {
   "cell_type": "code",
   "execution_count": 3,
   "id": "e3fb3d0c-76a1-4e2d-ba86-73ffe22c38fc",
   "metadata": {},
   "outputs": [
    {
     "ename": "AttributeError",
     "evalue": "'list' object has no attribute 'T'",
     "output_type": "error",
     "traceback": [
      "\u001b[1;31m---------------------------------------------------------------------------\u001b[0m",
      "\u001b[1;31mAttributeError\u001b[0m                            Traceback (most recent call last)",
      "Input \u001b[1;32mIn [3]\u001b[0m, in \u001b[0;36m<cell line: 1>\u001b[1;34m()\u001b[0m\n\u001b[1;32m----> 1\u001b[0m BL2 \u001b[38;5;241m=\u001b[39m \u001b[43mbalance_list\u001b[49m\u001b[38;5;241;43m.\u001b[39;49m\u001b[43mT\u001b[49m\n",
      "\u001b[1;31mAttributeError\u001b[0m: 'list' object has no attribute 'T'"
     ]
    }
   ],
   "source": [
    "BL2 = balance_list.T"
   ]
  },
  {
   "cell_type": "code",
   "execution_count": null,
   "id": "0ecb370a-9420-4fb8-a6e5-285fbe6b8ecf",
   "metadata": {},
   "outputs": [],
   "source": [
    "BL2"
   ]
  }
 ],
 "metadata": {
  "kernelspec": {
   "display_name": "Python 3 (ipykernel)",
   "language": "python",
   "name": "python3"
  },
  "language_info": {
   "codemirror_mode": {
    "name": "ipython",
    "version": 3
   },
   "file_extension": ".py",
   "mimetype": "text/x-python",
   "name": "python",
   "nbconvert_exporter": "python",
   "pygments_lexer": "ipython3",
   "version": "3.10.4"
  }
 },
 "nbformat": 4,
 "nbformat_minor": 5
}
